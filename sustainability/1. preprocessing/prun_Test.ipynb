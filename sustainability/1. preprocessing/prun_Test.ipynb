{
 "cells": [
  {
   "cell_type": "code",
   "execution_count": 1,
   "metadata": {
    "ExecuteTime": {
     "end_time": "2022-02-08T07:06:16.994001Z",
     "start_time": "2022-02-08T07:06:16.990413Z"
    }
   },
   "outputs": [
    {
     "name": "stderr",
     "output_type": "stream",
     "text": [
      "UsageError: Line magic function `%wa` not found.\n"
     ]
    }
   ],
   "source": [
    "%wa"
   ]
  },
  {
   "cell_type": "code",
   "execution_count": 2,
   "metadata": {
    "ExecuteTime": {
     "end_time": "2022-02-08T07:06:38.889591Z",
     "start_time": "2022-02-08T07:06:38.887800Z"
    }
   },
   "outputs": [],
   "source": [
    "import time"
   ]
  },
  {
   "cell_type": "code",
   "execution_count": 3,
   "metadata": {
    "ExecuteTime": {
     "end_time": "2022-02-08T07:06:44.407019Z",
     "start_time": "2022-02-08T07:06:44.399263Z"
    },
    "scrolled": true
   },
   "outputs": [
    {
     "data": {
      "text/plain": [
       "['CLOCK_MONOTONIC',\n",
       " 'CLOCK_MONOTONIC_RAW',\n",
       " 'CLOCK_PROCESS_CPUTIME_ID',\n",
       " 'CLOCK_REALTIME',\n",
       " 'CLOCK_THREAD_CPUTIME_ID',\n",
       " '_STRUCT_TM_ITEMS',\n",
       " '__doc__',\n",
       " '__loader__',\n",
       " '__name__',\n",
       " '__package__',\n",
       " '__spec__',\n",
       " 'altzone',\n",
       " 'asctime',\n",
       " 'clock_getres',\n",
       " 'clock_gettime',\n",
       " 'clock_gettime_ns',\n",
       " 'clock_settime',\n",
       " 'clock_settime_ns',\n",
       " 'ctime',\n",
       " 'daylight',\n",
       " 'get_clock_info',\n",
       " 'gmtime',\n",
       " 'localtime',\n",
       " 'mktime',\n",
       " 'monotonic',\n",
       " 'monotonic_ns',\n",
       " 'perf_counter',\n",
       " 'perf_counter_ns',\n",
       " 'process_time',\n",
       " 'process_time_ns',\n",
       " 'pthread_getcpuclockid',\n",
       " 'sleep',\n",
       " 'strftime',\n",
       " 'strptime',\n",
       " 'struct_time',\n",
       " 'thread_time',\n",
       " 'thread_time_ns',\n",
       " 'time',\n",
       " 'time_ns',\n",
       " 'timezone',\n",
       " 'tzname',\n",
       " 'tzset']"
      ]
     },
     "execution_count": 3,
     "metadata": {},
     "output_type": "execute_result"
    }
   ],
   "source": [
    "dir(time)"
   ]
  },
  {
   "cell_type": "code",
   "execution_count": 6,
   "metadata": {
    "ExecuteTime": {
     "end_time": "2022-02-08T07:10:13.520948Z",
     "start_time": "2022-02-08T07:10:13.519248Z"
    }
   },
   "outputs": [],
   "source": [
    "import pstats"
   ]
  },
  {
   "cell_type": "code",
   "execution_count": 7,
   "metadata": {
    "ExecuteTime": {
     "end_time": "2022-02-08T07:10:20.049842Z",
     "start_time": "2022-02-08T07:10:20.047031Z"
    }
   },
   "outputs": [
    {
     "data": {
      "text/plain": [
       "['Enum',\n",
       " 'SortKey',\n",
       " 'Stats',\n",
       " 'TupleComp',\n",
       " '__all__',\n",
       " '__builtins__',\n",
       " '__cached__',\n",
       " '__doc__',\n",
       " '__file__',\n",
       " '__loader__',\n",
       " '__name__',\n",
       " '__package__',\n",
       " '__spec__',\n",
       " 'add_callers',\n",
       " 'add_func_stats',\n",
       " 'cmp_to_key',\n",
       " 'count_calls',\n",
       " 'f8',\n",
       " 'func_get_function_name',\n",
       " 'func_std_string',\n",
       " 'func_strip_path',\n",
       " 'marshal',\n",
       " 'os',\n",
       " 're',\n",
       " 'sys',\n",
       " 'time']"
      ]
     },
     "execution_count": 7,
     "metadata": {},
     "output_type": "execute_result"
    }
   ],
   "source": [
    "dir(pstats)"
   ]
  },
  {
   "cell_type": "code",
   "execution_count": 9,
   "metadata": {
    "ExecuteTime": {
     "end_time": "2022-02-08T07:36:13.247674Z",
     "start_time": "2022-02-08T07:36:13.245132Z"
    }
   },
   "outputs": [
    {
     "name": "stdout",
     "output_type": "stream",
     "text": [
      " "
     ]
    }
   ],
   "source": [
    "%prun\n",
    "\n",
    "import os"
   ]
  },
  {
   "cell_type": "code",
   "execution_count": 1,
   "metadata": {
    "ExecuteTime": {
     "end_time": "2022-02-08T07:41:59.514682Z",
     "start_time": "2022-02-08T07:41:59.512116Z"
    }
   },
   "outputs": [],
   "source": [
    "import os"
   ]
  },
  {
   "cell_type": "code",
   "execution_count": 4,
   "metadata": {
    "ExecuteTime": {
     "end_time": "2022-02-08T07:43:32.047053Z",
     "start_time": "2022-02-08T07:43:32.044722Z"
    }
   },
   "outputs": [],
   "source": [
    "def test():\n",
    "    fd = os.open(\"/mnt/nas/0.Dataset/AndroZoo/2014/features/api/benign/com.teamtop3.fknyj.mi_26C2BAE13E3B6005F12ED404DF426FE5.txt\", os.O_RDONLY)\n",
    "\n",
    "def test2():\n",
    "    os.close(fd)"
   ]
  },
  {
   "cell_type": "code",
   "execution_count": 23,
   "metadata": {
    "ExecuteTime": {
     "end_time": "2022-02-08T08:02:17.579010Z",
     "start_time": "2022-02-08T08:02:17.508818Z"
    }
   },
   "outputs": [
    {
     "name": "stdout",
     "output_type": "stream",
     "text": [
      " "
     ]
    }
   ],
   "source": [
    "%prun test()"
   ]
  },
  {
   "cell_type": "code",
   "execution_count": 24,
   "metadata": {
    "ExecuteTime": {
     "end_time": "2022-02-08T08:02:22.706944Z",
     "start_time": "2022-02-08T08:02:22.701415Z"
    }
   },
   "outputs": [
    {
     "name": "stdout",
     "output_type": "stream",
     "text": [
      " "
     ]
    }
   ],
   "source": [
    "%prun test2()"
   ]
  },
  {
   "cell_type": "code",
   "execution_count": 15,
   "metadata": {
    "ExecuteTime": {
     "end_time": "2022-02-08T07:54:19.667531Z",
     "start_time": "2022-02-08T07:54:19.665187Z"
    }
   },
   "outputs": [],
   "source": [
    "def test_b():\n",
    "    with open(\"/mnt/nas/0.Dataset/AndroZoo/2014/features/api/benign/com.teamtop3.fknyj.mi_26C2BAE13E3B6005F12ED404DF426FE5.txt\", 'r') as f:\n",
    "            for i in f.readlines():\n",
    "                i.strip()\n",
    "    return"
   ]
  },
  {
   "cell_type": "code",
   "execution_count": 25,
   "metadata": {
    "ExecuteTime": {
     "end_time": "2022-02-08T08:02:27.272578Z",
     "start_time": "2022-02-08T08:02:27.187125Z"
    }
   },
   "outputs": [
    {
     "name": "stdout",
     "output_type": "stream",
     "text": [
      " "
     ]
    }
   ],
   "source": [
    "%prun test_b()"
   ]
  },
  {
   "cell_type": "code",
   "execution_count": null,
   "metadata": {},
   "outputs": [],
   "source": []
  },
  {
   "cell_type": "code",
   "execution_count": null,
   "metadata": {},
   "outputs": [],
   "source": []
  },
  {
   "cell_type": "code",
   "execution_count": null,
   "metadata": {},
   "outputs": [],
   "source": []
  },
  {
   "cell_type": "code",
   "execution_count": null,
   "metadata": {},
   "outputs": [],
   "source": []
  },
  {
   "cell_type": "code",
   "execution_count": 26,
   "metadata": {
    "ExecuteTime": {
     "end_time": "2022-02-08T08:05:47.384192Z",
     "start_time": "2022-02-08T08:05:47.371349Z"
    }
   },
   "outputs": [],
   "source": [
    "import subprocess, csv\n",
    "import os, sys\n",
    "import csv"
   ]
  },
  {
   "cell_type": "code",
   "execution_count": 27,
   "metadata": {
    "ExecuteTime": {
     "end_time": "2022-02-08T08:06:07.064627Z",
     "start_time": "2022-02-08T08:06:04.370862Z"
    }
   },
   "outputs": [],
   "source": [
    "import pandas as pd\n",
    "import numpy as np"
   ]
  },
  {
   "cell_type": "code",
   "execution_count": 28,
   "metadata": {
    "ExecuteTime": {
     "end_time": "2022-02-08T08:06:10.501112Z",
     "start_time": "2022-02-08T08:06:10.498799Z"
    }
   },
   "outputs": [],
   "source": [
    "def extract_name(feature_dir):\n",
    "    # '.txt' 문자 제거하고 이름만 남긴 리스트 반환\n",
    "    apknames = os.listdir(feature_dir)\n",
    "    for i in range(len(apknames)):\n",
    "        apknames[i] = apknames[i][:-4]\n",
    "    return apknames"
   ]
  },
  {
   "cell_type": "code",
   "execution_count": 29,
   "metadata": {
    "ExecuteTime": {
     "end_time": "2022-02-08T08:06:15.318370Z",
     "start_time": "2022-02-08T08:06:15.315817Z"
    }
   },
   "outputs": [],
   "source": [
    "# csv로 나올 vector table 0으로 초기화\n",
    "def init_vector_table(column_name, row_name, feature = \"Permission\"):\n",
    "    vector_table = pd.DataFrame(columns = column_name, index = row_name)\n",
    "    vector_table.index.name = \"apkname\"\n",
    "    vector_table.columns.name = feature\n",
    "    vector_table.iloc[:,:] = 0\n",
    "    return vector_table"
   ]
  },
  {
   "cell_type": "code",
   "execution_count": 30,
   "metadata": {
    "ExecuteTime": {
     "end_time": "2022-02-08T08:06:24.142679Z",
     "start_time": "2022-02-08T08:06:24.139961Z"
    }
   },
   "outputs": [],
   "source": [
    "def count_feature(vector_table, working_dir, preselected_feature):\n",
    "    count = 1\n",
    "    for app in vector_table.index:\n",
    "        print(count, app)\n",
    "        with open(working_dir + app + \".txt\", 'r') as f:\n",
    "            for i in f.readlines():\n",
    "                feature = i.strip()\n",
    "                if feature in preselected_feature:\n",
    "                    vector_table[feature][app] += 1\n",
    "        count += 1\n",
    "    return vector_table"
   ]
  },
  {
   "cell_type": "code",
   "execution_count": 31,
   "metadata": {
    "ExecuteTime": {
     "end_time": "2022-02-08T08:06:28.615616Z",
     "start_time": "2022-02-08T08:06:28.613316Z"
    }
   },
   "outputs": [],
   "source": [
    "def save_csv(vector_table, csv_file_name):\n",
    "    vector_table.to_csv(csv_file_name)\n",
    "    return csv_file_name"
   ]
  },
  {
   "cell_type": "code",
   "execution_count": 35,
   "metadata": {
    "ExecuteTime": {
     "end_time": "2022-02-08T08:07:53.080751Z",
     "start_time": "2022-02-08T08:07:53.069433Z"
    }
   },
   "outputs": [
    {
     "name": "stdout",
     "output_type": "stream",
     "text": [
      "True True\n"
     ]
    }
   ],
   "source": [
    "apis = []\n",
    "with open (\"./dk_api.txt\", \"r\") as f:\n",
    "    for line in f.readlines():\n",
    "        apis.append(line.strip())\n",
    "\n",
    "col_name = apis          # list\n",
    "apis = set(apis)         # set\n",
    "\n",
    "print(len(apis) == 1848, len(col_name) == 1848)\n",
    "\n",
    "for i in col_name:\n",
    "    if i not in apis:\n",
    "        print(\"error\")"
   ]
  },
  {
   "cell_type": "code",
   "execution_count": 32,
   "metadata": {
    "ExecuteTime": {
     "end_time": "2022-02-08T08:06:57.109850Z",
     "start_time": "2022-02-08T08:06:57.107502Z"
    }
   },
   "outputs": [],
   "source": [
    "apk_names = extract_name(\"./txts/\")"
   ]
  },
  {
   "cell_type": "code",
   "execution_count": 34,
   "metadata": {
    "ExecuteTime": {
     "end_time": "2022-02-08T08:07:18.854249Z",
     "start_time": "2022-02-08T08:07:18.850822Z"
    }
   },
   "outputs": [
    {
     "name": "stdout",
     "output_type": "stream",
     "text": [
      " "
     ]
    }
   ],
   "source": [
    "%prun extract_name(\"./txts/\")"
   ]
  },
  {
   "cell_type": "code",
   "execution_count": 36,
   "metadata": {
    "ExecuteTime": {
     "end_time": "2022-02-08T08:07:58.604242Z",
     "start_time": "2022-02-08T08:07:58.530809Z"
    }
   },
   "outputs": [],
   "source": [
    "vector_table = init_vector_table(col_name, apk_names)"
   ]
  },
  {
   "cell_type": "code",
   "execution_count": 37,
   "metadata": {
    "ExecuteTime": {
     "end_time": "2022-02-08T08:08:06.456567Z",
     "start_time": "2022-02-08T08:08:06.035231Z"
    }
   },
   "outputs": [
    {
     "name": "stdout",
     "output_type": "stream",
     "text": [
      " "
     ]
    }
   ],
   "source": [
    "%prun init_vector_table(col_name, apk_names)"
   ]
  },
  {
   "cell_type": "code",
   "execution_count": 39,
   "metadata": {
    "ExecuteTime": {
     "end_time": "2022-02-08T08:10:24.267743Z",
     "start_time": "2022-02-08T08:10:07.314809Z"
    },
    "scrolled": true
   },
   "outputs": [
    {
     "name": "stdout",
     "output_type": "stream",
     "text": [
      "1 air.com.A2144Games.KeepRunning_5BF445DC4C15DD228AB6185F95C0B7AA\n",
      "2 air.com.aoaogame.game185_3E51A39F7C9AA8A10A1A1722ECE8F28F\n",
      "3 air.com.aoaogame.game192_1395D53993366CA3FD574FA5E3EB2BCD\n",
      "4 air.com.aoaogame.game40_6AADB8BB6B3F3CC1A1A7969ACA407AAD\n",
      "5 air.com.ljh.StarJump_9AE23436CA48CE270F749F66CF3D3B74\n",
      "6 air.org.mousebomb.game37_3FF4CFCA32EBC4ACC7174246D9B37D73\n",
      "7 android.handshopping_8C29CF5A8C876B3DA402DB1FAD331A8F\n",
      "8 cn.com.sina.ent_56AD823F6B7080D677811D6217B3F1D1\n",
      "9 cn.com.talkweb.crazymagic.mi_E6852434A724379F6DCC4C11EBA4BB32\n",
      "10 cn.gbos_55C2DB9CABE9E321B5C4690DD59FA70B\n",
      "11 cn.huang.minxinpt_7688CF62EF4F3500ACF4C8B1FF8850CA\n",
      "12 cn.muji.aider.qmdgs_C888081ADF7084A8B19BEEE9AA328AA0\n",
      "13 cn.qfl.meifajie_222A09AD00950292F2375DB185061653\n",
      "14 com.a.currency365en_73E4EA2FC4ECDBF8F900BE11CFAEB6AF\n",
      "15 com.acceleroto.unpossible_4D4528020C058EB18D0E31B2C572ADF0\n",
      "16 com.agrant.dsp.android_C287D9F58110B4AECC31FDBC066F88A6\n",
      "17 com.aoaogame.game177_68BC5F7F606FDDC47D4CC20640036B98\n",
      "18 com.aoaogame.game219_97646ED3DB61740A4181FA2D8940E967\n",
      "19 com.aoaogame.game242_E301E43CB528CD865D06432BD986598E\n",
      "20 com.aoaogame.game266_2ED54ED1BEECBD09CDF7B7F893644016\n",
      "21 com.aoaogame.game312_7C4F17DA91CE72139732A5E0B086E8D8\n",
      "22 com.app.client_B670B478697D2DBC1AB020108C1617F9\n",
      "23 com.appbyme.app66102_FD490D84CA32880F88CDA40E99CD8A1F\n",
      "24 com.appbyme.app80209_19E99331432EA4246BFD9F2CC1C19D13\n",
      "25 com.aurorasilvermi.curling3dpro_8BF83523A5B17E551CDB246B1A88F68D\n",
      "26 com.baidu.youxi.assistant_6538F8279BC1A67FA3F46F96C8D612E0\n",
      "27 com.biyabi.haiwai_53C778DB7A09BAE131F9902292A72EF4\n",
      "28 com.blz.hearthstone_AD652C63FDAFE70C975765B7933B404F\n",
      "29 com.chengqi.android.yysssq_241D46938876E6A9685AC86351F1451A\n",
      "30 com.chinaventure.news.activity_924F608FD46FAEA7E2CAAC80736E3CFE\n",
      "31 com.chuangyuanliu.lifashixzlg_398078B3311E9F01D02840BEA7BB9B91\n",
      "32 com.chunchun.main_02ED17A4891A2AB7AF35022D1D78C9A0\n",
      "33 com.cmeetingphone.main_64166920F5DCA071C7580EE29207ACA4\n",
      "34 com.daeee.shop_5B5CB053BB5EAD082413D9F891F242D0\n",
      "35 com.dmzj.manhua_D3E6590DEEC8BD449B2DB6BD80C19A63\n",
      "36 com.example.searchwlan_691525FA5CEE50D5F2F9EE96915F5743\n",
      "37 com.ezjoynetwork.marbleblast3lcuxjeq_98D90D6A7F292BF100836F0E9D444030\n",
      "38 com.fanyoy.pomelo.game.mi_21D7CA290F215A9898258B2B695492E4\n",
      "39 com.fmbd_B611C2CF2FE82957AF91263039620F66\n",
      "40 com.fox.yhcs.Ami_70DF8A883F060A316C8FA5BEEFE740BE\n",
      "41 com.gameimax.toyrepair_D9A7B033CDA1A1C305CD5B12D39AD685\n",
      "42 com.gikoomlp.phone.midh_D3ACFE98A2DF7908105E42974B84512C\n",
      "43 com.gjf.shaidongdong_4CA0EB23290FB5F4D77BCD6D6895A9C1\n",
      "44 com.gsoftcn.moba.mi_F50043D4F5012CBA73843722F262E8E5\n",
      "45 com.happlestudy.game1.idioms.mi_63E0F6AE95A3C12D17F8A70FE69B19CC\n",
      "46 com.iflytek.hipandahd_E725D0F3661BFBA4CAAEB1B59414D5F4\n",
      "47 com.ilun.secret_FC9EF307BC848BFBAE25FA5DC026DA15\n",
      "48 com.jh.APP79864.news_3BCF65BD2D9E99F6CE9BB7A457CA71C2\n",
      "49 com.jiuban.lottery.screen_DD8395620FA874C859B1972FF2414FD3\n",
      "50 com.joke.baobaojihua_81D8CAD161C370A0D034432A287235C3\n",
      "51 com.kalengo.pairshelper_78B128608EA9F6E8CCCD5B321030F142\n",
      "52 com.kuaishang.semihealthlaji_4C92960D303235D7FD5F119BB817CBF3\n",
      "53 com.lcworld.fenghuang_2747F90093325022A202447874D3687B\n",
      "54 com.limingnuaa.animaladventure_F1CDDAD0A6321798BD32F7445DEA3309\n",
      "55 com.luckywings.sanguo2.mi_E231BC20BBDCD37C712734800192A6A0\n",
      "56 com.mashroomshooting.activity_E05A899DEE2D888702DD675BABADBDD0\n",
      "57 com.mobincube.android.sc_1NS5G_1F4791502C9839AC96529F375BC1E1A0\n",
      "58 com.muyao.uxinjimini.fttk_6223FFDAD454D75FB5ED86E19CE81AC3\n",
      "59 com.nimblebit.nimblequestzzc_B29A8EA2BA8D93A569BEDE18C76547B3\n",
      "60 com.ptteng.tools_08FF66225E79BFFE8B550E9FE36343B8\n",
      "61 com.puntek.xiu.jcsjz_CDCB8FB346C21D6BB7D8F2CA3CA3AB84\n",
      "62 com.qianlife.activity_A0832C64792030960939B053B53F5B75\n",
      "63 com.qixin.gwarwpjuy_E35F9BA53B9E69369AFD70FC46BAA746\n",
      "64 com.senty.android.sanshiliuji_6DE33B5F07A90EC2C1C4DC1A6A5FF5A8\n",
      "65 com.shawanyi_2A366B337705788D0C2B62F83227A8A9\n",
      "66 com.smartdevices.art_3687E7E057D07681954D3E8A91AF161F\n",
      "67 com.ss.android.article.c1007news_11C15269E93F4EE9433B77876C9E53B0\n",
      "68 com.SZRT.klkbzsqfc.mi_EFE3B9B3C44F334ADDA30958AB1DE7FA\n",
      "69 com.szwr.vdaidian_BE42F65152204307B1CE2C5FCD465172\n",
      "70 com.taguage.whatson.selector_472F4C3BAF3FE638089BCE40F8EA4B04\n",
      "71 com.teamtop3.fknyj.mi_26C2BAE13E3B6005F12ED404DF426FE5\n",
      "72 com.tianshenhudong.xianyu.mi_3C12AECD8F9C36519E28B82932A9EB08\n",
      "73 com.toma.lastest_B2B42642A5DB6DE8A541D93733B33F08\n",
      "74 com.tongzhou.kunchong_0E6D03705A8EE7C6BBD2A4C20DCB37D8\n",
      "75 com.VisualColor.babubookSD_E4E212FE97FD97068D973DA6DB80F53C\n",
      "76 com.wanhe.k7couponsHd_28754FE14D626DF96996300AEF89A4F3\n",
      "77 com.witbosoft.jigouce_037DE26EEC6A0E4CC50C9E1944CB03A8\n",
      "78 com.witcare.nfchome_36F29322857DF5589DA492BE21DCD920\n",
      "79 com.wy.gift_ex_FC3BEFE39C3F39A1C5CED1FBE44498CF\n",
      "80 com.xingheng.zhongxiyizhiye_220D822C052FD66DFF99CB42E1544C77\n",
      "81 com.xunyou.dhll_33D2A3E98EF02ABA596A4947DA5A2C49\n",
      "82 com.xunyou.fjdz_F0A654549C724EAF90A6D220B59B65D2\n",
      "83 com.xunyou.ldt_A1EFA4D08C85A53690DFBA4B764DB741\n",
      "84 com.yaloe8195_C831B11298A539AE5BCA3C0A7DED34D4\n",
      "85 com.yeeaooboxzzc_37DD339D653525CAD5F3C664B5A8D177\n",
      "86 com.yipu.fadshionlife_7A4E2A8BCDF7E1D8C33304D4142F09BD\n",
      "87 com.yktx.snake_B7275B1E4C58B7F6BC3525592363DD13\n",
      "88 com.yuandong.yuandongbaby_6489FB7608B1C5FF99F665B30F0BEE17\n",
      "89 com.zskj.ahntc_9BE70C80E6822D03D8D16826558F0E8D\n",
      "90 db.zxy.mi_E7CFC5C0EA62D914C0EB6620D1A7E6F3\n",
      "91 de.godev.thelostsheep_BF64EF7AF80C8549927BE516ABBFA7BD\n",
      "92 dxPanda.starshyyship_A25214892F63B3CBBEA18D14EF0A5686\n",
      "93 net.aungaung.pizzaener_1A1E65D894053DDA0C4C289A99068537\n",
      "94 org.aynsoft.offPlayer_464687F545F8E669F00B6D2C6AE2B3AB\n",
      "95 org.bqjh.game.mi_3A9B22DEBC738BDDA5E470FE0A340EE6\n",
      "96 org.chuangyan.ring.mi_537F827693D20EECEB52C1886FF366E3\n",
      "97 org.zywx.wbpalmstar.widgetone.uex11304827_562DA577AF4973C8882FCDA402A496A7\n",
      "98 Panda.ZXC_92647E1D514495A8C705BEF6D197E80A\n",
      "99 petcircle.ui_B9CE674D6FFB3A3CFB60928C057A9BB5\n",
      "100 qfpay.qmm_AA8F742DBE4C92C2FEA3C198D1D06B47\n"
     ]
    }
   ],
   "source": [
    "counted_table = count_feature(vector_table, \"./txts/\", apis)"
   ]
  },
  {
   "cell_type": "code",
   "execution_count": 40,
   "metadata": {
    "ExecuteTime": {
     "end_time": "2022-02-08T08:12:16.020623Z",
     "start_time": "2022-02-08T08:11:05.370629Z"
    },
    "scrolled": true
   },
   "outputs": [
    {
     "name": "stdout",
     "output_type": "stream",
     "text": [
      "1 air.com.A2144Games.KeepRunning_5BF445DC4C15DD228AB6185F95C0B7AA\n",
      "2 air.com.aoaogame.game185_3E51A39F7C9AA8A10A1A1722ECE8F28F\n",
      "3 air.com.aoaogame.game192_1395D53993366CA3FD574FA5E3EB2BCD\n",
      "4 air.com.aoaogame.game40_6AADB8BB6B3F3CC1A1A7969ACA407AAD\n",
      "5 air.com.ljh.StarJump_9AE23436CA48CE270F749F66CF3D3B74\n",
      "6 air.org.mousebomb.game37_3FF4CFCA32EBC4ACC7174246D9B37D73\n",
      "7 android.handshopping_8C29CF5A8C876B3DA402DB1FAD331A8F\n",
      "8 cn.com.sina.ent_56AD823F6B7080D677811D6217B3F1D1\n",
      "9 cn.com.talkweb.crazymagic.mi_E6852434A724379F6DCC4C11EBA4BB32\n",
      "10 cn.gbos_55C2DB9CABE9E321B5C4690DD59FA70B\n",
      "11 cn.huang.minxinpt_7688CF62EF4F3500ACF4C8B1FF8850CA\n",
      "12 cn.muji.aider.qmdgs_C888081ADF7084A8B19BEEE9AA328AA0\n",
      "13 cn.qfl.meifajie_222A09AD00950292F2375DB185061653\n",
      "14 com.a.currency365en_73E4EA2FC4ECDBF8F900BE11CFAEB6AF\n",
      "15 com.acceleroto.unpossible_4D4528020C058EB18D0E31B2C572ADF0\n",
      "16 com.agrant.dsp.android_C287D9F58110B4AECC31FDBC066F88A6\n",
      "17 com.aoaogame.game177_68BC5F7F606FDDC47D4CC20640036B98\n",
      "18 com.aoaogame.game219_97646ED3DB61740A4181FA2D8940E967\n",
      "19 com.aoaogame.game242_E301E43CB528CD865D06432BD986598E\n",
      "20 com.aoaogame.game266_2ED54ED1BEECBD09CDF7B7F893644016\n",
      "21 com.aoaogame.game312_7C4F17DA91CE72139732A5E0B086E8D8\n",
      "22 com.app.client_B670B478697D2DBC1AB020108C1617F9\n",
      "23 com.appbyme.app66102_FD490D84CA32880F88CDA40E99CD8A1F\n",
      "24 com.appbyme.app80209_19E99331432EA4246BFD9F2CC1C19D13\n",
      "25 com.aurorasilvermi.curling3dpro_8BF83523A5B17E551CDB246B1A88F68D\n",
      "26 com.baidu.youxi.assistant_6538F8279BC1A67FA3F46F96C8D612E0\n",
      "27 com.biyabi.haiwai_53C778DB7A09BAE131F9902292A72EF4\n",
      "28 com.blz.hearthstone_AD652C63FDAFE70C975765B7933B404F\n",
      "29 com.chengqi.android.yysssq_241D46938876E6A9685AC86351F1451A\n",
      "30 com.chinaventure.news.activity_924F608FD46FAEA7E2CAAC80736E3CFE\n",
      "31 com.chuangyuanliu.lifashixzlg_398078B3311E9F01D02840BEA7BB9B91\n",
      "32 com.chunchun.main_02ED17A4891A2AB7AF35022D1D78C9A0\n",
      "33 com.cmeetingphone.main_64166920F5DCA071C7580EE29207ACA4\n",
      "34 com.daeee.shop_5B5CB053BB5EAD082413D9F891F242D0\n",
      "35 com.dmzj.manhua_D3E6590DEEC8BD449B2DB6BD80C19A63\n",
      "36 com.example.searchwlan_691525FA5CEE50D5F2F9EE96915F5743\n",
      "37 com.ezjoynetwork.marbleblast3lcuxjeq_98D90D6A7F292BF100836F0E9D444030\n",
      "38 com.fanyoy.pomelo.game.mi_21D7CA290F215A9898258B2B695492E4\n",
      "39 com.fmbd_B611C2CF2FE82957AF91263039620F66\n",
      "40 com.fox.yhcs.Ami_70DF8A883F060A316C8FA5BEEFE740BE\n",
      "41 com.gameimax.toyrepair_D9A7B033CDA1A1C305CD5B12D39AD685\n",
      "42 com.gikoomlp.phone.midh_D3ACFE98A2DF7908105E42974B84512C\n",
      "43 com.gjf.shaidongdong_4CA0EB23290FB5F4D77BCD6D6895A9C1\n",
      "44 com.gsoftcn.moba.mi_F50043D4F5012CBA73843722F262E8E5\n",
      "45 com.happlestudy.game1.idioms.mi_63E0F6AE95A3C12D17F8A70FE69B19CC\n",
      "46 com.iflytek.hipandahd_E725D0F3661BFBA4CAAEB1B59414D5F4\n",
      "47 com.ilun.secret_FC9EF307BC848BFBAE25FA5DC026DA15\n",
      "48 com.jh.APP79864.news_3BCF65BD2D9E99F6CE9BB7A457CA71C2\n",
      "49 com.jiuban.lottery.screen_DD8395620FA874C859B1972FF2414FD3\n",
      "50 com.joke.baobaojihua_81D8CAD161C370A0D034432A287235C3\n",
      "51 com.kalengo.pairshelper_78B128608EA9F6E8CCCD5B321030F142\n",
      "52 com.kuaishang.semihealthlaji_4C92960D303235D7FD5F119BB817CBF3\n",
      "53 com.lcworld.fenghuang_2747F90093325022A202447874D3687B\n",
      "54 com.limingnuaa.animaladventure_F1CDDAD0A6321798BD32F7445DEA3309\n",
      "55 com.luckywings.sanguo2.mi_E231BC20BBDCD37C712734800192A6A0\n",
      "56 com.mashroomshooting.activity_E05A899DEE2D888702DD675BABADBDD0\n",
      "57 com.mobincube.android.sc_1NS5G_1F4791502C9839AC96529F375BC1E1A0\n",
      "58 com.muyao.uxinjimini.fttk_6223FFDAD454D75FB5ED86E19CE81AC3\n",
      "59 com.nimblebit.nimblequestzzc_B29A8EA2BA8D93A569BEDE18C76547B3\n",
      "60 com.ptteng.tools_08FF66225E79BFFE8B550E9FE36343B8\n",
      "61 com.puntek.xiu.jcsjz_CDCB8FB346C21D6BB7D8F2CA3CA3AB84\n",
      "62 com.qianlife.activity_A0832C64792030960939B053B53F5B75\n",
      "63 com.qixin.gwarwpjuy_E35F9BA53B9E69369AFD70FC46BAA746\n",
      "64 com.senty.android.sanshiliuji_6DE33B5F07A90EC2C1C4DC1A6A5FF5A8\n",
      "65 com.shawanyi_2A366B337705788D0C2B62F83227A8A9\n",
      "66 com.smartdevices.art_3687E7E057D07681954D3E8A91AF161F\n",
      "67 com.ss.android.article.c1007news_11C15269E93F4EE9433B77876C9E53B0\n",
      "68 com.SZRT.klkbzsqfc.mi_EFE3B9B3C44F334ADDA30958AB1DE7FA\n",
      "69 com.szwr.vdaidian_BE42F65152204307B1CE2C5FCD465172\n",
      "70 com.taguage.whatson.selector_472F4C3BAF3FE638089BCE40F8EA4B04\n",
      "71 com.teamtop3.fknyj.mi_26C2BAE13E3B6005F12ED404DF426FE5\n",
      "72 com.tianshenhudong.xianyu.mi_3C12AECD8F9C36519E28B82932A9EB08\n",
      "73 com.toma.lastest_B2B42642A5DB6DE8A541D93733B33F08\n",
      "74 com.tongzhou.kunchong_0E6D03705A8EE7C6BBD2A4C20DCB37D8\n",
      "75 com.VisualColor.babubookSD_E4E212FE97FD97068D973DA6DB80F53C\n",
      "76 com.wanhe.k7couponsHd_28754FE14D626DF96996300AEF89A4F3\n",
      "77 com.witbosoft.jigouce_037DE26EEC6A0E4CC50C9E1944CB03A8\n",
      "78 com.witcare.nfchome_36F29322857DF5589DA492BE21DCD920\n",
      "79 com.wy.gift_ex_FC3BEFE39C3F39A1C5CED1FBE44498CF\n",
      "80 com.xingheng.zhongxiyizhiye_220D822C052FD66DFF99CB42E1544C77\n",
      "81 com.xunyou.dhll_33D2A3E98EF02ABA596A4947DA5A2C49\n",
      "82 com.xunyou.fjdz_F0A654549C724EAF90A6D220B59B65D2\n",
      "83 com.xunyou.ldt_A1EFA4D08C85A53690DFBA4B764DB741\n",
      "84 com.yaloe8195_C831B11298A539AE5BCA3C0A7DED34D4\n",
      "85 com.yeeaooboxzzc_37DD339D653525CAD5F3C664B5A8D177\n",
      "86 com.yipu.fadshionlife_7A4E2A8BCDF7E1D8C33304D4142F09BD\n",
      "87 com.yktx.snake_B7275B1E4C58B7F6BC3525592363DD13\n",
      "88 com.yuandong.yuandongbaby_6489FB7608B1C5FF99F665B30F0BEE17\n",
      "89 com.zskj.ahntc_9BE70C80E6822D03D8D16826558F0E8D\n",
      "90 db.zxy.mi_E7CFC5C0EA62D914C0EB6620D1A7E6F3\n",
      "91 de.godev.thelostsheep_BF64EF7AF80C8549927BE516ABBFA7BD\n",
      "92 dxPanda.starshyyship_A25214892F63B3CBBEA18D14EF0A5686\n",
      "93 net.aungaung.pizzaener_1A1E65D894053DDA0C4C289A99068537\n",
      "94 org.aynsoft.offPlayer_464687F545F8E669F00B6D2C6AE2B3AB\n",
      "95 org.bqjh.game.mi_3A9B22DEBC738BDDA5E470FE0A340EE6\n",
      "96 org.chuangyan.ring.mi_537F827693D20EECEB52C1886FF366E3\n",
      "97 org.zywx.wbpalmstar.widgetone.uex11304827_562DA577AF4973C8882FCDA402A496A7\n",
      "98 Panda.ZXC_92647E1D514495A8C705BEF6D197E80A\n",
      "99 petcircle.ui_B9CE674D6FFB3A3CFB60928C057A9BB5\n",
      "100 qfpay.qmm_AA8F742DBE4C92C2FEA3C198D1D06B47\n",
      " "
     ]
    }
   ],
   "source": [
    "%prun count_feature(vector_table, \"./txts/\", apis)"
   ]
  },
  {
   "cell_type": "code",
   "execution_count": 42,
   "metadata": {
    "ExecuteTime": {
     "end_time": "2022-02-08T10:21:45.614993Z",
     "start_time": "2022-02-08T10:21:45.612647Z"
    }
   },
   "outputs": [],
   "source": [
    "def count_lines(working_dir):\n",
    "    count = 1\n",
    "    answer = 0\n",
    "    for app in apk_names:\n",
    "        print(count, app)\n",
    "        with open(working_dir + app + \".txt\", 'r') as f:\n",
    "            answer += len(f.readlines())\n",
    "        count += 1\n",
    "    return answer"
   ]
  },
  {
   "cell_type": "code",
   "execution_count": 43,
   "metadata": {
    "ExecuteTime": {
     "end_time": "2022-02-08T10:22:07.590905Z",
     "start_time": "2022-02-08T10:22:06.859740Z"
    },
    "scrolled": true
   },
   "outputs": [
    {
     "name": "stdout",
     "output_type": "stream",
     "text": [
      "1 air.com.A2144Games.KeepRunning_5BF445DC4C15DD228AB6185F95C0B7AA\n",
      "2 air.com.aoaogame.game185_3E51A39F7C9AA8A10A1A1722ECE8F28F\n",
      "3 air.com.aoaogame.game192_1395D53993366CA3FD574FA5E3EB2BCD\n",
      "4 air.com.aoaogame.game40_6AADB8BB6B3F3CC1A1A7969ACA407AAD\n",
      "5 air.com.ljh.StarJump_9AE23436CA48CE270F749F66CF3D3B74\n",
      "6 air.org.mousebomb.game37_3FF4CFCA32EBC4ACC7174246D9B37D73\n",
      "7 android.handshopping_8C29CF5A8C876B3DA402DB1FAD331A8F\n",
      "8 cn.com.sina.ent_56AD823F6B7080D677811D6217B3F1D1\n",
      "9 cn.com.talkweb.crazymagic.mi_E6852434A724379F6DCC4C11EBA4BB32\n",
      "10 cn.gbos_55C2DB9CABE9E321B5C4690DD59FA70B\n",
      "11 cn.huang.minxinpt_7688CF62EF4F3500ACF4C8B1FF8850CA\n",
      "12 cn.muji.aider.qmdgs_C888081ADF7084A8B19BEEE9AA328AA0\n",
      "13 cn.qfl.meifajie_222A09AD00950292F2375DB185061653\n",
      "14 com.a.currency365en_73E4EA2FC4ECDBF8F900BE11CFAEB6AF\n",
      "15 com.acceleroto.unpossible_4D4528020C058EB18D0E31B2C572ADF0\n",
      "16 com.agrant.dsp.android_C287D9F58110B4AECC31FDBC066F88A6\n",
      "17 com.aoaogame.game177_68BC5F7F606FDDC47D4CC20640036B98\n",
      "18 com.aoaogame.game219_97646ED3DB61740A4181FA2D8940E967\n",
      "19 com.aoaogame.game242_E301E43CB528CD865D06432BD986598E\n",
      "20 com.aoaogame.game266_2ED54ED1BEECBD09CDF7B7F893644016\n",
      "21 com.aoaogame.game312_7C4F17DA91CE72139732A5E0B086E8D8\n",
      "22 com.app.client_B670B478697D2DBC1AB020108C1617F9\n",
      "23 com.appbyme.app66102_FD490D84CA32880F88CDA40E99CD8A1F\n",
      "24 com.appbyme.app80209_19E99331432EA4246BFD9F2CC1C19D13\n",
      "25 com.aurorasilvermi.curling3dpro_8BF83523A5B17E551CDB246B1A88F68D\n",
      "26 com.baidu.youxi.assistant_6538F8279BC1A67FA3F46F96C8D612E0\n",
      "27 com.biyabi.haiwai_53C778DB7A09BAE131F9902292A72EF4\n",
      "28 com.blz.hearthstone_AD652C63FDAFE70C975765B7933B404F\n",
      "29 com.chengqi.android.yysssq_241D46938876E6A9685AC86351F1451A\n",
      "30 com.chinaventure.news.activity_924F608FD46FAEA7E2CAAC80736E3CFE\n",
      "31 com.chuangyuanliu.lifashixzlg_398078B3311E9F01D02840BEA7BB9B91\n",
      "32 com.chunchun.main_02ED17A4891A2AB7AF35022D1D78C9A0\n",
      "33 com.cmeetingphone.main_64166920F5DCA071C7580EE29207ACA4\n",
      "34 com.daeee.shop_5B5CB053BB5EAD082413D9F891F242D0\n",
      "35 com.dmzj.manhua_D3E6590DEEC8BD449B2DB6BD80C19A63\n",
      "36 com.example.searchwlan_691525FA5CEE50D5F2F9EE96915F5743\n",
      "37 com.ezjoynetwork.marbleblast3lcuxjeq_98D90D6A7F292BF100836F0E9D444030\n",
      "38 com.fanyoy.pomelo.game.mi_21D7CA290F215A9898258B2B695492E4\n",
      "39 com.fmbd_B611C2CF2FE82957AF91263039620F66\n",
      "40 com.fox.yhcs.Ami_70DF8A883F060A316C8FA5BEEFE740BE\n",
      "41 com.gameimax.toyrepair_D9A7B033CDA1A1C305CD5B12D39AD685\n",
      "42 com.gikoomlp.phone.midh_D3ACFE98A2DF7908105E42974B84512C\n",
      "43 com.gjf.shaidongdong_4CA0EB23290FB5F4D77BCD6D6895A9C1\n",
      "44 com.gsoftcn.moba.mi_F50043D4F5012CBA73843722F262E8E5\n",
      "45 com.happlestudy.game1.idioms.mi_63E0F6AE95A3C12D17F8A70FE69B19CC\n",
      "46 com.iflytek.hipandahd_E725D0F3661BFBA4CAAEB1B59414D5F4\n",
      "47 com.ilun.secret_FC9EF307BC848BFBAE25FA5DC026DA15\n",
      "48 com.jh.APP79864.news_3BCF65BD2D9E99F6CE9BB7A457CA71C2\n",
      "49 com.jiuban.lottery.screen_DD8395620FA874C859B1972FF2414FD3\n",
      "50 com.joke.baobaojihua_81D8CAD161C370A0D034432A287235C3\n",
      "51 com.kalengo.pairshelper_78B128608EA9F6E8CCCD5B321030F142\n",
      "52 com.kuaishang.semihealthlaji_4C92960D303235D7FD5F119BB817CBF3\n",
      "53 com.lcworld.fenghuang_2747F90093325022A202447874D3687B\n",
      "54 com.limingnuaa.animaladventure_F1CDDAD0A6321798BD32F7445DEA3309\n",
      "55 com.luckywings.sanguo2.mi_E231BC20BBDCD37C712734800192A6A0\n",
      "56 com.mashroomshooting.activity_E05A899DEE2D888702DD675BABADBDD0\n",
      "57 com.mobincube.android.sc_1NS5G_1F4791502C9839AC96529F375BC1E1A0\n",
      "58 com.muyao.uxinjimini.fttk_6223FFDAD454D75FB5ED86E19CE81AC3\n",
      "59 com.nimblebit.nimblequestzzc_B29A8EA2BA8D93A569BEDE18C76547B3\n",
      "60 com.ptteng.tools_08FF66225E79BFFE8B550E9FE36343B8\n",
      "61 com.puntek.xiu.jcsjz_CDCB8FB346C21D6BB7D8F2CA3CA3AB84\n",
      "62 com.qianlife.activity_A0832C64792030960939B053B53F5B75\n",
      "63 com.qixin.gwarwpjuy_E35F9BA53B9E69369AFD70FC46BAA746\n",
      "64 com.senty.android.sanshiliuji_6DE33B5F07A90EC2C1C4DC1A6A5FF5A8\n",
      "65 com.shawanyi_2A366B337705788D0C2B62F83227A8A9\n",
      "66 com.smartdevices.art_3687E7E057D07681954D3E8A91AF161F\n",
      "67 com.ss.android.article.c1007news_11C15269E93F4EE9433B77876C9E53B0\n",
      "68 com.SZRT.klkbzsqfc.mi_EFE3B9B3C44F334ADDA30958AB1DE7FA\n",
      "69 com.szwr.vdaidian_BE42F65152204307B1CE2C5FCD465172\n",
      "70 com.taguage.whatson.selector_472F4C3BAF3FE638089BCE40F8EA4B04\n",
      "71 com.teamtop3.fknyj.mi_26C2BAE13E3B6005F12ED404DF426FE5\n",
      "72 com.tianshenhudong.xianyu.mi_3C12AECD8F9C36519E28B82932A9EB08\n",
      "73 com.toma.lastest_B2B42642A5DB6DE8A541D93733B33F08\n",
      "74 com.tongzhou.kunchong_0E6D03705A8EE7C6BBD2A4C20DCB37D8\n",
      "75 com.VisualColor.babubookSD_E4E212FE97FD97068D973DA6DB80F53C\n",
      "76 com.wanhe.k7couponsHd_28754FE14D626DF96996300AEF89A4F3\n",
      "77 com.witbosoft.jigouce_037DE26EEC6A0E4CC50C9E1944CB03A8\n",
      "78 com.witcare.nfchome_36F29322857DF5589DA492BE21DCD920\n",
      "79 com.wy.gift_ex_FC3BEFE39C3F39A1C5CED1FBE44498CF\n",
      "80 com.xingheng.zhongxiyizhiye_220D822C052FD66DFF99CB42E1544C77\n",
      "81 com.xunyou.dhll_33D2A3E98EF02ABA596A4947DA5A2C49\n",
      "82 com.xunyou.fjdz_F0A654549C724EAF90A6D220B59B65D2\n",
      "83 com.xunyou.ldt_A1EFA4D08C85A53690DFBA4B764DB741\n",
      "84 com.yaloe8195_C831B11298A539AE5BCA3C0A7DED34D4\n",
      "85 com.yeeaooboxzzc_37DD339D653525CAD5F3C664B5A8D177\n",
      "86 com.yipu.fadshionlife_7A4E2A8BCDF7E1D8C33304D4142F09BD\n",
      "87 com.yktx.snake_B7275B1E4C58B7F6BC3525592363DD13\n",
      "88 com.yuandong.yuandongbaby_6489FB7608B1C5FF99F665B30F0BEE17\n",
      "89 com.zskj.ahntc_9BE70C80E6822D03D8D16826558F0E8D\n",
      "90 db.zxy.mi_E7CFC5C0EA62D914C0EB6620D1A7E6F3\n",
      "91 de.godev.thelostsheep_BF64EF7AF80C8549927BE516ABBFA7BD\n",
      "92 dxPanda.starshyyship_A25214892F63B3CBBEA18D14EF0A5686\n",
      "93 net.aungaung.pizzaener_1A1E65D894053DDA0C4C289A99068537\n",
      "94 org.aynsoft.offPlayer_464687F545F8E669F00B6D2C6AE2B3AB\n",
      "95 org.bqjh.game.mi_3A9B22DEBC738BDDA5E470FE0A340EE6\n",
      "96 org.chuangyan.ring.mi_537F827693D20EECEB52C1886FF366E3\n",
      "97 org.zywx.wbpalmstar.widgetone.uex11304827_562DA577AF4973C8882FCDA402A496A7\n",
      "98 Panda.ZXC_92647E1D514495A8C705BEF6D197E80A\n",
      "99 petcircle.ui_B9CE674D6FFB3A3CFB60928C057A9BB5\n",
      "100 qfpay.qmm_AA8F742DBE4C92C2FEA3C198D1D06B47\n",
      "3649986\n"
     ]
    }
   ],
   "source": [
    "print(count_lines(\"./txts/\"))"
   ]
  },
  {
   "cell_type": "code",
   "execution_count": 45,
   "metadata": {
    "ExecuteTime": {
     "end_time": "2022-02-08T10:22:57.769798Z",
     "start_time": "2022-02-08T10:22:57.755605Z"
    }
   },
   "outputs": [
    {
     "data": {
      "text/plain": [
       "688490.0"
      ]
     },
     "execution_count": 45,
     "metadata": {},
     "output_type": "execute_result"
    }
   ],
   "source": [
    "sum(np.sum(counted_table))"
   ]
  },
  {
   "cell_type": "code",
   "execution_count": 46,
   "metadata": {
    "ExecuteTime": {
     "end_time": "2022-02-08T10:46:31.335191Z",
     "start_time": "2022-02-08T10:46:24.562935Z"
    }
   },
   "outputs": [],
   "source": [
    "import lightgbm as lgb"
   ]
  },
  {
   "cell_type": "code",
   "execution_count": 47,
   "metadata": {
    "ExecuteTime": {
     "end_time": "2022-02-08T10:48:06.096836Z",
     "start_time": "2022-02-08T10:48:05.913350Z"
    }
   },
   "outputs": [],
   "source": [
    "import xgboost"
   ]
  },
  {
   "cell_type": "code",
   "execution_count": null,
   "metadata": {},
   "outputs": [],
   "source": []
  }
 ],
 "metadata": {
  "kernelspec": {
   "display_name": "Python 3",
   "language": "python",
   "name": "python3"
  },
  "language_info": {
   "codemirror_mode": {
    "name": "ipython",
    "version": 3
   },
   "file_extension": ".py",
   "mimetype": "text/x-python",
   "name": "python",
   "nbconvert_exporter": "python",
   "pygments_lexer": "ipython3",
   "version": "3.8.5"
  }
 },
 "nbformat": 4,
 "nbformat_minor": 4
}
