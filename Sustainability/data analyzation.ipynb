{
 "cells": [
  {
   "cell_type": "code",
   "execution_count": 1,
   "metadata": {
    "ExecuteTime": {
     "end_time": "2022-03-10T02:23:32.577020Z",
     "start_time": "2022-03-10T02:23:30.818537Z"
    }
   },
   "outputs": [],
   "source": [
    "import numpy as np\n",
    "import pandas as pd\n",
    "import matplotlib.pyplot as plt"
   ]
  },
  {
   "cell_type": "code",
   "execution_count": null,
   "metadata": {},
   "outputs": [],
   "source": []
  },
  {
   "cell_type": "code",
   "execution_count": null,
   "metadata": {},
   "outputs": [],
   "source": []
  },
  {
   "cell_type": "code",
   "execution_count": 2,
   "metadata": {
    "ExecuteTime": {
     "end_time": "2022-03-08T06:11:13.881431Z",
     "start_time": "2022-03-08T06:11:13.838355Z"
    }
   },
   "outputs": [],
   "source": [
    "ben2014 = pd.read_csv(\"./ben2014_perm.csv\", index_col=0)"
   ]
  },
  {
   "cell_type": "code",
   "execution_count": 3,
   "metadata": {
    "ExecuteTime": {
     "end_time": "2022-03-08T06:11:20.227690Z",
     "start_time": "2022-03-08T06:11:20.214613Z"
    }
   },
   "outputs": [
    {
     "data": {
      "text/html": [
       "<div>\n",
       "<style scoped>\n",
       "    .dataframe tbody tr th:only-of-type {\n",
       "        vertical-align: middle;\n",
       "    }\n",
       "\n",
       "    .dataframe tbody tr th {\n",
       "        vertical-align: top;\n",
       "    }\n",
       "\n",
       "    .dataframe thead th {\n",
       "        text-align: right;\n",
       "    }\n",
       "</style>\n",
       "<table border=\"1\" class=\"dataframe\">\n",
       "  <thead>\n",
       "    <tr style=\"text-align: right;\">\n",
       "      <th></th>\n",
       "      <th>0</th>\n",
       "    </tr>\n",
       "  </thead>\n",
       "  <tbody>\n",
       "    <tr>\n",
       "      <th>com.cy.pjj</th>\n",
       "      <td>1</td>\n",
       "    </tr>\n",
       "    <tr>\n",
       "      <th>android.permission.INTERNET</th>\n",
       "      <td>39861</td>\n",
       "    </tr>\n",
       "    <tr>\n",
       "      <th>android.permission.ACCESS_NETWORK_STATE</th>\n",
       "      <td>36252</td>\n",
       "    </tr>\n",
       "    <tr>\n",
       "      <th>android.permission.INSTALL_PACKAGES</th>\n",
       "      <td>128</td>\n",
       "    </tr>\n",
       "    <tr>\n",
       "      <th>android.permission.WRITE_EXTERNAL_STORAGE</th>\n",
       "      <td>27027</td>\n",
       "    </tr>\n",
       "  </tbody>\n",
       "</table>\n",
       "</div>"
      ],
      "text/plain": [
       "                                               0\n",
       "com.cy.pjj                                     1\n",
       "android.permission.INTERNET                39861\n",
       "android.permission.ACCESS_NETWORK_STATE    36252\n",
       "android.permission.INSTALL_PACKAGES          128\n",
       "android.permission.WRITE_EXTERNAL_STORAGE  27027"
      ]
     },
     "execution_count": 3,
     "metadata": {},
     "output_type": "execute_result"
    }
   ],
   "source": [
    "ben2014.head()"
   ]
  },
  {
   "cell_type": "code",
   "execution_count": 4,
   "metadata": {
    "ExecuteTime": {
     "end_time": "2022-03-08T06:11:35.233458Z",
     "start_time": "2022-03-08T06:11:35.230300Z"
    }
   },
   "outputs": [
    {
     "data": {
      "text/plain": [
       "array([[    1],\n",
       "       [39861],\n",
       "       [36252],\n",
       "       ...,\n",
       "       [    1],\n",
       "       [    2],\n",
       "       [    2]])"
      ]
     },
     "execution_count": 4,
     "metadata": {},
     "output_type": "execute_result"
    }
   ],
   "source": [
    "np.sort(ben2014)"
   ]
  },
  {
   "cell_type": "code",
   "execution_count": 5,
   "metadata": {
    "ExecuteTime": {
     "end_time": "2022-03-08T06:11:50.271079Z",
     "start_time": "2022-03-08T06:11:50.254206Z"
    }
   },
   "outputs": [
    {
     "data": {
      "text/html": [
       "<div>\n",
       "<style scoped>\n",
       "    .dataframe tbody tr th:only-of-type {\n",
       "        vertical-align: middle;\n",
       "    }\n",
       "\n",
       "    .dataframe tbody tr th {\n",
       "        vertical-align: top;\n",
       "    }\n",
       "\n",
       "    .dataframe thead th {\n",
       "        text-align: right;\n",
       "    }\n",
       "</style>\n",
       "<table border=\"1\" class=\"dataframe\">\n",
       "  <thead>\n",
       "    <tr style=\"text-align: right;\">\n",
       "      <th></th>\n",
       "      <th>com.cy.pjj</th>\n",
       "      <th>android.permission.INTERNET</th>\n",
       "      <th>android.permission.ACCESS_NETWORK_STATE</th>\n",
       "      <th>android.permission.INSTALL_PACKAGES</th>\n",
       "      <th>android.permission.WRITE_EXTERNAL_STORAGE</th>\n",
       "      <th>android.permission.READ_PHONE_STATE</th>\n",
       "      <th>android.permission.ACCESS_WIFI_STATE</th>\n",
       "      <th>android.permission.RECEIVE_BOOT_COMPLETED</th>\n",
       "      <th>game.sdk.permission.broadcast.com.cy.pjj</th>\n",
       "      <th>android.permission.MOUNT_UNMOUNT_FILESYSTEMS</th>\n",
       "      <th>...</th>\n",
       "      <th>jp.mixi.permission.MIXI_AUTHENTICATOR_ACCESS</th>\n",
       "      <th>com.felicanetworks.mfc.permission.MFC_ACCESS</th>\n",
       "      <th>cn.apps123.shell.zhangshangfuzhuangjiagongwang</th>\n",
       "      <th>cn.apps123.shell.zhangshangfuzhuangjiagongwang.permission.MAPS_RECEIVE</th>\n",
       "      <th>tw.appmakertw.com.a347</th>\n",
       "      <th>tw.appmakertw.com.a347.permission.C2D_MESSAGE</th>\n",
       "      <th>tw.appmakertw.com.a347.permission.MAPS_RECEIVE</th>\n",
       "      <th>tw.appmakertw.com.a424</th>\n",
       "      <th>tw.appmakertw.com.a424.permission.C2D_MESSAGE</th>\n",
       "      <th>tw.appmakertw.com.a424.permission.MAPS_RECEIVE</th>\n",
       "    </tr>\n",
       "  </thead>\n",
       "  <tbody>\n",
       "    <tr>\n",
       "      <th>0</th>\n",
       "      <td>1</td>\n",
       "      <td>39861</td>\n",
       "      <td>36252</td>\n",
       "      <td>128</td>\n",
       "      <td>27027</td>\n",
       "      <td>16504</td>\n",
       "      <td>14394</td>\n",
       "      <td>5977</td>\n",
       "      <td>2</td>\n",
       "      <td>2403</td>\n",
       "      <td>...</td>\n",
       "      <td>1</td>\n",
       "      <td>1</td>\n",
       "      <td>1</td>\n",
       "      <td>2</td>\n",
       "      <td>1</td>\n",
       "      <td>2</td>\n",
       "      <td>2</td>\n",
       "      <td>1</td>\n",
       "      <td>2</td>\n",
       "      <td>2</td>\n",
       "    </tr>\n",
       "  </tbody>\n",
       "</table>\n",
       "<p>1 rows × 51791 columns</p>\n",
       "</div>"
      ],
      "text/plain": [
       "   com.cy.pjj  android.permission.INTERNET  \\\n",
       "0           1                        39861   \n",
       "\n",
       "   android.permission.ACCESS_NETWORK_STATE  \\\n",
       "0                                    36252   \n",
       "\n",
       "   android.permission.INSTALL_PACKAGES  \\\n",
       "0                                  128   \n",
       "\n",
       "   android.permission.WRITE_EXTERNAL_STORAGE  \\\n",
       "0                                      27027   \n",
       "\n",
       "   android.permission.READ_PHONE_STATE  android.permission.ACCESS_WIFI_STATE  \\\n",
       "0                                16504                                 14394   \n",
       "\n",
       "   android.permission.RECEIVE_BOOT_COMPLETED  \\\n",
       "0                                       5977   \n",
       "\n",
       "   game.sdk.permission.broadcast.com.cy.pjj  \\\n",
       "0                                         2   \n",
       "\n",
       "   android.permission.MOUNT_UNMOUNT_FILESYSTEMS  ...  \\\n",
       "0                                          2403  ...   \n",
       "\n",
       "   jp.mixi.permission.MIXI_AUTHENTICATOR_ACCESS  \\\n",
       "0                                             1   \n",
       "\n",
       "   com.felicanetworks.mfc.permission.MFC_ACCESS  \\\n",
       "0                                             1   \n",
       "\n",
       "   cn.apps123.shell.zhangshangfuzhuangjiagongwang  \\\n",
       "0                                               1   \n",
       "\n",
       "   cn.apps123.shell.zhangshangfuzhuangjiagongwang.permission.MAPS_RECEIVE  \\\n",
       "0                                                  2                        \n",
       "\n",
       "   tw.appmakertw.com.a347  tw.appmakertw.com.a347.permission.C2D_MESSAGE  \\\n",
       "0                       1                                              2   \n",
       "\n",
       "   tw.appmakertw.com.a347.permission.MAPS_RECEIVE  tw.appmakertw.com.a424  \\\n",
       "0                                               2                       1   \n",
       "\n",
       "   tw.appmakertw.com.a424.permission.C2D_MESSAGE  \\\n",
       "0                                              2   \n",
       "\n",
       "   tw.appmakertw.com.a424.permission.MAPS_RECEIVE  \n",
       "0                                               2  \n",
       "\n",
       "[1 rows x 51791 columns]"
      ]
     },
     "execution_count": 5,
     "metadata": {},
     "output_type": "execute_result"
    }
   ],
   "source": [
    "ben2014.T"
   ]
  },
  {
   "cell_type": "code",
   "execution_count": 8,
   "metadata": {
    "ExecuteTime": {
     "end_time": "2022-03-08T06:17:23.821532Z",
     "start_time": "2022-03-08T06:17:23.806393Z"
    }
   },
   "outputs": [
    {
     "data": {
      "text/html": [
       "<div>\n",
       "<style scoped>\n",
       "    .dataframe tbody tr th:only-of-type {\n",
       "        vertical-align: middle;\n",
       "    }\n",
       "\n",
       "    .dataframe tbody tr th {\n",
       "        vertical-align: top;\n",
       "    }\n",
       "\n",
       "    .dataframe thead th {\n",
       "        text-align: right;\n",
       "    }\n",
       "</style>\n",
       "<table border=\"1\" class=\"dataframe\">\n",
       "  <thead>\n",
       "    <tr style=\"text-align: right;\">\n",
       "      <th></th>\n",
       "      <th>0</th>\n",
       "    </tr>\n",
       "  </thead>\n",
       "  <tbody>\n",
       "    <tr>\n",
       "      <th>com.cy.pjj</th>\n",
       "      <td>1</td>\n",
       "    </tr>\n",
       "    <tr>\n",
       "      <th>com.pastindo.ikamasosial</th>\n",
       "      <td>1</td>\n",
       "    </tr>\n",
       "    <tr>\n",
       "      <th>com.pasto.pasto</th>\n",
       "      <td>1</td>\n",
       "    </tr>\n",
       "    <tr>\n",
       "      <th>com.patagonia.entertainment</th>\n",
       "      <td>1</td>\n",
       "    </tr>\n",
       "    <tr>\n",
       "      <th>com.path.paperboy</th>\n",
       "      <td>1</td>\n",
       "    </tr>\n",
       "    <tr>\n",
       "      <th>...</th>\n",
       "      <td>...</td>\n",
       "    </tr>\n",
       "    <tr>\n",
       "      <th>android.permission.WAKE_LOCK</th>\n",
       "      <td>15424</td>\n",
       "    </tr>\n",
       "    <tr>\n",
       "      <th>android.permission.READ_PHONE_STATE</th>\n",
       "      <td>16504</td>\n",
       "    </tr>\n",
       "    <tr>\n",
       "      <th>android.permission.WRITE_EXTERNAL_STORAGE</th>\n",
       "      <td>27027</td>\n",
       "    </tr>\n",
       "    <tr>\n",
       "      <th>android.permission.ACCESS_NETWORK_STATE</th>\n",
       "      <td>36252</td>\n",
       "    </tr>\n",
       "    <tr>\n",
       "      <th>android.permission.INTERNET</th>\n",
       "      <td>39861</td>\n",
       "    </tr>\n",
       "  </tbody>\n",
       "</table>\n",
       "<p>51791 rows × 1 columns</p>\n",
       "</div>"
      ],
      "text/plain": [
       "                                               0\n",
       "com.cy.pjj                                     1\n",
       "com.pastindo.ikamasosial                       1\n",
       "com.pasto.pasto                                1\n",
       "com.patagonia.entertainment                    1\n",
       "com.path.paperboy                              1\n",
       "...                                          ...\n",
       "android.permission.WAKE_LOCK               15424\n",
       "android.permission.READ_PHONE_STATE        16504\n",
       "android.permission.WRITE_EXTERNAL_STORAGE  27027\n",
       "android.permission.ACCESS_NETWORK_STATE    36252\n",
       "android.permission.INTERNET                39861\n",
       "\n",
       "[51791 rows x 1 columns]"
      ]
     },
     "execution_count": 8,
     "metadata": {},
     "output_type": "execute_result"
    }
   ],
   "source": [
    "ben2014.sort_values(by=[\"0\"])"
   ]
  },
  {
   "cell_type": "code",
   "execution_count": 11,
   "metadata": {
    "ExecuteTime": {
     "end_time": "2022-03-08T06:17:47.544825Z",
     "start_time": "2022-03-08T06:17:47.534367Z"
    }
   },
   "outputs": [
    {
     "data": {
      "text/html": [
       "<div>\n",
       "<style scoped>\n",
       "    .dataframe tbody tr th:only-of-type {\n",
       "        vertical-align: middle;\n",
       "    }\n",
       "\n",
       "    .dataframe tbody tr th {\n",
       "        vertical-align: top;\n",
       "    }\n",
       "\n",
       "    .dataframe thead th {\n",
       "        text-align: right;\n",
       "    }\n",
       "</style>\n",
       "<table border=\"1\" class=\"dataframe\">\n",
       "  <thead>\n",
       "    <tr style=\"text-align: right;\">\n",
       "      <th></th>\n",
       "      <th>0</th>\n",
       "    </tr>\n",
       "  </thead>\n",
       "  <tbody>\n",
       "    <tr>\n",
       "      <th>android.permission.MODIFY_AUDIO_SETTINGS</th>\n",
       "      <td>1760</td>\n",
       "    </tr>\n",
       "    <tr>\n",
       "      <th>android.permission.USE_CREDENTIALS</th>\n",
       "      <td>1781</td>\n",
       "    </tr>\n",
       "    <tr>\n",
       "      <th>com.android.launcher.permission.INSTALL_SHORTCUT</th>\n",
       "      <td>1825</td>\n",
       "    </tr>\n",
       "    <tr>\n",
       "      <th>android.permission.READ_LOGS</th>\n",
       "      <td>1855</td>\n",
       "    </tr>\n",
       "    <tr>\n",
       "      <th>android.permission.SEND_SMS</th>\n",
       "      <td>2025</td>\n",
       "    </tr>\n",
       "    <tr>\n",
       "      <th>android.permission.SET_WALLPAPER</th>\n",
       "      <td>2031</td>\n",
       "    </tr>\n",
       "    <tr>\n",
       "      <th>android.permission.MOUNT_UNMOUNT_FILESYSTEMS</th>\n",
       "      <td>2403</td>\n",
       "    </tr>\n",
       "    <tr>\n",
       "      <th>android.permission.WRITE_SETTINGS</th>\n",
       "      <td>2652</td>\n",
       "    </tr>\n",
       "    <tr>\n",
       "      <th>android.permission.SYSTEM_ALERT_WINDOW</th>\n",
       "      <td>2893</td>\n",
       "    </tr>\n",
       "    <tr>\n",
       "      <th>android.permission.CHANGE_WIFI_STATE</th>\n",
       "      <td>2910</td>\n",
       "    </tr>\n",
       "    <tr>\n",
       "      <th>android.permission.READ_CONTACTS</th>\n",
       "      <td>3353</td>\n",
       "    </tr>\n",
       "    <tr>\n",
       "      <th>android.permission.RECORD_AUDIO</th>\n",
       "      <td>3410</td>\n",
       "    </tr>\n",
       "    <tr>\n",
       "      <th>com.google.android.providers.gsf.permission.READ_GSERVICES</th>\n",
       "      <td>3813</td>\n",
       "    </tr>\n",
       "    <tr>\n",
       "      <th>com.android.vending.BILLING</th>\n",
       "      <td>3951</td>\n",
       "    </tr>\n",
       "    <tr>\n",
       "      <th>android.permission.CALL_PHONE</th>\n",
       "      <td>4290</td>\n",
       "    </tr>\n",
       "    <tr>\n",
       "      <th>android.permission.READ_EXTERNAL_STORAGE</th>\n",
       "      <td>4411</td>\n",
       "    </tr>\n",
       "    <tr>\n",
       "      <th>android.permission.GET_TASKS</th>\n",
       "      <td>4730</td>\n",
       "    </tr>\n",
       "    <tr>\n",
       "      <th>android.permission.RECEIVE_BOOT_COMPLETED</th>\n",
       "      <td>5977</td>\n",
       "    </tr>\n",
       "    <tr>\n",
       "      <th>android.permission.CAMERA</th>\n",
       "      <td>6591</td>\n",
       "    </tr>\n",
       "    <tr>\n",
       "      <th>com.google.android.c2dm.permission.RECEIVE</th>\n",
       "      <td>9148</td>\n",
       "    </tr>\n",
       "    <tr>\n",
       "      <th>android.permission.GET_ACCOUNTS</th>\n",
       "      <td>10462</td>\n",
       "    </tr>\n",
       "    <tr>\n",
       "      <th>android.permission.ACCESS_COARSE_LOCATION</th>\n",
       "      <td>11181</td>\n",
       "    </tr>\n",
       "    <tr>\n",
       "      <th>android.permission.ACCESS_FINE_LOCATION</th>\n",
       "      <td>11645</td>\n",
       "    </tr>\n",
       "    <tr>\n",
       "      <th>android.permission.VIBRATE</th>\n",
       "      <td>12674</td>\n",
       "    </tr>\n",
       "    <tr>\n",
       "      <th>android.permission.ACCESS_WIFI_STATE</th>\n",
       "      <td>14394</td>\n",
       "    </tr>\n",
       "    <tr>\n",
       "      <th>android.permission.WAKE_LOCK</th>\n",
       "      <td>15424</td>\n",
       "    </tr>\n",
       "    <tr>\n",
       "      <th>android.permission.READ_PHONE_STATE</th>\n",
       "      <td>16504</td>\n",
       "    </tr>\n",
       "    <tr>\n",
       "      <th>android.permission.WRITE_EXTERNAL_STORAGE</th>\n",
       "      <td>27027</td>\n",
       "    </tr>\n",
       "    <tr>\n",
       "      <th>android.permission.ACCESS_NETWORK_STATE</th>\n",
       "      <td>36252</td>\n",
       "    </tr>\n",
       "    <tr>\n",
       "      <th>android.permission.INTERNET</th>\n",
       "      <td>39861</td>\n",
       "    </tr>\n",
       "  </tbody>\n",
       "</table>\n",
       "</div>"
      ],
      "text/plain": [
       "                                                        0\n",
       "android.permission.MODIFY_AUDIO_SETTINGS             1760\n",
       "android.permission.USE_CREDENTIALS                   1781\n",
       "com.android.launcher.permission.INSTALL_SHORTCUT     1825\n",
       "android.permission.READ_LOGS                         1855\n",
       "android.permission.SEND_SMS                          2025\n",
       "android.permission.SET_WALLPAPER                     2031\n",
       "android.permission.MOUNT_UNMOUNT_FILESYSTEMS         2403\n",
       "android.permission.WRITE_SETTINGS                    2652\n",
       "android.permission.SYSTEM_ALERT_WINDOW               2893\n",
       "android.permission.CHANGE_WIFI_STATE                 2910\n",
       "android.permission.READ_CONTACTS                     3353\n",
       "android.permission.RECORD_AUDIO                      3410\n",
       "com.google.android.providers.gsf.permission.REA...   3813\n",
       "com.android.vending.BILLING                          3951\n",
       "android.permission.CALL_PHONE                        4290\n",
       "android.permission.READ_EXTERNAL_STORAGE             4411\n",
       "android.permission.GET_TASKS                         4730\n",
       "android.permission.RECEIVE_BOOT_COMPLETED            5977\n",
       "android.permission.CAMERA                            6591\n",
       "com.google.android.c2dm.permission.RECEIVE           9148\n",
       "android.permission.GET_ACCOUNTS                     10462\n",
       "android.permission.ACCESS_COARSE_LOCATION           11181\n",
       "android.permission.ACCESS_FINE_LOCATION             11645\n",
       "android.permission.VIBRATE                          12674\n",
       "android.permission.ACCESS_WIFI_STATE                14394\n",
       "android.permission.WAKE_LOCK                        15424\n",
       "android.permission.READ_PHONE_STATE                 16504\n",
       "android.permission.WRITE_EXTERNAL_STORAGE           27027\n",
       "android.permission.ACCESS_NETWORK_STATE             36252\n",
       "android.permission.INTERNET                         39861"
      ]
     },
     "execution_count": 11,
     "metadata": {},
     "output_type": "execute_result"
    }
   ],
   "source": [
    "ben2014.sort_values(by=[\"0\"]).tail(30)"
   ]
  },
  {
   "cell_type": "code",
   "execution_count": 22,
   "metadata": {
    "ExecuteTime": {
     "end_time": "2022-03-08T06:53:59.238638Z",
     "start_time": "2022-03-08T06:53:59.229977Z"
    }
   },
   "outputs": [
    {
     "data": {
      "text/html": [
       "<div>\n",
       "<style scoped>\n",
       "    .dataframe tbody tr th:only-of-type {\n",
       "        vertical-align: middle;\n",
       "    }\n",
       "\n",
       "    .dataframe tbody tr th {\n",
       "        vertical-align: top;\n",
       "    }\n",
       "\n",
       "    .dataframe thead th {\n",
       "        text-align: right;\n",
       "    }\n",
       "</style>\n",
       "<table border=\"1\" class=\"dataframe\">\n",
       "  <thead>\n",
       "    <tr style=\"text-align: right;\">\n",
       "      <th></th>\n",
       "      <th>Qunatity</th>\n",
       "    </tr>\n",
       "  </thead>\n",
       "  <tbody>\n",
       "    <tr>\n",
       "      <th>android.permission.CALL_PHONE</th>\n",
       "      <td>623</td>\n",
       "    </tr>\n",
       "    <tr>\n",
       "      <th>android.permission.INTERNET</th>\n",
       "      <td>17540</td>\n",
       "    </tr>\n",
       "    <tr>\n",
       "      <th>android.permission.ACCESS_NETWORK_STATE</th>\n",
       "      <td>17051</td>\n",
       "    </tr>\n",
       "    <tr>\n",
       "      <th>android.permission.VIBRATE</th>\n",
       "      <td>3948</td>\n",
       "    </tr>\n",
       "    <tr>\n",
       "      <th>android.permission.SYSTEM_ALERT_WINDOW</th>\n",
       "      <td>8069</td>\n",
       "    </tr>\n",
       "    <tr>\n",
       "      <th>...</th>\n",
       "      <td>...</td>\n",
       "    </tr>\n",
       "    <tr>\n",
       "      <th>adnroid.permission.CHANGE_WIFI_STATE</th>\n",
       "      <td>1</td>\n",
       "    </tr>\n",
       "    <tr>\n",
       "      <th>com.android.system.permission.C2D_MESSAGE</th>\n",
       "      <td>3</td>\n",
       "    </tr>\n",
       "    <tr>\n",
       "      <th>com.brownmator.venturetweet.permission.C2D_MESSAGE</th>\n",
       "      <td>2</td>\n",
       "    </tr>\n",
       "    <tr>\n",
       "      <th>com.gamevil.punchhero.glo.permission.C2D_MESSAGE</th>\n",
       "      <td>2</td>\n",
       "    </tr>\n",
       "    <tr>\n",
       "      <th>android.permission.SET_POINTER_SPEED</th>\n",
       "      <td>1</td>\n",
       "    </tr>\n",
       "  </tbody>\n",
       "</table>\n",
       "<p>1733 rows × 1 columns</p>\n",
       "</div>"
      ],
      "text/plain": [
       "                                                    Qunatity\n",
       "android.permission.CALL_PHONE                            623\n",
       "android.permission.INTERNET                            17540\n",
       "android.permission.ACCESS_NETWORK_STATE                17051\n",
       "android.permission.VIBRATE                              3948\n",
       "android.permission.SYSTEM_ALERT_WINDOW                  8069\n",
       "...                                                      ...\n",
       "adnroid.permission.CHANGE_WIFI_STATE                       1\n",
       "com.android.system.permission.C2D_MESSAGE                  3\n",
       "com.brownmator.venturetweet.permission.C2D_MESSAGE         2\n",
       "com.gamevil.punchhero.glo.permission.C2D_MESSAGE           2\n",
       "android.permission.SET_POINTER_SPEED                       1\n",
       "\n",
       "[1733 rows x 1 columns]"
      ]
     },
     "execution_count": 22,
     "metadata": {},
     "output_type": "execute_result"
    }
   ],
   "source": [
    "mal2014 = pd.read_csv(\"./mal2014_perm.csv\", index_col=0)\n",
    "mal2014"
   ]
  },
  {
   "cell_type": "code",
   "execution_count": 21,
   "metadata": {
    "ExecuteTime": {
     "end_time": "2022-03-08T06:53:50.312544Z",
     "start_time": "2022-03-08T06:53:50.303315Z"
    }
   },
   "outputs": [
    {
     "data": {
      "text/html": [
       "<div>\n",
       "<style scoped>\n",
       "    .dataframe tbody tr th:only-of-type {\n",
       "        vertical-align: middle;\n",
       "    }\n",
       "\n",
       "    .dataframe tbody tr th {\n",
       "        vertical-align: top;\n",
       "    }\n",
       "\n",
       "    .dataframe thead th {\n",
       "        text-align: right;\n",
       "    }\n",
       "</style>\n",
       "<table border=\"1\" class=\"dataframe\">\n",
       "  <thead>\n",
       "    <tr style=\"text-align: right;\">\n",
       "      <th></th>\n",
       "      <th>Qunatity</th>\n",
       "    </tr>\n",
       "  </thead>\n",
       "  <tbody>\n",
       "    <tr>\n",
       "      <th>android.permission.INTERNET</th>\n",
       "      <td>21565</td>\n",
       "    </tr>\n",
       "    <tr>\n",
       "      <th>android.permission.VIBRATE</th>\n",
       "      <td>6053</td>\n",
       "    </tr>\n",
       "    <tr>\n",
       "      <th>android.permission.CAMERA</th>\n",
       "      <td>1812</td>\n",
       "    </tr>\n",
       "    <tr>\n",
       "      <th>android.permission.WRITE_EXTERNAL_STORAGE</th>\n",
       "      <td>20157</td>\n",
       "    </tr>\n",
       "    <tr>\n",
       "      <th>android.permission.ACCESS_NETWORK_STATE</th>\n",
       "      <td>20924</td>\n",
       "    </tr>\n",
       "    <tr>\n",
       "      <th>...</th>\n",
       "      <td>...</td>\n",
       "    </tr>\n",
       "    <tr>\n",
       "      <th>one.hh.oneclient.permission.MIPUSH_RECEIVE</th>\n",
       "      <td>2</td>\n",
       "    </tr>\n",
       "    <tr>\n",
       "      <th>pts.PhoneGap.namespace_FCZXW111.permission.JPUSH_MESSAGE</th>\n",
       "      <td>2</td>\n",
       "    </tr>\n",
       "    <tr>\n",
       "      <th>tv.pps.mobile.permission.MIPUSH_RECEIVE</th>\n",
       "      <td>2</td>\n",
       "    </tr>\n",
       "    <tr>\n",
       "      <th>vn.apk.store.xwapgiaitri.permission.C2D_MESSAGE</th>\n",
       "      <td>2</td>\n",
       "    </tr>\n",
       "    <tr>\n",
       "      <th>vStudio.Android.Camera360.getui.permission.GetuiService</th>\n",
       "      <td>1</td>\n",
       "    </tr>\n",
       "  </tbody>\n",
       "</table>\n",
       "<p>1883 rows × 1 columns</p>\n",
       "</div>"
      ],
      "text/plain": [
       "                                                    Qunatity\n",
       "android.permission.INTERNET                            21565\n",
       "android.permission.VIBRATE                              6053\n",
       "android.permission.CAMERA                               1812\n",
       "android.permission.WRITE_EXTERNAL_STORAGE              20157\n",
       "android.permission.ACCESS_NETWORK_STATE                20924\n",
       "...                                                      ...\n",
       "one.hh.oneclient.permission.MIPUSH_RECEIVE                 2\n",
       "pts.PhoneGap.namespace_FCZXW111.permission.JPUS...         2\n",
       "tv.pps.mobile.permission.MIPUSH_RECEIVE                    2\n",
       "vn.apk.store.xwapgiaitri.permission.C2D_MESSAGE            2\n",
       "vStudio.Android.Camera360.getui.permission.Getu...         1\n",
       "\n",
       "[1883 rows x 1 columns]"
      ]
     },
     "execution_count": 21,
     "metadata": {},
     "output_type": "execute_result"
    }
   ],
   "source": [
    "mal2015 = pd.read_csv(\"./mal2015_perm.csv\", index_col=0)\n",
    "mal2015"
   ]
  },
  {
   "cell_type": "code",
   "execution_count": 2,
   "metadata": {
    "ExecuteTime": {
     "end_time": "2022-03-10T02:23:45.966019Z",
     "start_time": "2022-03-10T02:23:45.952058Z"
    }
   },
   "outputs": [],
   "source": [
    "import os"
   ]
  },
  {
   "cell_type": "code",
   "execution_count": 24,
   "metadata": {
    "ExecuteTime": {
     "end_time": "2022-03-08T06:58:07.412076Z",
     "start_time": "2022-03-08T06:58:07.405874Z"
    },
    "scrolled": true
   },
   "outputs": [
    {
     "data": {
      "text/html": [
       "<div>\n",
       "<style scoped>\n",
       "    .dataframe tbody tr th:only-of-type {\n",
       "        vertical-align: middle;\n",
       "    }\n",
       "\n",
       "    .dataframe tbody tr th {\n",
       "        vertical-align: top;\n",
       "    }\n",
       "\n",
       "    .dataframe thead th {\n",
       "        text-align: right;\n",
       "    }\n",
       "</style>\n",
       "<table border=\"1\" class=\"dataframe\">\n",
       "  <thead>\n",
       "    <tr style=\"text-align: right;\">\n",
       "      <th></th>\n",
       "      <th>Qunatity</th>\n",
       "    </tr>\n",
       "  </thead>\n",
       "  <tbody>\n",
       "    <tr>\n",
       "      <th>android.permission.RECEIVE_SMS</th>\n",
       "      <td>694</td>\n",
       "    </tr>\n",
       "    <tr>\n",
       "      <th>android.permission.READ_SMS</th>\n",
       "      <td>725</td>\n",
       "    </tr>\n",
       "    <tr>\n",
       "      <th>com.android.vending.BILLING</th>\n",
       "      <td>776</td>\n",
       "    </tr>\n",
       "    <tr>\n",
       "      <th>android.permission.CHANGE_NETWORK_STATE</th>\n",
       "      <td>780</td>\n",
       "    </tr>\n",
       "    <tr>\n",
       "      <th>android.permission.READ_LOGS</th>\n",
       "      <td>1093</td>\n",
       "    </tr>\n",
       "    <tr>\n",
       "      <th>android.permission.SEND_SMS</th>\n",
       "      <td>1109</td>\n",
       "    </tr>\n",
       "    <tr>\n",
       "      <th>android.permission.ACCESS_LOCATION_EXTRA_COMMANDS</th>\n",
       "      <td>1118</td>\n",
       "    </tr>\n",
       "    <tr>\n",
       "      <th>com.google.android.c2dm.permission.RECEIVE</th>\n",
       "      <td>1123</td>\n",
       "    </tr>\n",
       "    <tr>\n",
       "      <th>android.permission.WRITE_SETTINGS</th>\n",
       "      <td>1123</td>\n",
       "    </tr>\n",
       "    <tr>\n",
       "      <th>android.permission.CAMERA</th>\n",
       "      <td>1188</td>\n",
       "    </tr>\n",
       "    <tr>\n",
       "      <th>android.permission.RECORD_AUDIO</th>\n",
       "      <td>1419</td>\n",
       "    </tr>\n",
       "    <tr>\n",
       "      <th>android.permission.RESTART_PACKAGES</th>\n",
       "      <td>1497</td>\n",
       "    </tr>\n",
       "    <tr>\n",
       "      <th>android.permission.READ_EXTERNAL_STORAGE</th>\n",
       "      <td>1651</td>\n",
       "    </tr>\n",
       "    <tr>\n",
       "      <th>android.permission.DOWNLOAD_WITHOUT_NOTIFICATION</th>\n",
       "      <td>1684</td>\n",
       "    </tr>\n",
       "    <tr>\n",
       "      <th>android.permission.GET_ACCOUNTS</th>\n",
       "      <td>1934</td>\n",
       "    </tr>\n",
       "    <tr>\n",
       "      <th>android.permission.CHANGE_WIFI_STATE</th>\n",
       "      <td>2471</td>\n",
       "    </tr>\n",
       "    <tr>\n",
       "      <th>com.android.launcher.permission.INSTALL_SHORTCUT</th>\n",
       "      <td>3596</td>\n",
       "    </tr>\n",
       "    <tr>\n",
       "      <th>android.permission.MOUNT_UNMOUNT_FILESYSTEMS</th>\n",
       "      <td>3774</td>\n",
       "    </tr>\n",
       "    <tr>\n",
       "      <th>android.permission.VIBRATE</th>\n",
       "      <td>3948</td>\n",
       "    </tr>\n",
       "    <tr>\n",
       "      <th>android.permission.ACCESS_FINE_LOCATION</th>\n",
       "      <td>4932</td>\n",
       "    </tr>\n",
       "    <tr>\n",
       "      <th>android.permission.RECEIVE_BOOT_COMPLETED</th>\n",
       "      <td>5282</td>\n",
       "    </tr>\n",
       "    <tr>\n",
       "      <th>android.permission.ACCESS_COARSE_LOCATION</th>\n",
       "      <td>5601</td>\n",
       "    </tr>\n",
       "    <tr>\n",
       "      <th>android.permission.WAKE_LOCK</th>\n",
       "      <td>6513</td>\n",
       "    </tr>\n",
       "    <tr>\n",
       "      <th>android.permission.SYSTEM_ALERT_WINDOW</th>\n",
       "      <td>8069</td>\n",
       "    </tr>\n",
       "    <tr>\n",
       "      <th>android.permission.GET_TASKS</th>\n",
       "      <td>8103</td>\n",
       "    </tr>\n",
       "    <tr>\n",
       "      <th>android.permission.ACCESS_WIFI_STATE</th>\n",
       "      <td>14056</td>\n",
       "    </tr>\n",
       "    <tr>\n",
       "      <th>android.permission.READ_PHONE_STATE</th>\n",
       "      <td>15430</td>\n",
       "    </tr>\n",
       "    <tr>\n",
       "      <th>android.permission.WRITE_EXTERNAL_STORAGE</th>\n",
       "      <td>15600</td>\n",
       "    </tr>\n",
       "    <tr>\n",
       "      <th>android.permission.ACCESS_NETWORK_STATE</th>\n",
       "      <td>17051</td>\n",
       "    </tr>\n",
       "    <tr>\n",
       "      <th>android.permission.INTERNET</th>\n",
       "      <td>17540</td>\n",
       "    </tr>\n",
       "  </tbody>\n",
       "</table>\n",
       "</div>"
      ],
      "text/plain": [
       "                                                   Qunatity\n",
       "android.permission.RECEIVE_SMS                          694\n",
       "android.permission.READ_SMS                             725\n",
       "com.android.vending.BILLING                             776\n",
       "android.permission.CHANGE_NETWORK_STATE                 780\n",
       "android.permission.READ_LOGS                           1093\n",
       "android.permission.SEND_SMS                            1109\n",
       "android.permission.ACCESS_LOCATION_EXTRA_COMMANDS      1118\n",
       "com.google.android.c2dm.permission.RECEIVE             1123\n",
       "android.permission.WRITE_SETTINGS                      1123\n",
       "android.permission.CAMERA                              1188\n",
       "android.permission.RECORD_AUDIO                        1419\n",
       "android.permission.RESTART_PACKAGES                    1497\n",
       "android.permission.READ_EXTERNAL_STORAGE               1651\n",
       "android.permission.DOWNLOAD_WITHOUT_NOTIFICATION       1684\n",
       "android.permission.GET_ACCOUNTS                        1934\n",
       "android.permission.CHANGE_WIFI_STATE                   2471\n",
       "com.android.launcher.permission.INSTALL_SHORTCUT       3596\n",
       "android.permission.MOUNT_UNMOUNT_FILESYSTEMS           3774\n",
       "android.permission.VIBRATE                             3948\n",
       "android.permission.ACCESS_FINE_LOCATION                4932\n",
       "android.permission.RECEIVE_BOOT_COMPLETED              5282\n",
       "android.permission.ACCESS_COARSE_LOCATION              5601\n",
       "android.permission.WAKE_LOCK                           6513\n",
       "android.permission.SYSTEM_ALERT_WINDOW                 8069\n",
       "android.permission.GET_TASKS                           8103\n",
       "android.permission.ACCESS_WIFI_STATE                  14056\n",
       "android.permission.READ_PHONE_STATE                   15430\n",
       "android.permission.WRITE_EXTERNAL_STORAGE             15600\n",
       "android.permission.ACCESS_NETWORK_STATE               17051\n",
       "android.permission.INTERNET                           17540"
      ]
     },
     "execution_count": 24,
     "metadata": {},
     "output_type": "execute_result"
    }
   ],
   "source": [
    "mal2014.sort_values(by=[\"Qunatity\"]).tail(30)"
   ]
  },
  {
   "cell_type": "code",
   "execution_count": 29,
   "metadata": {
    "ExecuteTime": {
     "end_time": "2022-03-08T07:01:51.545278Z",
     "start_time": "2022-03-08T07:01:51.541703Z"
    },
    "scrolled": true
   },
   "outputs": [
    {
     "data": {
      "text/plain": [
       "pandas.core.series.Series"
      ]
     },
     "execution_count": 29,
     "metadata": {},
     "output_type": "execute_result"
    }
   ],
   "source": [
    "mal2014[\"Qunatity\"].sort_values()"
   ]
  },
  {
   "cell_type": "code",
   "execution_count": 31,
   "metadata": {
    "ExecuteTime": {
     "end_time": "2022-03-08T07:02:57.376727Z",
     "start_time": "2022-03-08T07:02:57.374010Z"
    }
   },
   "outputs": [
    {
     "data": {
      "text/plain": [
       "1733"
      ]
     },
     "execution_count": 31,
     "metadata": {},
     "output_type": "execute_result"
    }
   ],
   "source": [
    "len(mal2014)"
   ]
  },
  {
   "cell_type": "code",
   "execution_count": 32,
   "metadata": {
    "ExecuteTime": {
     "end_time": "2022-03-08T07:03:24.885198Z",
     "start_time": "2022-03-08T07:03:24.878346Z"
    },
    "scrolled": true
   },
   "outputs": [
    {
     "data": {
      "text/plain": [
       "['T',\n",
       " '_AXIS_LEN',\n",
       " '_AXIS_NAMES',\n",
       " '_AXIS_NUMBERS',\n",
       " '_AXIS_ORDERS',\n",
       " '_AXIS_REVERSED',\n",
       " '_AXIS_TO_AXIS_NUMBER',\n",
       " '_HANDLED_TYPES',\n",
       " '__abs__',\n",
       " '__add__',\n",
       " '__and__',\n",
       " '__annotations__',\n",
       " '__array__',\n",
       " '__array_priority__',\n",
       " '__array_ufunc__',\n",
       " '__array_wrap__',\n",
       " '__bool__',\n",
       " '__class__',\n",
       " '__contains__',\n",
       " '__copy__',\n",
       " '__deepcopy__',\n",
       " '__delattr__',\n",
       " '__delitem__',\n",
       " '__dict__',\n",
       " '__dir__',\n",
       " '__div__',\n",
       " '__divmod__',\n",
       " '__doc__',\n",
       " '__eq__',\n",
       " '__finalize__',\n",
       " '__float__',\n",
       " '__floordiv__',\n",
       " '__format__',\n",
       " '__ge__',\n",
       " '__getattr__',\n",
       " '__getattribute__',\n",
       " '__getitem__',\n",
       " '__getstate__',\n",
       " '__gt__',\n",
       " '__hash__',\n",
       " '__iadd__',\n",
       " '__iand__',\n",
       " '__ifloordiv__',\n",
       " '__imod__',\n",
       " '__imul__',\n",
       " '__init__',\n",
       " '__init_subclass__',\n",
       " '__int__',\n",
       " '__invert__',\n",
       " '__ior__',\n",
       " '__ipow__',\n",
       " '__isub__',\n",
       " '__iter__',\n",
       " '__itruediv__',\n",
       " '__ixor__',\n",
       " '__le__',\n",
       " '__len__',\n",
       " '__long__',\n",
       " '__lt__',\n",
       " '__matmul__',\n",
       " '__mod__',\n",
       " '__module__',\n",
       " '__mul__',\n",
       " '__ne__',\n",
       " '__neg__',\n",
       " '__new__',\n",
       " '__nonzero__',\n",
       " '__or__',\n",
       " '__pos__',\n",
       " '__pow__',\n",
       " '__radd__',\n",
       " '__rand__',\n",
       " '__rdiv__',\n",
       " '__rdivmod__',\n",
       " '__reduce__',\n",
       " '__reduce_ex__',\n",
       " '__repr__',\n",
       " '__rfloordiv__',\n",
       " '__rmatmul__',\n",
       " '__rmod__',\n",
       " '__rmul__',\n",
       " '__ror__',\n",
       " '__round__',\n",
       " '__rpow__',\n",
       " '__rsub__',\n",
       " '__rtruediv__',\n",
       " '__rxor__',\n",
       " '__setattr__',\n",
       " '__setitem__',\n",
       " '__setstate__',\n",
       " '__sizeof__',\n",
       " '__str__',\n",
       " '__sub__',\n",
       " '__subclasshook__',\n",
       " '__truediv__',\n",
       " '__weakref__',\n",
       " '__xor__',\n",
       " '_accessors',\n",
       " '_add_numeric_operations',\n",
       " '_add_series_or_dataframe_operations',\n",
       " '_agg_by_level',\n",
       " '_agg_examples_doc',\n",
       " '_agg_see_also_doc',\n",
       " '_aggregate',\n",
       " '_aggregate_multiple_funcs',\n",
       " '_align_frame',\n",
       " '_align_series',\n",
       " '_binop',\n",
       " '_builtin_table',\n",
       " '_can_hold_na',\n",
       " '_check_inplace_setting',\n",
       " '_check_is_chained_assignment_possible',\n",
       " '_check_label_or_level_ambiguity',\n",
       " '_check_setitem_copy',\n",
       " '_clear_item_cache',\n",
       " '_clip_with_one_bound',\n",
       " '_clip_with_scalar',\n",
       " '_consolidate',\n",
       " '_consolidate_inplace',\n",
       " '_construct_axes_dict',\n",
       " '_construct_axes_from_arguments',\n",
       " '_construct_result',\n",
       " '_constructor',\n",
       " '_constructor_expanddim',\n",
       " '_constructor_sliced',\n",
       " '_convert',\n",
       " '_convert_dtypes',\n",
       " '_cython_table',\n",
       " '_data',\n",
       " '_deprecations',\n",
       " '_dir_additions',\n",
       " '_dir_deletions',\n",
       " '_drop_axis',\n",
       " '_drop_labels_or_levels',\n",
       " '_find_valid_index',\n",
       " '_get_axis',\n",
       " '_get_axis_name',\n",
       " '_get_axis_number',\n",
       " '_get_axis_resolvers',\n",
       " '_get_block_manager_axis',\n",
       " '_get_bool_data',\n",
       " '_get_cacher',\n",
       " '_get_cleaned_column_resolvers',\n",
       " '_get_cython_func',\n",
       " '_get_index_resolvers',\n",
       " '_get_item_cache',\n",
       " '_get_label_or_level_values',\n",
       " '_get_numeric_data',\n",
       " '_get_value',\n",
       " '_get_values',\n",
       " '_get_values_tuple',\n",
       " '_get_with',\n",
       " '_gotitem',\n",
       " '_index',\n",
       " '_indexed_same',\n",
       " '_info_axis',\n",
       " '_info_axis_name',\n",
       " '_info_axis_number',\n",
       " '_init_dict',\n",
       " '_init_mgr',\n",
       " '_internal_names',\n",
       " '_internal_names_set',\n",
       " '_is_builtin_func',\n",
       " '_is_cached',\n",
       " '_is_copy',\n",
       " '_is_label_or_level_reference',\n",
       " '_is_label_reference',\n",
       " '_is_level_reference',\n",
       " '_is_mixed_type',\n",
       " '_is_view',\n",
       " '_iset_item',\n",
       " '_ix',\n",
       " '_ixs',\n",
       " '_map_values',\n",
       " '_maybe_cache_changed',\n",
       " '_maybe_update_cacher',\n",
       " '_metadata',\n",
       " '_needs_reindex_multi',\n",
       " '_obj_with_exclusions',\n",
       " '_protect_consolidate',\n",
       " '_reduce',\n",
       " '_reindex_axes',\n",
       " '_reindex_indexer',\n",
       " '_reindex_multi',\n",
       " '_reindex_with_indexers',\n",
       " '_repr_data_resource_',\n",
       " '_repr_latex_',\n",
       " '_reset_cache',\n",
       " '_reset_cacher',\n",
       " '_selected_obj',\n",
       " '_selection',\n",
       " '_selection_list',\n",
       " '_selection_name',\n",
       " '_set_as_cached',\n",
       " '_set_axis',\n",
       " '_set_axis_name',\n",
       " '_set_is_copy',\n",
       " '_set_item',\n",
       " '_set_name',\n",
       " '_set_value',\n",
       " '_set_with',\n",
       " '_set_with_engine',\n",
       " '_slice',\n",
       " '_stat_axis',\n",
       " '_stat_axis_name',\n",
       " '_stat_axis_number',\n",
       " '_take_with_is_copy',\n",
       " '_to_dict_of_blocks',\n",
       " '_try_aggregate_string_function',\n",
       " '_typ',\n",
       " '_update_inplace',\n",
       " '_validate_dtype',\n",
       " '_values',\n",
       " '_where',\n",
       " 'abs',\n",
       " 'add',\n",
       " 'add_prefix',\n",
       " 'add_suffix',\n",
       " 'agg',\n",
       " 'aggregate',\n",
       " 'align',\n",
       " 'all',\n",
       " 'any',\n",
       " 'append',\n",
       " 'apply',\n",
       " 'argmax',\n",
       " 'argmin',\n",
       " 'argsort',\n",
       " 'array',\n",
       " 'asfreq',\n",
       " 'asof',\n",
       " 'astype',\n",
       " 'at',\n",
       " 'at_time',\n",
       " 'attrs',\n",
       " 'autocorr',\n",
       " 'axes',\n",
       " 'backfill',\n",
       " 'between',\n",
       " 'between_time',\n",
       " 'bfill',\n",
       " 'bool',\n",
       " 'clip',\n",
       " 'combine',\n",
       " 'combine_first',\n",
       " 'compare',\n",
       " 'convert_dtypes',\n",
       " 'copy',\n",
       " 'corr',\n",
       " 'count',\n",
       " 'cov',\n",
       " 'cummax',\n",
       " 'cummin',\n",
       " 'cumprod',\n",
       " 'cumsum',\n",
       " 'describe',\n",
       " 'diff',\n",
       " 'div',\n",
       " 'divide',\n",
       " 'divmod',\n",
       " 'dot',\n",
       " 'drop',\n",
       " 'drop_duplicates',\n",
       " 'droplevel',\n",
       " 'dropna',\n",
       " 'dtype',\n",
       " 'dtypes',\n",
       " 'duplicated',\n",
       " 'empty',\n",
       " 'eq',\n",
       " 'equals',\n",
       " 'ewm',\n",
       " 'expanding',\n",
       " 'explode',\n",
       " 'factorize',\n",
       " 'ffill',\n",
       " 'fillna',\n",
       " 'filter',\n",
       " 'first',\n",
       " 'first_valid_index',\n",
       " 'floordiv',\n",
       " 'ge',\n",
       " 'get',\n",
       " 'groupby',\n",
       " 'gt',\n",
       " 'hasnans',\n",
       " 'head',\n",
       " 'hist',\n",
       " 'iat',\n",
       " 'idxmax',\n",
       " 'idxmin',\n",
       " 'iloc',\n",
       " 'index',\n",
       " 'infer_objects',\n",
       " 'interpolate',\n",
       " 'is_monotonic',\n",
       " 'is_monotonic_decreasing',\n",
       " 'is_monotonic_increasing',\n",
       " 'is_unique',\n",
       " 'isin',\n",
       " 'isna',\n",
       " 'isnull',\n",
       " 'item',\n",
       " 'items',\n",
       " 'iteritems',\n",
       " 'keys',\n",
       " 'kurt',\n",
       " 'kurtosis',\n",
       " 'last',\n",
       " 'last_valid_index',\n",
       " 'le',\n",
       " 'loc',\n",
       " 'lt',\n",
       " 'mad',\n",
       " 'map',\n",
       " 'mask',\n",
       " 'max',\n",
       " 'mean',\n",
       " 'median',\n",
       " 'memory_usage',\n",
       " 'min',\n",
       " 'mod',\n",
       " 'mode',\n",
       " 'mul',\n",
       " 'multiply',\n",
       " 'name',\n",
       " 'nbytes',\n",
       " 'ndim',\n",
       " 'ne',\n",
       " 'nlargest',\n",
       " 'notna',\n",
       " 'notnull',\n",
       " 'nsmallest',\n",
       " 'nunique',\n",
       " 'pEnd',\n",
       " 'pStart',\n",
       " 'pad',\n",
       " 'pct_change',\n",
       " 'pipe',\n",
       " 'plot',\n",
       " 'pop',\n",
       " 'pow',\n",
       " 'prod',\n",
       " 'product',\n",
       " 'quantile',\n",
       " 'radd',\n",
       " 'rank',\n",
       " 'ravel',\n",
       " 'rdiv',\n",
       " 'rdivmod',\n",
       " 'reindex',\n",
       " 'reindex_like',\n",
       " 'rename',\n",
       " 'rename_axis',\n",
       " 'reorder_levels',\n",
       " 'repeat',\n",
       " 'replace',\n",
       " 'resample',\n",
       " 'reset_index',\n",
       " 'rfloordiv',\n",
       " 'rmod',\n",
       " 'rmul',\n",
       " 'rolling',\n",
       " 'round',\n",
       " 'rpow',\n",
       " 'rsub',\n",
       " 'rtruediv',\n",
       " 'sample',\n",
       " 'searchsorted',\n",
       " 'sem',\n",
       " 'set_axis',\n",
       " 'shape',\n",
       " 'shift',\n",
       " 'size',\n",
       " 'skew',\n",
       " 'slice_shift',\n",
       " 'sort_index',\n",
       " 'sort_values',\n",
       " 'squeeze',\n",
       " 'std',\n",
       " 'sub',\n",
       " 'subtract',\n",
       " 'sum',\n",
       " 'swapaxes',\n",
       " 'swaplevel',\n",
       " 'tail',\n",
       " 'take',\n",
       " 'to_clipboard',\n",
       " 'to_csv',\n",
       " 'to_dict',\n",
       " 'to_excel',\n",
       " 'to_frame',\n",
       " 'to_hdf',\n",
       " 'to_json',\n",
       " 'to_latex',\n",
       " 'to_list',\n",
       " 'to_markdown',\n",
       " 'to_numpy',\n",
       " 'to_period',\n",
       " 'to_pickle',\n",
       " 'to_sql',\n",
       " 'to_string',\n",
       " 'to_timestamp',\n",
       " 'to_xarray',\n",
       " 'transform',\n",
       " 'transpose',\n",
       " 'truediv',\n",
       " 'truncate',\n",
       " 'tz_convert',\n",
       " 'tz_localize',\n",
       " 'unique',\n",
       " 'unstack',\n",
       " 'update',\n",
       " 'value_counts',\n",
       " 'values',\n",
       " 'var',\n",
       " 'view',\n",
       " 'where',\n",
       " 'xs']"
      ]
     },
     "execution_count": 32,
     "metadata": {},
     "output_type": "execute_result"
    }
   ],
   "source": [
    "dir(mal2014[\"Qunatity\"])"
   ]
  },
  {
   "cell_type": "code",
   "execution_count": 34,
   "metadata": {
    "ExecuteTime": {
     "end_time": "2022-03-08T07:04:09.774126Z",
     "start_time": "2022-03-08T07:04:09.771007Z"
    },
    "scrolled": false
   },
   "outputs": [
    {
     "data": {
      "text/plain": [
       "Index(['android.permission.CALL_PHONE', 'android.permission.INTERNET',\n",
       "       'android.permission.ACCESS_NETWORK_STATE', 'android.permission.VIBRATE',\n",
       "       'android.permission.SYSTEM_ALERT_WINDOW',\n",
       "       'android.permission.ACCESS_COARSE_LOCATION',\n",
       "       'android.permission.ACCESS_FINE_LOCATION',\n",
       "       'android.permission.ACCESS_WIFI_STATE',\n",
       "       'android.permission.CHANGE_WIFI_STATE',\n",
       "       'android.permission.READ_PHONE_STATE',\n",
       "       ...\n",
       "       'com.motorola.launcher.permission.UNINSTALL_SHORTCUT',\n",
       "       'com.lge.launcher.permission.UNINSTALL_SHORTCUT',\n",
       "       'com.estrongs.android.pop.PERMISSION',\n",
       "       'android.permission.BROADCAST_WAP_PUSH',\n",
       "       'android.permission.WRITE_SECURE',\n",
       "       'adnroid.permission.CHANGE_WIFI_STATE',\n",
       "       'com.android.system.permission.C2D_MESSAGE',\n",
       "       'com.brownmator.venturetweet.permission.C2D_MESSAGE',\n",
       "       'com.gamevil.punchhero.glo.permission.C2D_MESSAGE',\n",
       "       'android.permission.SET_POINTER_SPEED'],\n",
       "      dtype='object', length=1733)"
      ]
     },
     "execution_count": 34,
     "metadata": {},
     "output_type": "execute_result"
    }
   ],
   "source": [
    "mal2014[\"Qunatity\"].index"
   ]
  },
  {
   "cell_type": "code",
   "execution_count": 38,
   "metadata": {
    "ExecuteTime": {
     "end_time": "2022-03-08T07:05:08.714049Z",
     "start_time": "2022-03-08T07:05:08.709612Z"
    }
   },
   "outputs": [
    {
     "data": {
      "text/plain": [
       "android.permission.SET_POINTER_SPEED                              1\n",
       "android.permission.BIND_REMOTEVIEWS                               1\n",
       "android.permission.ACCESS_DEVICE_STATS                            1\n",
       "android.permiqsion.MOUNT_UNMOUNT_FILESYSTEMS                      1\n",
       "com.sec.android.provider.logsprovider.permission.READ_LOGS        1\n",
       "                                                              ...  \n",
       "android.permission.ACCESS_WIFI_STATE                          14056\n",
       "android.permission.READ_PHONE_STATE                           15430\n",
       "android.permission.WRITE_EXTERNAL_STORAGE                     15600\n",
       "android.permission.ACCESS_NETWORK_STATE                       17051\n",
       "android.permission.INTERNET                                   17540\n",
       "Name: Qunatity, Length: 1733, dtype: int64"
      ]
     },
     "execution_count": 38,
     "metadata": {},
     "output_type": "execute_result"
    }
   ],
   "source": [
    "mal2014[\"Qunatity\"].sort_values()"
   ]
  },
  {
   "cell_type": "code",
   "execution_count": null,
   "metadata": {},
   "outputs": [],
   "source": []
  },
  {
   "cell_type": "code",
   "execution_count": null,
   "metadata": {},
   "outputs": [],
   "source": []
  },
  {
   "cell_type": "code",
   "execution_count": null,
   "metadata": {},
   "outputs": [],
   "source": []
  },
  {
   "cell_type": "code",
   "execution_count": null,
   "metadata": {},
   "outputs": [],
   "source": []
  },
  {
   "cell_type": "code",
   "execution_count": 54,
   "metadata": {
    "ExecuteTime": {
     "end_time": "2022-03-08T07:17:09.305425Z",
     "start_time": "2022-03-08T07:17:09.077664Z"
    },
    "scrolled": true
   },
   "outputs": [
    {
     "data": {
      "image/png": "[encoded data removed]",
      "text/plain": [
       "<Figure size 432x288 with 1 Axes>"
      ]
     },
     "metadata": {
      "needs_background": "light"
     },
     "output_type": "display_data"
    }
   ],
   "source": [
    "x = np.arange(len(mal2014[\"Qunatity\"].sort_values()[1600:]))\n",
    "# years = mal2014[\"Qunatity\"].sort_values().index\n",
    "values = mal2014[\"Qunatity\"].sort_values()[1600:]\n",
    "\n",
    "plt.bar(x, values)\n",
    "plt.title(\"mal2014 most used permissions\\ntop 133\")\n",
    "\n",
    "plt.show()"
   ]
  },
  {
   "cell_type": "code",
   "execution_count": 49,
   "metadata": {
    "ExecuteTime": {
     "end_time": "2022-03-08T07:10:11.225441Z",
     "start_time": "2022-03-08T07:10:11.221730Z"
    }
   },
   "outputs": [
    {
     "data": {
      "text/plain": [
       "133"
      ]
     },
     "execution_count": 49,
     "metadata": {},
     "output_type": "execute_result"
    }
   ],
   "source": [
    "len(mal2014[\"Qunatity\"].sort_values()[1600:])"
   ]
  },
  {
   "cell_type": "code",
   "execution_count": 48,
   "metadata": {
    "ExecuteTime": {
     "end_time": "2022-03-08T07:09:52.906473Z",
     "start_time": "2022-03-08T07:09:52.901747Z"
    }
   },
   "outputs": [
    {
     "data": {
      "text/plain": [
       "com.example.googlemapdemo.permission.MAPS_RECEIVE       18\n",
       "com.galapagossoft.trial.permission.UAPUSH_MESSAGE       18\n",
       "android.permission.READ_SECURE_SETTINGS                 18\n",
       "com.goodbarber.v2.permission.MAPS_RECEIVE               18\n",
       "pEnd                                                    19\n",
       "                                                     ...  \n",
       "android.permission.ACCESS_WIFI_STATE                 14056\n",
       "android.permission.READ_PHONE_STATE                  15430\n",
       "android.permission.WRITE_EXTERNAL_STORAGE            15600\n",
       "android.permission.ACCESS_NETWORK_STATE              17051\n",
       "android.permission.INTERNET                          17540\n",
       "Name: Qunatity, Length: 133, dtype: int64"
      ]
     },
     "execution_count": 48,
     "metadata": {},
     "output_type": "execute_result"
    }
   ],
   "source": [
    "mal2014[\"Qunatity\"].sort_values()[1600:]"
   ]
  },
  {
   "cell_type": "code",
   "execution_count": null,
   "metadata": {},
   "outputs": [],
   "source": []
  },
  {
   "cell_type": "code",
   "execution_count": 65,
   "metadata": {
    "ExecuteTime": {
     "end_time": "2022-03-08T07:27:37.813908Z",
     "start_time": "2022-03-08T07:27:37.661487Z"
    }
   },
   "outputs": [
    {
     "data": {
      "image/png": "[encoded data removed]",
      "text/plain": [
       "<Figure size 576x432 with 1 Axes>"
      ]
     },
     "metadata": {
      "needs_background": "light"
     },
     "output_type": "display_data"
    }
   ],
   "source": [
    "x = np.arange(len(mal2014[\"Qunatity\"].sort_values()[-50:]))\n",
    "values = mal2014[\"Qunatity\"].sort_values()[-50:]\n",
    "\n",
    "plt.subplots(figsize=(8,6))\n",
    "plt.bar(x, values)\n",
    "plt.title(\"mal2014 most used permissions\\ntop 50\")\n",
    "\n",
    "\n",
    "plt.show()"
   ]
  },
  {
   "cell_type": "code",
   "execution_count": null,
   "metadata": {},
   "outputs": [],
   "source": []
  },
  {
   "cell_type": "code",
   "execution_count": 3,
   "metadata": {
    "ExecuteTime": {
     "end_time": "2022-03-10T02:24:15.987666Z",
     "start_time": "2022-03-10T02:24:15.863970Z"
    }
   },
   "outputs": [],
   "source": [
    "mal_perm = []\n",
    "for i in range(2014, 2022):\n",
    "    mal_perm.append(pd.read_csv(\"./mal{}_perm.csv\".format(i), index_col=0))"
   ]
  },
  {
   "cell_type": "code",
   "execution_count": 4,
   "metadata": {
    "ExecuteTime": {
     "end_time": "2022-03-10T02:24:16.541721Z",
     "start_time": "2022-03-10T02:24:16.527759Z"
    }
   },
   "outputs": [
    {
     "data": {
      "text/plain": [
       "8"
      ]
     },
     "execution_count": 4,
     "metadata": {},
     "output_type": "execute_result"
    }
   ],
   "source": [
    "len(mal_perm)"
   ]
  },
  {
   "cell_type": "code",
   "execution_count": 5,
   "metadata": {
    "ExecuteTime": {
     "end_time": "2022-03-10T02:24:17.517898Z",
     "start_time": "2022-03-10T02:24:17.510917Z"
    }
   },
   "outputs": [
    {
     "name": "stdout",
     "output_type": "stream",
     "text": [
      "Types of Permissions in 2014 malware apk:  1733\n",
      "Types of Permissions in 2015 malware apk:  1883\n",
      "Types of Permissions in 2016 malware apk:  3687\n",
      "Types of Permissions in 2017 malware apk:  3944\n",
      "Types of Permissions in 2018 malware apk:  6374\n",
      "Types of Permissions in 2019 malware apk:  7926\n",
      "Types of Permissions in 2020 malware apk:  8898\n",
      "Types of Permissions in 2021 malware apk:  1435\n"
     ]
    }
   ],
   "source": [
    "year = 2014\n",
    "for i in mal_perm:\n",
    "    print(\"Types of Permissions in {} malware apk: \".format(year), len(i))\n",
    "    year += 1"
   ]
  },
  {
   "cell_type": "code",
   "execution_count": 6,
   "metadata": {
    "ExecuteTime": {
     "end_time": "2022-03-10T02:24:30.338979Z",
     "start_time": "2022-03-10T02:24:30.199320Z"
    }
   },
   "outputs": [],
   "source": [
    "ben_perm = []\n",
    "for i in range(2014, 2022):\n",
    "    ben_perm.append(pd.read_csv(\"./ben{}_perm.csv\".format(i), index_col=0))"
   ]
  },
  {
   "cell_type": "code",
   "execution_count": 7,
   "metadata": {
    "ExecuteTime": {
     "end_time": "2022-03-10T02:24:30.728532Z",
     "start_time": "2022-03-10T02:24:30.719582Z"
    }
   },
   "outputs": [
    {
     "name": "stdout",
     "output_type": "stream",
     "text": [
      "Types of Permissions in 2014 benign apk:  12857\n",
      "Types of Permissions in 2015 benign apk:  13254\n",
      "Types of Permissions in 2016 benign apk:  10811\n",
      "Types of Permissions in 2017 benign apk:  6504\n",
      "Types of Permissions in 2018 benign apk:  4482\n",
      "Types of Permissions in 2019 benign apk:  4672\n",
      "Types of Permissions in 2020 benign apk:  5756\n",
      "Types of Permissions in 2021 benign apk:  2227\n"
     ]
    }
   ],
   "source": [
    "year = 2014\n",
    "for i in ben_perm:\n",
    "    print(\"Types of Permissions in {} benign apk: \".format(year), len(i))\n",
    "    year += 1"
   ]
  },
  {
   "cell_type": "code",
   "execution_count": null,
   "metadata": {},
   "outputs": [],
   "source": []
  },
  {
   "cell_type": "code",
   "execution_count": 86,
   "metadata": {
    "ExecuteTime": {
     "end_time": "2022-03-08T07:54:30.730964Z",
     "start_time": "2022-03-08T07:54:30.581483Z"
    }
   },
   "outputs": [
    {
     "data": {
      "image/png": "[encoded data removed]",
      "text/plain": [
       "<Figure size 576x432 with 1 Axes>"
      ]
     },
     "metadata": {
      "needs_background": "light"
     },
     "output_type": "display_data"
    }
   ],
   "source": [
    "x = np.arange(len(ben_perm[0][\"Qunatity\"].sort_values()[-50:]))\n",
    "values = ben_perm[0][\"Qunatity\"].sort_values()[-50:]\n",
    "\n",
    "plt.subplots(figsize=(8,6))\n",
    "plt.bar(x, values)\n",
    "plt.title(\"ben2014 most used permissions\\ntop 50\")\n",
    "\n",
    "plt.show()"
   ]
  },
  {
   "cell_type": "code",
   "execution_count": 10,
   "metadata": {
    "ExecuteTime": {
     "end_time": "2022-03-10T03:49:01.537492Z",
     "start_time": "2022-03-10T03:49:01.324031Z"
    }
   },
   "outputs": [
    {
     "data": {
      "image/png": "[encoded data removed]",
      "text/plain": [
       "<Figure size 576x432 with 1 Axes>"
      ]
     },
     "metadata": {
      "needs_background": "light"
     },
     "output_type": "display_data"
    }
   ],
   "source": [
    "x = np.arange(len(ben_perm[0][\"Qunatity\"].sort_values()[-100:]))\n",
    "values = ben_perm[0][\"Qunatity\"].sort_values()[-100:]\n",
    "\n",
    "plt.subplots(figsize=(8,6))\n",
    "plt.bar(x, values)\n",
    "plt.title(\"ben2014 most used permissions\\ntop 100\")\n",
    "\n",
    "plt.show()"
   ]
  },
  {
   "cell_type": "code",
   "execution_count": 88,
   "metadata": {
    "ExecuteTime": {
     "end_time": "2022-03-08T07:55:33.626439Z",
     "start_time": "2022-03-08T07:55:33.621640Z"
    },
    "scrolled": true
   },
   "outputs": [
    {
     "data": {
      "text/plain": [
       "Index(['android.permission.ACCESS_SUPERUSER',\n",
       "       'com.goodbarber.v2.permission.MAPS_RECEIVE',\n",
       "       'android.permission.USE_SIP',\n",
       "       'android.permission.WRITE_SECURE_SETTINGS',\n",
       "       'com.android.launcher.permission.WRITE_SETTINGS',\n",
       "       'android.permission.MODIFY_PHONE_STATE',\n",
       "       'android.permission.DEVICE_POWER',\n",
       "       'android.permission.GET_PACKAGE_SIZE',\n",
       "       'android.permission.ACCES_MOCK_LOCATION',\n",
       "       'android.permission.SYSTEM_OVERLAY_WINDOW', '.permission.C2D_MESSAGE',\n",
       "       'android.permission.INSTALL_PACKAGES',\n",
       "       'android.permission.WRITE_OWNER_DATA',\n",
       "       'android.permission.WRITE_APN_SETTINGS', 'READ_PHONE_STATE',\n",
       "       'android.permission.EXPAND_STATUS_BAR',\n",
       "       'android.permission.WRITE_CALL_LOG',\n",
       "       'android.permission.READ_OWNER_DATA',\n",
       "       'com.android.alarm.permission.SET_ALARM',\n",
       "       'com.google.android.gms.permission.ACTIVITY_RECOGNITION',\n",
       "       'android.permission.BATTERY_STATS',\n",
       "       'android.permission.READ_SYNC_STATS',\n",
       "       'android.permission.REORDER_TASKS',\n",
       "       'android.permission.ACCESS_ASSISTED_GPS',\n",
       "       'android.permission.INTERACT_ACROSS_USERS_FULL',\n",
       "       'android.permission.CLEAR_APP_CACHE',\n",
       "       'android.permission.CHANGE_WIFI_MULTICAST_STATE',\n",
       "       'android.permission.ACCESS_COARSE_UPDATES',\n",
       "       'com.truiton.supportmapfragment.permission.MAPS_RECEIVE',\n",
       "       'android.permission.RECEIVE_USER_PRESENT',\n",
       "       'android.permission.READ_CALL_LOG',\n",
       "       'android.permission.WRITE_INTERNAL_STORAGE',\n",
       "       'android.permission.ACCESS_DOWNLOAD_MANAGER', 'android.permission.NFC',\n",
       "       'android.permission.ACCESS_LOCATION',\n",
       "       'android.permission.READ_SYNC_SETTINGS',\n",
       "       'android.permission.WRITE_SYNC_SETTINGS',\n",
       "       'android.permission.READ_PROFILE',\n",
       "       'com.example.gcm.permission.C2D_MESSAGE',\n",
       "       'android.permission.WRITE_SMS',\n",
       "       'com.android.browser.permission.WRITE_HISTORY_BOOKMARKS',\n",
       "       'com.android.launcher.permission.UNINSTALL_SHORTCUT',\n",
       "       'android.permission.SET_WALLPAPER_HINTS',\n",
       "       'android.permission.RECORD_VIDEO',\n",
       "       'android.permission.AUTHENTICATE_ACCOUNTS',\n",
       "       'com.android.launcher.permission.READ_SETTINGS',\n",
       "       'android.permission.DOWNLOAD_WITHOUT_NOTIFICATION',\n",
       "       'android.permission.PROCESS_OUTGOING_CALLS',\n",
       "       'android.permission.ACCESS_GPS',\n",
       "       'com.amazon.device.messaging.permission.RECEIVE',\n",
       "       'android.permission.KILL_BACKGROUND_PROCESSES',\n",
       "       'com.android.browser.permission.READ_HISTORY_BOOKMARKS',\n",
       "       'android.permission.BAIDU_LOCATION_SERVICE',\n",
       "       'android.permission.CHANGE_CONFIGURATION',\n",
       "       'android.permission.BLUETOOTH_ADMIN', 'android.permission.READ_SMS',\n",
       "       'android.permission.MANAGE_ACCOUNTS',\n",
       "       'android.permission.RESTART_PACKAGES',\n",
       "       'com.android.vending.CHECK_LICENSE',\n",
       "       'android.permission.WRITE_CALENDAR', 'android.permission.READ_CALENDAR',\n",
       "       'android.permission.CHANGE_NETWORK_STATE',\n",
       "       'android.permission.ACCESS_MOCK_LOCATION',\n",
       "       'android.permission.RECEIVE_SMS', 'android.permission.BLUETOOTH',\n",
       "       'android.permission.BROADCAST_STICKY',\n",
       "       'android.permission.ACCESS_LOCATION_EXTRA_COMMANDS',\n",
       "       'android.permission.DISABLE_KEYGUARD', 'android.permission.FLASHLIGHT',\n",
       "       'android.permission.WRITE_CONTACTS',\n",
       "       'android.permission.MODIFY_AUDIO_SETTINGS',\n",
       "       'android.permission.USE_CREDENTIALS',\n",
       "       'com.android.launcher.permission.INSTALL_SHORTCUT',\n",
       "       'android.permission.READ_LOGS', 'android.permission.SEND_SMS',\n",
       "       'android.permission.SET_WALLPAPER',\n",
       "       'android.permission.MOUNT_UNMOUNT_FILESYSTEMS',\n",
       "       'android.permission.WRITE_SETTINGS',\n",
       "       'android.permission.SYSTEM_ALERT_WINDOW',\n",
       "       'android.permission.CHANGE_WIFI_STATE',\n",
       "       'android.permission.READ_CONTACTS', 'android.permission.RECORD_AUDIO',\n",
       "       'com.google.android.providers.gsf.permission.READ_GSERVICES',\n",
       "       'com.android.vending.BILLING', 'android.permission.CALL_PHONE',\n",
       "       'android.permission.READ_EXTERNAL_STORAGE',\n",
       "       'android.permission.GET_TASKS',\n",
       "       'android.permission.RECEIVE_BOOT_COMPLETED',\n",
       "       'android.permission.CAMERA',\n",
       "       'com.google.android.c2dm.permission.RECEIVE',\n",
       "       'android.permission.GET_ACCOUNTS',\n",
       "       'android.permission.ACCESS_COARSE_LOCATION',\n",
       "       'android.permission.ACCESS_FINE_LOCATION', 'android.permission.VIBRATE',\n",
       "       'android.permission.ACCESS_WIFI_STATE', 'android.permission.WAKE_LOCK',\n",
       "       'android.permission.READ_PHONE_STATE',\n",
       "       'android.permission.WRITE_EXTERNAL_STORAGE',\n",
       "       'android.permission.ACCESS_NETWORK_STATE',\n",
       "       'android.permission.INTERNET'],\n",
       "      dtype='object')"
      ]
     },
     "execution_count": 88,
     "metadata": {},
     "output_type": "execute_result"
    }
   ],
   "source": [
    "ben_perm[0][\"Qunatity\"].sort_values()[-100:].index"
   ]
  },
  {
   "cell_type": "code",
   "execution_count": 92,
   "metadata": {
    "ExecuteTime": {
     "end_time": "2022-03-08T08:04:03.342823Z",
     "start_time": "2022-03-08T08:03:48.676142Z"
    }
   },
   "outputs": [
    {
     "data": {
      "image/png": "[encoded data removed]",
      "text/plain": [
       "<Figure size 576x432 with 1 Axes>"
      ]
     },
     "metadata": {
      "needs_background": "light"
     },
     "output_type": "display_data"
    }
   ],
   "source": [
    "x = np.arange(len(ben_perm[0][\"Qunatity\"].sort_values()))\n",
    "values = ben_perm[0][\"Qunatity\"].sort_values()\n",
    "\n",
    "plt.subplots(figsize=(8,6))\n",
    "plt.bar(x, values)\n",
    "plt.title(\"ben2014 most used permissions\")\n",
    "\n",
    "plt.show()"
   ]
  },
  {
   "cell_type": "code",
   "execution_count": 94,
   "metadata": {
    "ExecuteTime": {
     "end_time": "2022-03-08T08:05:48.550113Z",
     "start_time": "2022-03-08T08:05:48.285230Z"
    }
   },
   "outputs": [
    {
     "data": {
      "image/png": "[encoded data removed]",
      "text/plain": [
       "<Figure size 576x432 with 1 Axes>"
      ]
     },
     "metadata": {
      "needs_background": "light"
     },
     "output_type": "display_data"
    }
   ],
   "source": [
    "x = np.arange(len(ben_perm[0][\"Qunatity\"].sort_values()[12700:]))\n",
    "values = ben_perm[0][\"Qunatity\"].sort_values()[12700:]\n",
    "\n",
    "plt.subplots(figsize=(8,6))\n",
    "plt.bar(x, values)\n",
    "plt.title(\"ben2014 most used permissions\")\n",
    "\n",
    "plt.show()"
   ]
  },
  {
   "cell_type": "code",
   "execution_count": 98,
   "metadata": {
    "ExecuteTime": {
     "end_time": "2022-03-08T08:07:13.754827Z",
     "start_time": "2022-03-08T08:07:13.749269Z"
    }
   },
   "outputs": [
    {
     "data": {
      "text/plain": [
       "com.fede.launcher.permission.READ_SETTINGS                  22\n",
       "info.androidhive.googlemapsv2.permission.MAPS_RECEIVE       22\n",
       "com.im.fantastic.master.permission.MAPS_RECEIVE             24\n",
       "android.permission.DELETE_CACHE_FILES                       24\n",
       "com.google.android.googleapps.permission.GOOGLE_AUTH        25\n",
       "                                                         ...  \n",
       "android.permission.WAKE_LOCK                             15424\n",
       "android.permission.READ_PHONE_STATE                      16504\n",
       "android.permission.WRITE_EXTERNAL_STORAGE                27027\n",
       "android.permission.ACCESS_NETWORK_STATE                  36252\n",
       "android.permission.INTERNET                              39861\n",
       "Name: Qunatity, Length: 157, dtype: int64"
      ]
     },
     "execution_count": 98,
     "metadata": {},
     "output_type": "execute_result"
    }
   ],
   "source": [
    "ben_perm[0][\"Qunatity\"].sort_values()[12700:]"
   ]
  },
  {
   "cell_type": "code",
   "execution_count": 99,
   "metadata": {
    "ExecuteTime": {
     "end_time": "2022-03-08T08:07:38.828648Z",
     "start_time": "2022-03-08T08:07:38.629212Z"
    }
   },
   "outputs": [
    {
     "data": {
      "image/png": "[encoded data removed]",
      "text/plain": [
       "<Figure size 576x432 with 1 Axes>"
      ]
     },
     "metadata": {
      "needs_background": "light"
     },
     "output_type": "display_data"
    }
   ],
   "source": [
    "x = np.arange(len(ben_perm[0][\"Qunatity\"].sort_values()[-100:]))\n",
    "values = ben_perm[0][\"Qunatity\"].sort_values()[-100:]\n",
    "\n",
    "plt.subplots(figsize=(8,6))\n",
    "plt.bar(x, values)\n",
    "plt.title(\"ben2014 most used permissions\")\n",
    "\n",
    "plt.show()"
   ]
  },
  {
   "cell_type": "code",
   "execution_count": 100,
   "metadata": {
    "ExecuteTime": {
     "end_time": "2022-03-08T08:07:44.978350Z",
     "start_time": "2022-03-08T08:07:44.973206Z"
    }
   },
   "outputs": [
    {
     "data": {
      "text/plain": [
       "android.permission.ACCESS_SUPERUSER                  88\n",
       "com.goodbarber.v2.permission.MAPS_RECEIVE            90\n",
       "android.permission.USE_SIP                           96\n",
       "android.permission.WRITE_SECURE_SETTINGS             98\n",
       "com.android.launcher.permission.WRITE_SETTINGS       98\n",
       "                                                  ...  \n",
       "android.permission.WAKE_LOCK                      15424\n",
       "android.permission.READ_PHONE_STATE               16504\n",
       "android.permission.WRITE_EXTERNAL_STORAGE         27027\n",
       "android.permission.ACCESS_NETWORK_STATE           36252\n",
       "android.permission.INTERNET                       39861\n",
       "Name: Qunatity, Length: 100, dtype: int64"
      ]
     },
     "execution_count": 100,
     "metadata": {},
     "output_type": "execute_result"
    }
   ],
   "source": [
    "ben_perm[0][\"Qunatity\"].sort_values()[-100:]"
   ]
  },
  {
   "cell_type": "code",
   "execution_count": 11,
   "metadata": {
    "ExecuteTime": {
     "end_time": "2022-03-10T03:51:23.791382Z",
     "start_time": "2022-03-10T03:51:23.652764Z"
    },
    "scrolled": false
   },
   "outputs": [
    {
     "data": {
      "image/png": "[encoded data removed]",
      "text/plain": [
       "<Figure size 576x432 with 1 Axes>"
      ]
     },
     "metadata": {
      "needs_background": "light"
     },
     "output_type": "display_data"
    },
    {
     "data": {
      "text/plain": [
       "android.permission.MODIFY_AUDIO_SETTINGS                       1760\n",
       "android.permission.USE_CREDENTIALS                             1781\n",
       "com.android.launcher.permission.INSTALL_SHORTCUT               1825\n",
       "android.permission.READ_LOGS                                   1855\n",
       "android.permission.SEND_SMS                                    2025\n",
       "android.permission.SET_WALLPAPER                               2031\n",
       "android.permission.MOUNT_UNMOUNT_FILESYSTEMS                   2403\n",
       "android.permission.WRITE_SETTINGS                              2652\n",
       "android.permission.SYSTEM_ALERT_WINDOW                         2893\n",
       "android.permission.CHANGE_WIFI_STATE                           2910\n",
       "android.permission.READ_CONTACTS                               3353\n",
       "android.permission.RECORD_AUDIO                                3410\n",
       "com.google.android.providers.gsf.permission.READ_GSERVICES     3813\n",
       "com.android.vending.BILLING                                    3951\n",
       "android.permission.CALL_PHONE                                  4290\n",
       "android.permission.READ_EXTERNAL_STORAGE                       4411\n",
       "android.permission.GET_TASKS                                   4730\n",
       "android.permission.RECEIVE_BOOT_COMPLETED                      5977\n",
       "android.permission.CAMERA                                      6591\n",
       "com.google.android.c2dm.permission.RECEIVE                     9148\n",
       "android.permission.GET_ACCOUNTS                               10462\n",
       "android.permission.ACCESS_COARSE_LOCATION                     11181\n",
       "android.permission.ACCESS_FINE_LOCATION                       11645\n",
       "android.permission.VIBRATE                                    12674\n",
       "android.permission.ACCESS_WIFI_STATE                          14394\n",
       "android.permission.WAKE_LOCK                                  15424\n",
       "android.permission.READ_PHONE_STATE                           16504\n",
       "android.permission.WRITE_EXTERNAL_STORAGE                     27027\n",
       "android.permission.ACCESS_NETWORK_STATE                       36252\n",
       "android.permission.INTERNET                                   39861\n",
       "Name: Qunatity, dtype: int64"
      ]
     },
     "execution_count": 11,
     "metadata": {},
     "output_type": "execute_result"
    }
   ],
   "source": [
    "x = np.arange(len(ben_perm[0][\"Qunatity\"].sort_values()[-30:]))\n",
    "values = ben_perm[0][\"Qunatity\"].sort_values()[-30:]\n",
    "\n",
    "plt.subplots(figsize=(8,6))\n",
    "plt.bar(x, values)\n",
    "plt.title(\"ben2014 most used permissions\\n-top 30-\")\n",
    "\n",
    "plt.show()\n",
    "\n",
    "ben_perm[0][\"Qunatity\"].sort_values()[-30:]"
   ]
  },
  {
   "cell_type": "code",
   "execution_count": 102,
   "metadata": {
    "ExecuteTime": {
     "end_time": "2022-03-08T10:55:44.786005Z",
     "start_time": "2022-03-08T10:55:44.644792Z"
    },
    "scrolled": true
   },
   "outputs": [
    {
     "data": {
      "image/png": "[encoded data removed]",
      "text/plain": [
       "<Figure size 576x432 with 1 Axes>"
      ]
     },
     "metadata": {
      "needs_background": "light"
     },
     "output_type": "display_data"
    },
    {
     "data": {
      "text/plain": [
       "android.permission.READ_LOGS                                   1857\n",
       "android.permission.AUTHENTICATE_ACCOUNTS                       2053\n",
       "android.permission.MODIFY_AUDIO_SETTINGS                       2099\n",
       "android.permission.BLUETOOTH                                   2111\n",
       "android.permission.MOUNT_UNMOUNT_FILESYSTEMS                   2354\n",
       "android.permission.MANAGE_ACCOUNTS                             2550\n",
       "android.permission.READ_CONTACTS                               2814\n",
       "android.permission.CHANGE_WIFI_STATE                           2887\n",
       "android.permission.WRITE_SETTINGS                              3036\n",
       "android.permission.SYSTEM_ALERT_WINDOW                         3054\n",
       "com.google.android.providers.gsf.permission.READ_GSERVICES     3206\n",
       "android.permission.CALL_PHONE                                  3643\n",
       "android.permission.USE_CREDENTIALS                             3965\n",
       "android.permission.RECORD_AUDIO                                4191\n",
       "com.android.vending.BILLING                                    4276\n",
       "android.permission.GET_TASKS                                   4570\n",
       "android.permission.RECEIVE_BOOT_COMPLETED                      6275\n",
       "android.permission.CAMERA                                      6855\n",
       "android.permission.READ_EXTERNAL_STORAGE                       7912\n",
       "android.permission.ACCESS_FINE_LOCATION                        9383\n",
       "com.google.android.c2dm.permission.RECEIVE                     9520\n",
       "android.permission.ACCESS_COARSE_LOCATION                     11157\n",
       "android.permission.GET_ACCOUNTS                               12321\n",
       "android.permission.VIBRATE                                    13373\n",
       "android.permission.ACCESS_WIFI_STATE                          14463\n",
       "android.permission.READ_PHONE_STATE                           16074\n",
       "android.permission.WAKE_LOCK                                  16757\n",
       "android.permission.WRITE_EXTERNAL_STORAGE                     27404\n",
       "android.permission.ACCESS_NETWORK_STATE                       36954\n",
       "android.permission.INTERNET                                   40221\n",
       "Name: Qunatity, dtype: int64"
      ]
     },
     "execution_count": 102,
     "metadata": {},
     "output_type": "execute_result"
    }
   ],
   "source": [
    "x = np.arange(len(ben_perm[1][\"Qunatity\"].sort_values()[-30:]))\n",
    "values = ben_perm[1][\"Qunatity\"].sort_values()[-30:]\n",
    "\n",
    "plt.subplots(figsize=(8,6))\n",
    "plt.bar(x, values)\n",
    "plt.title(\"ben2014 most used permissions\")\n",
    "\n",
    "plt.show()\n",
    "\n",
    "ben_perm[1][\"Qunatity\"].sort_values()[-30:]"
   ]
  },
  {
   "cell_type": "code",
   "execution_count": 22,
   "metadata": {
    "ExecuteTime": {
     "end_time": "2022-03-10T03:59:52.822477Z",
     "start_time": "2022-03-10T03:59:51.860157Z"
    },
    "scrolled": true
   },
   "outputs": [
    {
     "data": {
      "image/png": "[encoded data removed]",
      "text/plain": [
       "<Figure size 576x432 with 1 Axes>"
      ]
     },
     "metadata": {
      "needs_background": "light"
     },
     "output_type": "display_data"
    },
    {
     "name": "stdout",
     "output_type": "stream",
     "text": [
      "android.permission.INTERNET                                   39861\n",
      "android.permission.ACCESS_NETWORK_STATE                       36252\n",
      "android.permission.WRITE_EXTERNAL_STORAGE                     27027\n",
      "android.permission.READ_PHONE_STATE                           16504\n",
      "android.permission.WAKE_LOCK                                  15424\n",
      "android.permission.ACCESS_WIFI_STATE                          14394\n",
      "android.permission.VIBRATE                                    12674\n",
      "android.permission.ACCESS_FINE_LOCATION                       11645\n",
      "android.permission.ACCESS_COARSE_LOCATION                     11181\n",
      "android.permission.GET_ACCOUNTS                               10462\n",
      "com.google.android.c2dm.permission.RECEIVE                     9148\n",
      "android.permission.CAMERA                                      6591\n",
      "android.permission.RECEIVE_BOOT_COMPLETED                      5977\n",
      "android.permission.GET_TASKS                                   4730\n",
      "android.permission.READ_EXTERNAL_STORAGE                       4411\n",
      "android.permission.CALL_PHONE                                  4290\n",
      "com.android.vending.BILLING                                    3951\n",
      "com.google.android.providers.gsf.permission.READ_GSERVICES     3813\n",
      "android.permission.RECORD_AUDIO                                3410\n",
      "android.permission.READ_CONTACTS                               3353\n",
      "android.permission.CHANGE_WIFI_STATE                           2910\n",
      "android.permission.SYSTEM_ALERT_WINDOW                         2893\n",
      "android.permission.WRITE_SETTINGS                              2652\n",
      "android.permission.MOUNT_UNMOUNT_FILESYSTEMS                   2403\n",
      "android.permission.SET_WALLPAPER                               2031\n",
      "android.permission.SEND_SMS                                    2025\n",
      "android.permission.READ_LOGS                                   1855\n",
      "com.android.launcher.permission.INSTALL_SHORTCUT               1825\n",
      "android.permission.USE_CREDENTIALS                             1781\n",
      "Name: Qunatity, dtype: int64\n"
     ]
    },
    {
     "data": {
      "image/png": "[encoded data removed]",
      "text/plain": [
       "<Figure size 576x432 with 1 Axes>"
      ]
     },
     "metadata": {
      "needs_background": "light"
     },
     "output_type": "display_data"
    },
    {
     "name": "stdout",
     "output_type": "stream",
     "text": [
      "android.permission.INTERNET                                   40221\n",
      "android.permission.ACCESS_NETWORK_STATE                       36954\n",
      "android.permission.WRITE_EXTERNAL_STORAGE                     27404\n",
      "android.permission.WAKE_LOCK                                  16757\n",
      "android.permission.READ_PHONE_STATE                           16074\n",
      "android.permission.ACCESS_WIFI_STATE                          14463\n",
      "android.permission.VIBRATE                                    13373\n",
      "android.permission.GET_ACCOUNTS                               12321\n",
      "android.permission.ACCESS_COARSE_LOCATION                     11157\n",
      "com.google.android.c2dm.permission.RECEIVE                     9520\n",
      "android.permission.ACCESS_FINE_LOCATION                        9383\n",
      "android.permission.READ_EXTERNAL_STORAGE                       7912\n",
      "android.permission.CAMERA                                      6855\n",
      "android.permission.RECEIVE_BOOT_COMPLETED                      6275\n",
      "android.permission.GET_TASKS                                   4570\n",
      "com.android.vending.BILLING                                    4276\n",
      "android.permission.RECORD_AUDIO                                4191\n",
      "android.permission.USE_CREDENTIALS                             3965\n",
      "android.permission.CALL_PHONE                                  3643\n",
      "com.google.android.providers.gsf.permission.READ_GSERVICES     3206\n",
      "android.permission.SYSTEM_ALERT_WINDOW                         3054\n",
      "android.permission.WRITE_SETTINGS                              3036\n",
      "android.permission.CHANGE_WIFI_STATE                           2887\n",
      "android.permission.READ_CONTACTS                               2814\n",
      "android.permission.MANAGE_ACCOUNTS                             2550\n",
      "android.permission.MOUNT_UNMOUNT_FILESYSTEMS                   2354\n",
      "android.permission.BLUETOOTH                                   2111\n",
      "android.permission.MODIFY_AUDIO_SETTINGS                       2099\n",
      "android.permission.AUTHENTICATE_ACCOUNTS                       2053\n",
      "Name: Qunatity, dtype: int64\n"
     ]
    },
    {
     "data": {
      "image/png": "[encoded data removed]",
      "text/plain": [
       "<Figure size 576x432 with 1 Axes>"
      ]
     },
     "metadata": {
      "needs_background": "light"
     },
     "output_type": "display_data"
    },
    {
     "name": "stdout",
     "output_type": "stream",
     "text": [
      "android.permission.INTERNET                                   22490\n",
      "android.permission.ACCESS_NETWORK_STATE                       21215\n",
      "android.permission.WRITE_EXTERNAL_STORAGE                     15570\n",
      "android.permission.WAKE_LOCK                                  11812\n",
      "com.google.android.c2dm.permission.RECEIVE                     8784\n",
      "android.permission.ACCESS_WIFI_STATE                           8717\n",
      "android.permission.VIBRATE                                     8371\n",
      "android.permission.READ_PHONE_STATE                            8135\n",
      "android.permission.GET_ACCOUNTS                                7016\n",
      "android.permission.READ_EXTERNAL_STORAGE                       6829\n",
      "android.permission.ACCESS_FINE_LOCATION                        6769\n",
      "android.permission.ACCESS_COARSE_LOCATION                      6450\n",
      "android.permission.RECEIVE_BOOT_COMPLETED                      4656\n",
      "android.permission.CAMERA                                      4471\n",
      "com.android.vending.BILLING                                    3001\n",
      "com.google.android.providers.gsf.permission.READ_GSERVICES     2600\n",
      "android.permission.RECORD_AUDIO                                2427\n",
      "android.permission.GET_TASKS                                   2363\n",
      "android.permission.READ_CONTACTS                               1970\n",
      "android.permission.CALL_PHONE                                  1961\n",
      "android.permission.USE_CREDENTIALS                             1807\n",
      "android.permission.SYSTEM_ALERT_WINDOW                         1756\n",
      "android.permission.WRITE_SETTINGS                              1631\n",
      "android.permission.BLUETOOTH                                   1599\n",
      "android.permission.CHANGE_WIFI_STATE                           1583\n",
      "android.permission.MODIFY_AUDIO_SETTINGS                       1325\n",
      "android.permission.BLUETOOTH_ADMIN                             1074\n",
      "android.permission.SET_WALLPAPER                               1062\n",
      "android.permission.MOUNT_UNMOUNT_FILESYSTEMS                    934\n",
      "Name: Qunatity, dtype: int64\n"
     ]
    },
    {
     "data": {
      "image/png": "[encoded data removed]",
      "text/plain": [
       "<Figure size 576x432 with 1 Axes>"
      ]
     },
     "metadata": {
      "needs_background": "light"
     },
     "output_type": "display_data"
    },
    {
     "name": "stdout",
     "output_type": "stream",
     "text": [
      "android.permission.INTERNET                                   17537\n",
      "android.permission.ACCESS_NETWORK_STATE                       16536\n",
      "android.permission.WRITE_EXTERNAL_STORAGE                     11400\n",
      "android.permission.WAKE_LOCK                                   8070\n",
      "android.permission.ACCESS_WIFI_STATE                           7498\n",
      "android.permission.VIBRATE                                     5457\n",
      "com.google.android.c2dm.permission.RECEIVE                     5118\n",
      "android.permission.READ_PHONE_STATE                            4919\n",
      "android.permission.ACCESS_COARSE_LOCATION                      3914\n",
      "android.permission.ACCESS_FINE_LOCATION                        3753\n",
      "android.permission.READ_EXTERNAL_STORAGE                       3658\n",
      "android.permission.RECEIVE_BOOT_COMPLETED                      3538\n",
      "android.permission.CAMERA                                      2709\n",
      "android.permission.GET_ACCOUNTS                                2705\n",
      "com.android.vending.BILLING                                    1833\n",
      "android.permission.GET_TASKS                                   1645\n",
      "android.permission.SET_WALLPAPER                               1398\n",
      "android.permission.SYSTEM_ALERT_WINDOW                         1390\n",
      "android.permission.WRITE_SETTINGS                              1215\n",
      "com.google.android.providers.gsf.permission.READ_GSERVICES     1206\n",
      "android.permission.RECORD_AUDIO                                1180\n",
      "android.permission.BLUETOOTH                                   1000\n",
      "android.permission.CALL_PHONE                                   998\n",
      "android.permission.READ_CONTACTS                                950\n",
      "android.permission.FLASHLIGHT                                   933\n",
      "com.htc.launcher.permission.READ_SETTINGS                       820\n",
      "android.permission.CHANGE_WIFI_STATE                            818\n",
      "com.sec.android.provider.badge.permission.WRITE                 811\n",
      "com.sonyericsson.home.permission.BROADCAST_BADGE                808\n",
      "Name: Qunatity, dtype: int64\n"
     ]
    },
    {
     "data": {
      "image/png": "[encoded data removed]",
      "text/plain": [
       "<Figure size 576x432 with 1 Axes>"
      ]
     },
     "metadata": {
      "needs_background": "light"
     },
     "output_type": "display_data"
    },
    {
     "name": "stdout",
     "output_type": "stream",
     "text": [
      "android.permission.INTERNET                         10213\n",
      "android.permission.ACCESS_NETWORK_STATE              9738\n",
      "android.permission.WRITE_EXTERNAL_STORAGE            6408\n",
      "android.permission.ACCESS_WIFI_STATE                 4979\n",
      "android.permission.WAKE_LOCK                         4741\n",
      "android.permission.VIBRATE                           3704\n",
      "com.google.android.c2dm.permission.RECEIVE           3149\n",
      "android.permission.READ_PHONE_STATE                  2920\n",
      "android.permission.READ_EXTERNAL_STORAGE             2599\n",
      "android.permission.RECEIVE_BOOT_COMPLETED            2453\n",
      "android.permission.ACCESS_COARSE_LOCATION            2281\n",
      "android.permission.ACCESS_FINE_LOCATION              2200\n",
      "com.android.vending.BILLING                          2134\n",
      "android.permission.CAMERA                            1779\n",
      "android.permission.GET_ACCOUNTS                      1379\n",
      "android.permission.GET_TASKS                         1174\n",
      "android.permission.SYSTEM_ALERT_WINDOW                983\n",
      "android.permission.CHANGE_WIFI_STATE                  869\n",
      "android.permission.FLASHLIGHT                         800\n",
      "android.permission.RECORD_AUDIO                       787\n",
      "android.permission.WRITE_SETTINGS                     776\n",
      "android.permission.BLUETOOTH                          704\n",
      "android.permission.CALL_PHONE                         666\n",
      "com.htc.launcher.permission.READ_SETTINGS             645\n",
      "com.sonyericsson.home.permission.BROADCAST_BADGE      628\n",
      "com.sec.android.provider.badge.permission.READ        615\n",
      "com.sec.android.provider.badge.permission.WRITE       614\n",
      "android.permission.READ_CONTACTS                      606\n",
      "android.permission.MOUNT_UNMOUNT_FILESYSTEMS          601\n",
      "Name: Qunatity, dtype: int64\n"
     ]
    },
    {
     "data": {
      "image/png": "[encoded data removed]",
      "text/plain": [
       "<Figure size 576x432 with 1 Axes>"
      ]
     },
     "metadata": {
      "needs_background": "light"
     },
     "output_type": "display_data"
    },
    {
     "name": "stdout",
     "output_type": "stream",
     "text": [
      "android.permission.INTERNET                                               10650\n",
      "android.permission.ACCESS_NETWORK_STATE                                   10184\n",
      "android.permission.WRITE_EXTERNAL_STORAGE                                  7322\n",
      "android.permission.ACCESS_WIFI_STATE                                       6159\n",
      "android.permission.WAKE_LOCK                                               5385\n",
      "android.permission.READ_EXTERNAL_STORAGE                                   4546\n",
      "android.permission.VIBRATE                                                 4011\n",
      "com.google.android.c2dm.permission.RECEIVE                                 3428\n",
      "android.permission.ACCESS_FINE_LOCATION                                    3142\n",
      "android.permission.ACCESS_COARSE_LOCATION                                  3107\n",
      "android.permission.RECEIVE_BOOT_COMPLETED                                  2950\n",
      "android.permission.READ_PHONE_STATE                                        2844\n",
      "android.permission.CAMERA                                                  2280\n",
      "com.android.vending.BILLING                                                1844\n",
      "com.google.android.finsky.permission.BIND_GET_INSTALL_REFERRER_SERVICE     1397\n",
      "android.permission.CHANGE_WIFI_STATE                                       1240\n",
      "android.permission.SYSTEM_ALERT_WINDOW                                     1176\n",
      "android.permission.GET_ACCOUNTS                                            1161\n",
      "android.permission.BLUETOOTH                                               1150\n",
      "com.htc.launcher.permission.READ_SETTINGS                                  1101\n",
      "com.sec.android.provider.badge.permission.READ                             1079\n",
      "com.sec.android.provider.badge.permission.WRITE                            1074\n",
      "com.sonyericsson.home.permission.BROADCAST_BADGE                           1069\n",
      "com.huawei.android.launcher.permission.READ_SETTINGS                       1057\n",
      "android.permission.GET_TASKS                                               1050\n",
      "com.htc.launcher.permission.UPDATE_SHORTCUT                                1049\n",
      "com.huawei.android.launcher.permission.CHANGE_BADGE                        1046\n",
      "android.permission.RECORD_AUDIO                                            1045\n",
      "com.huawei.android.launcher.permission.WRITE_SETTINGS                      1035\n",
      "Name: Qunatity, dtype: int64\n"
     ]
    },
    {
     "data": {
      "image/png": "[encoded data removed]",
      "text/plain": [
       "<Figure size 576x432 with 1 Axes>"
      ]
     },
     "metadata": {
      "needs_background": "light"
     },
     "output_type": "display_data"
    },
    {
     "name": "stdout",
     "output_type": "stream",
     "text": [
      "android.permission.INTERNET                                               18287\n",
      "android.permission.ACCESS_NETWORK_STATE                                   17753\n",
      "android.permission.WRITE_EXTERNAL_STORAGE                                 14948\n",
      "android.permission.ACCESS_WIFI_STATE                                      11797\n",
      "android.permission.READ_EXTERNAL_STORAGE                                  10637\n",
      "android.permission.WAKE_LOCK                                              10465\n",
      "android.permission.ACCESS_FINE_LOCATION                                    7372\n",
      "android.permission.VIBRATE                                                 7348\n",
      "com.google.android.c2dm.permission.RECEIVE                                 7285\n",
      "android.permission.ACCESS_COARSE_LOCATION                                  7141\n",
      "android.permission.RECEIVE_BOOT_COMPLETED                                  6404\n",
      "com.google.android.finsky.permission.BIND_GET_INSTALL_REFERRER_SERVICE     4568\n",
      "android.permission.READ_PHONE_STATE                                        4447\n",
      "android.permission.CAMERA                                                  4058\n",
      "android.permission.FOREGROUND_SERVICE                                      3355\n",
      "com.android.vending.BILLING                                                2794\n",
      "android.permission.BLUETOOTH                                               2600\n",
      "com.htc.launcher.permission.READ_SETTINGS                                  2457\n",
      "android.permission.CHANGE_WIFI_STATE                                       2415\n",
      "com.sonyericsson.home.permission.BROADCAST_BADGE                           2410\n",
      "com.sec.android.provider.badge.permission.WRITE                            2383\n",
      "com.sec.android.provider.badge.permission.READ                             2382\n",
      "com.htc.launcher.permission.UPDATE_SHORTCUT                                2378\n",
      "com.huawei.android.launcher.permission.CHANGE_BADGE                        2375\n",
      "com.huawei.android.launcher.permission.READ_SETTINGS                       2359\n",
      "com.huawei.android.launcher.permission.WRITE_SETTINGS                      2324\n",
      "com.anddoes.launcher.permission.UPDATE_COUNT                               2305\n",
      "com.sonymobile.home.permission.PROVIDER_INSERT_BADGE                       2301\n",
      "com.majeur.launcher.permission.UPDATE_BADGE                                2284\n",
      "Name: Qunatity, dtype: int64\n"
     ]
    },
    {
     "data": {
      "image/png": "[encoded data removed]",
      "text/plain": [
       "<Figure size 576x432 with 1 Axes>"
      ]
     },
     "metadata": {
      "needs_background": "light"
     },
     "output_type": "display_data"
    },
    {
     "name": "stdout",
     "output_type": "stream",
     "text": [
      "android.permission.INTERNET                                               5601\n",
      "android.permission.ACCESS_NETWORK_STATE                                   5417\n",
      "android.permission.WRITE_EXTERNAL_STORAGE                                 4151\n",
      "android.permission.WAKE_LOCK                                              3719\n",
      "android.permission.ACCESS_WIFI_STATE                                      3579\n",
      "android.permission.READ_EXTERNAL_STORAGE                                  3456\n",
      "com.google.android.c2dm.permission.RECEIVE                                2589\n",
      "android.permission.VIBRATE                                                2485\n",
      "android.permission.RECEIVE_BOOT_COMPLETED                                 2274\n",
      "com.google.android.finsky.permission.BIND_GET_INSTALL_REFERRER_SERVICE    1937\n",
      "android.permission.ACCESS_FINE_LOCATION                                   1917\n",
      "android.permission.ACCESS_COARSE_LOCATION                                 1830\n",
      "android.permission.FOREGROUND_SERVICE                                     1731\n",
      "android.permission.CAMERA                                                 1591\n",
      "android.permission.READ_PHONE_STATE                                       1095\n",
      "com.android.vending.BILLING                                                922\n",
      "com.htc.launcher.permission.READ_SETTINGS                                  768\n",
      "com.sonyericsson.home.permission.BROADCAST_BADGE                           752\n",
      "com.htc.launcher.permission.UPDATE_SHORTCUT                                747\n",
      "android.permission.BLUETOOTH                                               741\n",
      "com.sec.android.provider.badge.permission.WRITE                            737\n",
      "com.huawei.android.launcher.permission.CHANGE_BADGE                        736\n",
      "com.sec.android.provider.badge.permission.READ                             736\n",
      "android.permission.FLASHLIGHT                                              710\n",
      "com.huawei.android.launcher.permission.READ_SETTINGS                       707\n",
      "com.huawei.android.launcher.permission.WRITE_SETTINGS                      702\n",
      "com.sonymobile.home.permission.PROVIDER_INSERT_BADGE                       694\n",
      "com.oppo.launcher.permission.READ_SETTINGS                                 691\n",
      "com.oppo.launcher.permission.WRITE_SETTINGS                                687\n",
      "Name: Qunatity, dtype: int64\n"
     ]
    }
   ],
   "source": [
    "for i in range(len(ben_perm)):\n",
    "    x = np.arange(len(ben_perm[i][\"Qunatity\"].sort_values()[-30:]))\n",
    "    values = ben_perm[i][\"Qunatity\"].sort_values()[-30:]\n",
    "\n",
    "    plt.subplots(figsize=(8,6))\n",
    "    plt.bar(x, values)\n",
    "    plt.title(\"ben{} most used permissions\\n-top 30-\".format(i+2014))\n",
    "\n",
    "    plt.show()\n",
    "\n",
    "    print(ben_perm[i][\"Qunatity\"].sort_values()[:-30:-1])"
   ]
  },
  {
   "cell_type": "code",
   "execution_count": 21,
   "metadata": {
    "ExecuteTime": {
     "end_time": "2022-03-10T03:59:41.487326Z",
     "start_time": "2022-03-10T03:59:40.468052Z"
    },
    "scrolled": false
   },
   "outputs": [
    {
     "data": {
      "image/png": "[encoded data removed]",
      "text/plain": [
       "<Figure size 576x432 with 1 Axes>"
      ]
     },
     "metadata": {
      "needs_background": "light"
     },
     "output_type": "display_data"
    },
    {
     "name": "stdout",
     "output_type": "stream",
     "text": [
      "android.permission.INTERNET                          17540\n",
      "android.permission.ACCESS_NETWORK_STATE              17051\n",
      "android.permission.WRITE_EXTERNAL_STORAGE            15600\n",
      "android.permission.READ_PHONE_STATE                  15430\n",
      "android.permission.ACCESS_WIFI_STATE                 14056\n",
      "android.permission.GET_TASKS                          8103\n",
      "android.permission.SYSTEM_ALERT_WINDOW                8069\n",
      "android.permission.WAKE_LOCK                          6513\n",
      "android.permission.ACCESS_COARSE_LOCATION             5601\n",
      "android.permission.RECEIVE_BOOT_COMPLETED             5282\n",
      "android.permission.ACCESS_FINE_LOCATION               4932\n",
      "android.permission.VIBRATE                            3948\n",
      "android.permission.MOUNT_UNMOUNT_FILESYSTEMS          3774\n",
      "com.android.launcher.permission.INSTALL_SHORTCUT      3596\n",
      "android.permission.CHANGE_WIFI_STATE                  2471\n",
      "android.permission.GET_ACCOUNTS                       1934\n",
      "android.permission.DOWNLOAD_WITHOUT_NOTIFICATION      1684\n",
      "android.permission.READ_EXTERNAL_STORAGE              1651\n",
      "android.permission.RESTART_PACKAGES                   1497\n",
      "android.permission.RECORD_AUDIO                       1419\n",
      "android.permission.CAMERA                             1188\n",
      "android.permission.WRITE_SETTINGS                     1123\n",
      "com.google.android.c2dm.permission.RECEIVE            1123\n",
      "android.permission.ACCESS_LOCATION_EXTRA_COMMANDS     1118\n",
      "android.permission.SEND_SMS                           1109\n",
      "android.permission.READ_LOGS                          1093\n",
      "android.permission.CHANGE_NETWORK_STATE                780\n",
      "com.android.vending.BILLING                            776\n",
      "android.permission.READ_SMS                            725\n",
      "Name: Qunatity, dtype: int64\n"
     ]
    },
    {
     "data": {
      "image/png": "[encoded data removed]",
      "text/plain": [
       "<Figure size 576x432 with 1 Axes>"
      ]
     },
     "metadata": {
      "needs_background": "light"
     },
     "output_type": "display_data"
    },
    {
     "name": "stdout",
     "output_type": "stream",
     "text": [
      "android.permission.INTERNET                           21565\n",
      "android.permission.ACCESS_NETWORK_STATE               20924\n",
      "android.permission.WRITE_EXTERNAL_STORAGE             20157\n",
      "android.permission.ACCESS_WIFI_STATE                  19308\n",
      "android.permission.READ_PHONE_STATE                   19154\n",
      "android.permission.GET_TASKS                          12104\n",
      "android.permission.SYSTEM_ALERT_WINDOW                11126\n",
      "android.permission.ACCESS_COARSE_LOCATION              9346\n",
      "android.permission.WAKE_LOCK                           7667\n",
      "com.android.launcher.permission.INSTALL_SHORTCUT       7081\n",
      "android.permission.ACCESS_FINE_LOCATION                6664\n",
      "android.permission.MOUNT_UNMOUNT_FILESYSTEMS           6263\n",
      "android.permission.VIBRATE                             6053\n",
      "android.permission.RECEIVE_BOOT_COMPLETED              5675\n",
      "android.permission.CHANGE_WIFI_STATE                   5069\n",
      "android.permission.READ_EXTERNAL_STORAGE               3202\n",
      "android.permission.RESTART_PACKAGES                    2846\n",
      "android.permission.ACCESS_LOCATION_EXTRA_COMMANDS      2798\n",
      "android.permission.WRITE_SETTINGS                      2701\n",
      "android.permission.RECORD_AUDIO                        2633\n",
      "android.permission.ACCESS_MOCK_LOCATION                2455\n",
      "com.android.launcher.permission.UNINSTALL_SHORTCUT     2101\n",
      "android.permission.READ_LOGS                           1901\n",
      "android.permission.CAMERA                              1812\n",
      "android.permission.GET_ACCOUNTS                        1504\n",
      "android.permission.SEND_SMS                            1448\n",
      "android.permission.CHANGE_NETWORK_STATE                1295\n",
      "com.android.launcher.permission.READ_SETTINGS          1275\n",
      "android.permission.DISABLE_KEYGUARD                    1084\n",
      "Name: Qunatity, dtype: int64\n"
     ]
    },
    {
     "data": {
      "image/png": "[encoded data removed]",
      "text/plain": [
       "<Figure size 576x432 with 1 Axes>"
      ]
     },
     "metadata": {
      "needs_background": "light"
     },
     "output_type": "display_data"
    },
    {
     "name": "stdout",
     "output_type": "stream",
     "text": [
      "android.permission.INTERNET                         16151\n",
      "android.permission.ACCESS_NETWORK_STATE             15444\n",
      "android.permission.WRITE_EXTERNAL_STORAGE           15034\n",
      "android.permission.ACCESS_WIFI_STATE                13300\n",
      "android.permission.READ_PHONE_STATE                 13263\n",
      "android.permission.SYSTEM_ALERT_WINDOW               8522\n",
      "android.permission.GET_TASKS                         8067\n",
      "android.permission.WAKE_LOCK                         7013\n",
      "android.permission.ACCESS_COARSE_LOCATION            6830\n",
      "android.permission.VIBRATE                           5831\n",
      "android.permission.ACCESS_FINE_LOCATION              5518\n",
      "com.android.launcher.permission.INSTALL_SHORTCUT     4966\n",
      "android.permission.MOUNT_UNMOUNT_FILESYSTEMS         4887\n",
      "android.permission.CHANGE_WIFI_STATE                 4829\n",
      "android.permission.RECEIVE_BOOT_COMPLETED            4608\n",
      "android.permission.READ_EXTERNAL_STORAGE             4537\n",
      "android.permission.WRITE_SETTINGS                    3973\n",
      "android.permission.CAMERA                            3061\n",
      "android.permission.GET_ACCOUNTS                      2872\n",
      "android.permission.READ_LOGS                         2650\n",
      "android.permission.RECORD_AUDIO                      2599\n",
      "android.permission.CHANGE_NETWORK_STATE              2525\n",
      "android.permission.CALL_PHONE                        1882\n",
      "android.permission.RESTART_PACKAGES                  1852\n",
      "com.android.launcher.permission.READ_SETTINGS        1712\n",
      "android.permission.MODIFY_AUDIO_SETTINGS             1520\n",
      "android.permission.SEND_SMS                          1440\n",
      "android.permission.BLUETOOTH                         1437\n",
      "android.permission.READ_CONTACTS                     1416\n",
      "Name: Qunatity, dtype: int64\n"
     ]
    },
    {
     "data": {
      "image/png": "[encoded data removed]",
      "text/plain": [
       "<Figure size 576x432 with 1 Axes>"
      ]
     },
     "metadata": {
      "needs_background": "light"
     },
     "output_type": "display_data"
    },
    {
     "name": "stdout",
     "output_type": "stream",
     "text": [
      "android.permission.INTERNET                          12021\n",
      "android.permission.ACCESS_NETWORK_STATE              11743\n",
      "android.permission.WRITE_EXTERNAL_STORAGE             8141\n",
      "android.permission.ACCESS_WIFI_STATE                  6770\n",
      "android.permission.READ_PHONE_STATE                   6050\n",
      "android.permission.WAKE_LOCK                          5347\n",
      "android.permission.ACCESS_COARSE_LOCATION             4947\n",
      "android.permission.ACCESS_FINE_LOCATION               4594\n",
      "android.permission.VIBRATE                            4443\n",
      "android.permission.READ_EXTERNAL_STORAGE              4418\n",
      "android.permission.GET_TASKS                          3795\n",
      "android.permission.CHANGE_WIFI_STATE                  3686\n",
      "android.permission.SYSTEM_ALERT_WINDOW                3588\n",
      "android.permission.MOUNT_UNMOUNT_FILESYSTEMS          3523\n",
      "android.permission.WRITE_SETTINGS                     3340\n",
      "android.permission.CAMERA                             3194\n",
      "android.permission.RECEIVE_BOOT_COMPLETED             3168\n",
      "android.permission.RECORD_AUDIO                       2412\n",
      "android.permission.GET_ACCOUNTS                       2404\n",
      "android.permission.READ_LOGS                          2392\n",
      "android.permission.CHANGE_NETWORK_STATE               2308\n",
      "android.permission.CALL_PHONE                         1831\n",
      "com.google.android.c2dm.permission.RECEIVE            1800\n",
      "android.permission.MODIFY_AUDIO_SETTINGS              1443\n",
      "android.permission.ACCESS_LOCATION_EXTRA_COMMANDS     1429\n",
      "android.permission.BLUETOOTH                          1420\n",
      "android.permission.RECEIVE_USER_PRESENT               1347\n",
      "android.permission.MANAGE_ACCOUNTS                    1332\n",
      "android.permission.READ_CONTACTS                      1281\n",
      "Name: Qunatity, dtype: int64\n"
     ]
    },
    {
     "data": {
      "image/png": "[encoded data removed]",
      "text/plain": [
       "<Figure size 576x432 with 1 Axes>"
      ]
     },
     "metadata": {
      "needs_background": "light"
     },
     "output_type": "display_data"
    },
    {
     "name": "stdout",
     "output_type": "stream",
     "text": [
      "android.permission.INTERNET                          13396\n",
      "android.permission.ACCESS_NETWORK_STATE              13241\n",
      "android.permission.WRITE_EXTERNAL_STORAGE            11333\n",
      "android.permission.ACCESS_WIFI_STATE                 10782\n",
      "android.permission.READ_PHONE_STATE                   9973\n",
      "android.permission.READ_EXTERNAL_STORAGE              7981\n",
      "android.permission.WAKE_LOCK                          7519\n",
      "android.permission.ACCESS_COARSE_LOCATION             7498\n",
      "android.permission.ACCESS_FINE_LOCATION               7297\n",
      "android.permission.VIBRATE                            6908\n",
      "android.permission.CHANGE_WIFI_STATE                  6767\n",
      "android.permission.GET_TASKS                          6420\n",
      "android.permission.MOUNT_UNMOUNT_FILESYSTEMS          6195\n",
      "android.permission.CAMERA                             5988\n",
      "android.permission.WRITE_SETTINGS                     5710\n",
      "android.permission.SYSTEM_ALERT_WINDOW                5296\n",
      "android.permission.CHANGE_NETWORK_STATE               4551\n",
      "android.permission.RECEIVE_BOOT_COMPLETED             4506\n",
      "android.permission.READ_LOGS                          4373\n",
      "android.permission.RECORD_AUDIO                       4269\n",
      "android.permission.BLUETOOTH                          3217\n",
      "android.permission.ACCESS_LOCATION_EXTRA_COMMANDS     3186\n",
      "android.permission.CALL_PHONE                         3175\n",
      "android.permission.GET_ACCOUNTS                       3028\n",
      "android.permission.RECEIVE_USER_PRESENT               3020\n",
      "android.permission.MODIFY_AUDIO_SETTINGS              2772\n",
      "android.permission.FLASHLIGHT                         2249\n",
      "android.permission.READ_CONTACTS                      2177\n",
      "android.permission.BLUETOOTH_ADMIN                    2082\n",
      "Name: Qunatity, dtype: int64\n"
     ]
    },
    {
     "data": {
      "image/png": "[encoded data removed]",
      "text/plain": [
       "<Figure size 576x432 with 1 Axes>"
      ]
     },
     "metadata": {
      "needs_background": "light"
     },
     "output_type": "display_data"
    },
    {
     "name": "stdout",
     "output_type": "stream",
     "text": [
      "android.permission.INTERNET                          12715\n",
      "android.permission.ACCESS_NETWORK_STATE              12652\n",
      "android.permission.WRITE_EXTERNAL_STORAGE            11969\n",
      "android.permission.ACCESS_WIFI_STATE                 11811\n",
      "android.permission.READ_PHONE_STATE                  11291\n",
      "android.permission.READ_EXTERNAL_STORAGE              9894\n",
      "android.permission.WAKE_LOCK                          8758\n",
      "android.permission.ACCESS_COARSE_LOCATION             8591\n",
      "android.permission.VIBRATE                            8538\n",
      "android.permission.ACCESS_FINE_LOCATION               8515\n",
      "android.permission.CHANGE_WIFI_STATE                  8327\n",
      "android.permission.CAMERA                             7775\n",
      "android.permission.GET_TASKS                          7742\n",
      "android.permission.WRITE_SETTINGS                     6926\n",
      "android.permission.MOUNT_UNMOUNT_FILESYSTEMS          6892\n",
      "android.permission.REQUEST_INSTALL_PACKAGES           6688\n",
      "android.permission.SYSTEM_ALERT_WINDOW                6620\n",
      "android.permission.CHANGE_NETWORK_STATE               6120\n",
      "android.permission.RECORD_AUDIO                       5692\n",
      "android.permission.RECEIVE_BOOT_COMPLETED             5585\n",
      "android.permission.READ_LOGS                          5225\n",
      "android.permission.BLUETOOTH                          4849\n",
      "android.permission.ACCESS_LOCATION_EXTRA_COMMANDS     4307\n",
      "android.permission.RECEIVE_USER_PRESENT               4225\n",
      "android.permission.CALL_PHONE                         3799\n",
      "android.permission.MODIFY_AUDIO_SETTINGS              3710\n",
      "android.permission.FLASHLIGHT                         3085\n",
      "android.permission.GET_ACCOUNTS                       2859\n",
      "android.permission.BLUETOOTH_ADMIN                    2827\n",
      "Name: Qunatity, dtype: int64\n"
     ]
    },
    {
     "data": {
      "image/png": "[encoded data removed]",
      "text/plain": [
       "<Figure size 576x432 with 1 Axes>"
      ]
     },
     "metadata": {
      "needs_background": "light"
     },
     "output_type": "display_data"
    },
    {
     "name": "stdout",
     "output_type": "stream",
     "text": [
      "android.permission.INTERNET                          21632\n",
      "android.permission.ACCESS_NETWORK_STATE              21604\n",
      "android.permission.WRITE_EXTERNAL_STORAGE            20346\n",
      "android.permission.ACCESS_WIFI_STATE                 19672\n",
      "android.permission.READ_PHONE_STATE                  17307\n",
      "android.permission.READ_EXTERNAL_STORAGE             16967\n",
      "android.permission.WAKE_LOCK                         15862\n",
      "android.permission.VIBRATE                           14234\n",
      "android.permission.ACCESS_COARSE_LOCATION            13921\n",
      "android.permission.ACCESS_FINE_LOCATION              13578\n",
      "android.permission.CHANGE_WIFI_STATE                 13552\n",
      "android.permission.CAMERA                            13248\n",
      "android.permission.REQUEST_INSTALL_PACKAGES          12769\n",
      "android.permission.GET_TASKS                         12145\n",
      "android.permission.SYSTEM_ALERT_WINDOW               10700\n",
      "android.permission.RECEIVE_BOOT_COMPLETED            10380\n",
      "android.permission.MOUNT_UNMOUNT_FILESYSTEMS         10231\n",
      "android.permission.WRITE_SETTINGS                    10118\n",
      "android.permission.CHANGE_NETWORK_STATE               9673\n",
      "android.permission.RECORD_AUDIO                       9280\n",
      "android.permission.BLUETOOTH                          8753\n",
      "android.permission.READ_LOGS                          6734\n",
      "android.permission.MODIFY_AUDIO_SETTINGS              6676\n",
      "android.permission.ACCESS_LOCATION_EXTRA_COMMANDS     6305\n",
      "android.permission.RECEIVE_USER_PRESENT               6154\n",
      "android.permission.FOREGROUND_SERVICE                 6119\n",
      "android.permission.FLASHLIGHT                         5708\n",
      "android.permission.BLUETOOTH_ADMIN                    5612\n",
      "android.permission.CALL_PHONE                         5512\n",
      "Name: Qunatity, dtype: int64\n"
     ]
    },
    {
     "data": {
      "image/png": "[encoded data removed]",
      "text/plain": [
       "<Figure size 576x432 with 1 Axes>"
      ]
     },
     "metadata": {
      "needs_background": "light"
     },
     "output_type": "display_data"
    },
    {
     "name": "stdout",
     "output_type": "stream",
     "text": [
      "android.permission.WRITE_EXTERNAL_STORAGE                                 9991\n",
      "android.permission.INTERNET                                               5944\n",
      "android.permission.ACCESS_NETWORK_STATE                                   5868\n",
      "android.permission.WAKE_LOCK                                              5001\n",
      "android.permission.ACCESS_WIFI_STATE                                      4912\n",
      "android.permission.READ_EXTERNAL_STORAGE                                  4816\n",
      "com.google.android.finsky.permission.BIND_GET_INSTALL_REFERRER_SERVICE    3991\n",
      "android.permission.READ_PHONE_STATE                                       3932\n",
      "android.permission.RECEIVE_BOOT_COMPLETED                                 3834\n",
      "com.google.android.c2dm.permission.RECEIVE                                3460\n",
      "android.permission.CHANGE_WIFI_STATE                                      3258\n",
      "android.permission.SYSTEM_ALERT_WINDOW                                    3215\n",
      "com.android.vending.BILLING                                               3141\n",
      "android.permission.BLUETOOTH                                              3056\n",
      "android.permission.BLUETOOTH_ADMIN                                        2754\n",
      "android.permission.GET_ACCOUNTS                                           2382\n",
      "com.android.alarm.permission.SET_ALARM                                    2064\n",
      "com.google.android.gms.permission.ACTIVITY_RECOGNITION                    2036\n",
      "com.android.browser.permission.READ_HISTORY_BOOKMARKS                     2030\n",
      "android.webkit.permission.PLUGIN                                          2023\n",
      "android.permission.ACCESS_COARSE_LOCATION                                 1983\n",
      "android.permission.VIBRATE                                                1980\n",
      "android.permission.CAMERA                                                 1954\n",
      "android.permission.ACCESS_FINE_LOCATION                                   1954\n",
      "android.permission.FOREGROUND_SERVICE                                     1811\n",
      "android.permission.REQUEST_INSTALL_PACKAGES                               1283\n",
      "android.permission.RECORD_AUDIO                                           1087\n",
      "android.permission.GET_TASKS                                              1055\n",
      "android.permission.CHANGE_NETWORK_STATE                                    994\n",
      "Name: Qunatity, dtype: int64\n"
     ]
    }
   ],
   "source": [
    "for i in range(len(mal_perm)):\n",
    "    x = np.arange(len(mal_perm[i][\"Qunatity\"].sort_values()[-30:]))\n",
    "    values = mal_perm[i][\"Qunatity\"].sort_values()[-30:]\n",
    "\n",
    "    plt.subplots(figsize=(8,6))\n",
    "    plt.bar(x, values)\n",
    "    plt.title(\"mal{} most used permissions\\n-top 30-\".format(i+2014))\n",
    "\n",
    "    plt.show()\n",
    "\n",
    "    print(mal_perm[i][\"Qunatity\"].sort_values()[:-30:-1])"
   ]
  },
  {
   "cell_type": "code",
   "execution_count": null,
   "metadata": {},
   "outputs": [],
   "source": []
  },
  {
   "cell_type": "code",
   "execution_count": null,
   "metadata": {},
   "outputs": [],
   "source": []
  },
  {
   "cell_type": "code",
   "execution_count": 45,
   "metadata": {
    "ExecuteTime": {
     "end_time": "2022-03-10T04:36:33.937007Z",
     "start_time": "2022-03-10T04:36:33.930055Z"
    }
   },
   "outputs": [
    {
     "data": {
      "text/plain": [
       "58"
      ]
     },
     "execution_count": 45,
     "metadata": {},
     "output_type": "execute_result"
    }
   ],
   "source": [
    "len(\"com.google.android.providers.gsf.permission.READ_GSERVICES\")"
   ]
  },
  {
   "cell_type": "code",
   "execution_count": null,
   "metadata": {},
   "outputs": [],
   "source": []
  },
  {
   "cell_type": "code",
   "execution_count": 40,
   "metadata": {
    "ExecuteTime": {
     "end_time": "2022-03-10T04:31:21.556848Z",
     "start_time": "2022-03-10T04:31:21.537898Z"
    }
   },
   "outputs": [
    {
     "data": {
      "text/plain": [
       "'android.permission.ACCESS_NETWORK_STATE'"
      ]
     },
     "execution_count": 40,
     "metadata": {},
     "output_type": "execute_result"
    }
   ],
   "source": [
    "ben_perm[0][\"Qunatity\"].sort_values(ascending=False).index[1]"
   ]
  },
  {
   "cell_type": "code",
   "execution_count": 50,
   "metadata": {
    "ExecuteTime": {
     "end_time": "2022-03-10T04:47:29.077005Z",
     "start_time": "2022-03-10T04:47:28.873550Z"
    },
    "scrolled": false
   },
   "outputs": [
    {
     "name": "stdout",
     "output_type": "stream",
     "text": [
      "2014 year ben apk's permission ranking\n",
      "1   android.permission.INTERNET                                  39,861\n",
      "2   android.permission.ACCESS_NETWORK_STATE                      36,252\n",
      "3   android.permission.WRITE_EXTERNAL_STORAGE                    27,027\n",
      "4   android.permission.READ_PHONE_STATE                          16,504\n",
      "5   android.permission.WAKE_LOCK                                 15,424\n",
      "6   android.permission.ACCESS_WIFI_STATE                         14,394\n",
      "7   android.permission.VIBRATE                                   12,674\n",
      "8   android.permission.ACCESS_FINE_LOCATION                      11,645\n",
      "9   android.permission.ACCESS_COARSE_LOCATION                    11,181\n",
      "10  android.permission.GET_ACCOUNTS                              10,462\n",
      "11  com.google.android.c2dm.permission.RECEIVE                    9,148\n",
      "12  android.permission.CAMERA                                     6,591\n",
      "13  android.permission.RECEIVE_BOOT_COMPLETED                     5,977\n",
      "14  android.permission.GET_TASKS                                  4,730\n",
      "15  android.permission.READ_EXTERNAL_STORAGE                      4,411\n",
      "16  android.permission.CALL_PHONE                                 4,290\n",
      "17  com.android.vending.BILLING                                   3,951\n",
      "18  com.google.android.providers.gsf.permission.READ_GSERVICES    3,813\n",
      "19  android.permission.RECORD_AUDIO                               3,410\n",
      "20  android.permission.READ_CONTACTS                              3,353\n",
      "21  android.permission.CHANGE_WIFI_STATE                          2,910\n",
      "22  android.permission.SYSTEM_ALERT_WINDOW                        2,893\n",
      "23  android.permission.WRITE_SETTINGS                             2,652\n",
      "24  android.permission.MOUNT_UNMOUNT_FILESYSTEMS                  2,403\n",
      "25  android.permission.SET_WALLPAPER                              2,031\n",
      "26  android.permission.SEND_SMS                                   2,025\n",
      "27  android.permission.READ_LOGS                                  1,855\n",
      "28  com.android.launcher.permission.INSTALL_SHORTCUT              1,825\n",
      "29  android.permission.USE_CREDENTIALS                            1,781\n",
      "30  android.permission.MODIFY_AUDIO_SETTINGS                      1,760\n",
      "\n",
      "2015 year ben apk's permission ranking\n",
      "1   android.permission.INTERNET                                  40,221\n",
      "2   android.permission.ACCESS_NETWORK_STATE                      36,954\n",
      "3   android.permission.WRITE_EXTERNAL_STORAGE                    27,404\n",
      "4   android.permission.WAKE_LOCK                                 16,757\n",
      "5   android.permission.READ_PHONE_STATE                          16,074\n",
      "6   android.permission.ACCESS_WIFI_STATE                         14,463\n",
      "7   android.permission.VIBRATE                                   13,373\n",
      "8   android.permission.GET_ACCOUNTS                              12,321\n",
      "9   android.permission.ACCESS_COARSE_LOCATION                    11,157\n",
      "10  com.google.android.c2dm.permission.RECEIVE                    9,520\n",
      "11  android.permission.ACCESS_FINE_LOCATION                       9,383\n",
      "12  android.permission.READ_EXTERNAL_STORAGE                      7,912\n",
      "13  android.permission.CAMERA                                     6,855\n",
      "14  android.permission.RECEIVE_BOOT_COMPLETED                     6,275\n",
      "15  android.permission.GET_TASKS                                  4,570\n",
      "16  com.android.vending.BILLING                                   4,276\n",
      "17  android.permission.RECORD_AUDIO                               4,191\n",
      "18  android.permission.USE_CREDENTIALS                            3,965\n",
      "19  android.permission.CALL_PHONE                                 3,643\n",
      "20  com.google.android.providers.gsf.permission.READ_GSERVICES    3,206\n",
      "21  android.permission.SYSTEM_ALERT_WINDOW                        3,054\n",
      "22  android.permission.WRITE_SETTINGS                             3,036\n",
      "23  android.permission.CHANGE_WIFI_STATE                          2,887\n",
      "24  android.permission.READ_CONTACTS                              2,814\n",
      "25  android.permission.MANAGE_ACCOUNTS                            2,550\n",
      "26  android.permission.MOUNT_UNMOUNT_FILESYSTEMS                  2,354\n",
      "27  android.permission.BLUETOOTH                                  2,111\n",
      "28  android.permission.MODIFY_AUDIO_SETTINGS                      2,099\n",
      "29  android.permission.AUTHENTICATE_ACCOUNTS                      2,053\n",
      "30  android.permission.READ_LOGS                                  1,857\n",
      "\n",
      "2016 year ben apk's permission ranking\n",
      "1   android.permission.INTERNET                                  22,490\n",
      "2   android.permission.ACCESS_NETWORK_STATE                      21,215\n",
      "3   android.permission.WRITE_EXTERNAL_STORAGE                    15,570\n",
      "4   android.permission.WAKE_LOCK                                 11,812\n",
      "5   com.google.android.c2dm.permission.RECEIVE                    8,784\n",
      "6   android.permission.ACCESS_WIFI_STATE                          8,717\n",
      "7   android.permission.VIBRATE                                    8,371\n",
      "8   android.permission.READ_PHONE_STATE                           8,135\n",
      "9   android.permission.GET_ACCOUNTS                               7,016\n",
      "10  android.permission.READ_EXTERNAL_STORAGE                      6,829\n",
      "11  android.permission.ACCESS_FINE_LOCATION                       6,769\n",
      "12  android.permission.ACCESS_COARSE_LOCATION                     6,450\n",
      "13  android.permission.RECEIVE_BOOT_COMPLETED                     4,656\n",
      "14  android.permission.CAMERA                                     4,471\n",
      "15  com.android.vending.BILLING                                   3,001\n",
      "16  com.google.android.providers.gsf.permission.READ_GSERVICES    2,600\n",
      "17  android.permission.RECORD_AUDIO                               2,427\n",
      "18  android.permission.GET_TASKS                                  2,363\n",
      "19  android.permission.READ_CONTACTS                              1,970\n",
      "20  android.permission.CALL_PHONE                                 1,961\n",
      "21  android.permission.USE_CREDENTIALS                            1,807\n",
      "22  android.permission.SYSTEM_ALERT_WINDOW                        1,756\n",
      "23  android.permission.WRITE_SETTINGS                             1,631\n",
      "24  android.permission.BLUETOOTH                                  1,599\n",
      "25  android.permission.CHANGE_WIFI_STATE                          1,583\n",
      "26  android.permission.MODIFY_AUDIO_SETTINGS                      1,325\n",
      "27  android.permission.BLUETOOTH_ADMIN                            1,074\n",
      "28  android.permission.SET_WALLPAPER                              1,062\n",
      "29  android.permission.MOUNT_UNMOUNT_FILESYSTEMS                    934\n",
      "30  android.permission.FLASHLIGHT                                   930\n",
      "\n",
      "2017 year ben apk's permission ranking\n",
      "1   android.permission.INTERNET                                  17,537\n",
      "2   android.permission.ACCESS_NETWORK_STATE                      16,536\n",
      "3   android.permission.WRITE_EXTERNAL_STORAGE                    11,400\n",
      "4   android.permission.WAKE_LOCK                                  8,070\n",
      "5   android.permission.ACCESS_WIFI_STATE                          7,498\n",
      "6   android.permission.VIBRATE                                    5,457\n",
      "7   com.google.android.c2dm.permission.RECEIVE                    5,118\n",
      "8   android.permission.READ_PHONE_STATE                           4,919\n",
      "9   android.permission.ACCESS_COARSE_LOCATION                     3,914\n",
      "10  android.permission.ACCESS_FINE_LOCATION                       3,753\n",
      "11  android.permission.READ_EXTERNAL_STORAGE                      3,658\n",
      "12  android.permission.RECEIVE_BOOT_COMPLETED                     3,538\n",
      "13  android.permission.CAMERA                                     2,709\n",
      "14  android.permission.GET_ACCOUNTS                               2,705\n",
      "15  com.android.vending.BILLING                                   1,833\n",
      "16  android.permission.GET_TASKS                                  1,645\n",
      "17  android.permission.SET_WALLPAPER                              1,398\n",
      "18  android.permission.SYSTEM_ALERT_WINDOW                        1,390\n",
      "19  android.permission.WRITE_SETTINGS                             1,215\n",
      "20  com.google.android.providers.gsf.permission.READ_GSERVICES    1,206\n",
      "21  android.permission.RECORD_AUDIO                               1,180\n",
      "22  android.permission.BLUETOOTH                                  1,000\n",
      "23  android.permission.CALL_PHONE                                   998\n",
      "24  android.permission.READ_CONTACTS                                950\n",
      "25  android.permission.FLASHLIGHT                                   933\n",
      "26  com.htc.launcher.permission.READ_SETTINGS                       820\n",
      "27  android.permission.CHANGE_WIFI_STATE                            818\n",
      "28  com.sec.android.provider.badge.permission.WRITE                 811\n",
      "29  com.sonyericsson.home.permission.BROADCAST_BADGE                808\n",
      "30  com.sec.android.provider.badge.permission.READ                  807\n",
      "\n",
      "2018 year ben apk's permission ranking\n",
      "1   android.permission.INTERNET                                  10,213\n",
      "2   android.permission.ACCESS_NETWORK_STATE                       9,738\n",
      "3   android.permission.WRITE_EXTERNAL_STORAGE                     6,408\n",
      "4   android.permission.ACCESS_WIFI_STATE                          4,979\n",
      "5   android.permission.WAKE_LOCK                                  4,741\n",
      "6   android.permission.VIBRATE                                    3,704\n",
      "7   com.google.android.c2dm.permission.RECEIVE                    3,149\n",
      "8   android.permission.READ_PHONE_STATE                           2,920\n",
      "9   android.permission.READ_EXTERNAL_STORAGE                      2,599\n",
      "10  android.permission.RECEIVE_BOOT_COMPLETED                     2,453\n",
      "11  android.permission.ACCESS_COARSE_LOCATION                     2,281\n",
      "12  android.permission.ACCESS_FINE_LOCATION                       2,200\n",
      "13  com.android.vending.BILLING                                   2,134\n",
      "14  android.permission.CAMERA                                     1,779\n",
      "15  android.permission.GET_ACCOUNTS                               1,379\n",
      "16  android.permission.GET_TASKS                                  1,174\n",
      "17  android.permission.SYSTEM_ALERT_WINDOW                          983\n",
      "18  android.permission.CHANGE_WIFI_STATE                            869\n",
      "19  android.permission.FLASHLIGHT                                   800\n",
      "20  android.permission.RECORD_AUDIO                                 787\n",
      "21  android.permission.WRITE_SETTINGS                               776\n",
      "22  android.permission.BLUETOOTH                                    704\n",
      "23  android.permission.CALL_PHONE                                   666\n",
      "24  com.htc.launcher.permission.READ_SETTINGS                       645\n",
      "25  com.sonyericsson.home.permission.BROADCAST_BADGE                628\n",
      "26  com.sec.android.provider.badge.permission.READ                  615\n",
      "27  com.sec.android.provider.badge.permission.WRITE                 614\n",
      "28  android.permission.READ_CONTACTS                                606\n",
      "29  android.permission.MOUNT_UNMOUNT_FILESYSTEMS                    601\n",
      "30  com.htc.launcher.permission.UPDATE_SHORTCUT                     598\n",
      "\n",
      "2019 year ben apk's permission ranking\n",
      "1   android.permission.INTERNET                                  10,650\n",
      "2   android.permission.ACCESS_NETWORK_STATE                      10,184\n",
      "3   android.permission.WRITE_EXTERNAL_STORAGE                     7,322\n",
      "4   android.permission.ACCESS_WIFI_STATE                          6,159\n",
      "5   android.permission.WAKE_LOCK                                  5,385\n",
      "6   android.permission.READ_EXTERNAL_STORAGE                      4,546\n",
      "7   android.permission.VIBRATE                                    4,011\n",
      "8   com.google.android.c2dm.permission.RECEIVE                    3,428\n",
      "9   android.permission.ACCESS_FINE_LOCATION                       3,142\n",
      "10  android.permission.ACCESS_COARSE_LOCATION                     3,107\n",
      "11  android.permission.RECEIVE_BOOT_COMPLETED                     2,950\n",
      "12  android.permission.READ_PHONE_STATE                           2,844\n",
      "13  android.permission.CAMERA                                     2,280\n",
      "14  com.android.vending.BILLING                                   1,844\n",
      "15  com.google.android.finsky.permission.BIND_GET_INSTALL_REFERRER_SERVICE  1,397\n",
      "16  android.permission.CHANGE_WIFI_STATE                          1,240\n",
      "17  android.permission.SYSTEM_ALERT_WINDOW                        1,176\n",
      "18  android.permission.GET_ACCOUNTS                               1,161\n",
      "19  android.permission.BLUETOOTH                                  1,150\n",
      "20  com.htc.launcher.permission.READ_SETTINGS                     1,101\n",
      "21  com.sec.android.provider.badge.permission.READ                1,079\n",
      "22  com.sec.android.provider.badge.permission.WRITE               1,074\n",
      "23  com.sonyericsson.home.permission.BROADCAST_BADGE              1,069\n",
      "24  com.huawei.android.launcher.permission.READ_SETTINGS          1,057\n",
      "25  android.permission.GET_TASKS                                  1,050\n",
      "26  com.htc.launcher.permission.UPDATE_SHORTCUT                   1,049\n",
      "27  com.huawei.android.launcher.permission.CHANGE_BADGE           1,046\n",
      "28  android.permission.RECORD_AUDIO                               1,045\n",
      "29  com.huawei.android.launcher.permission.WRITE_SETTINGS         1,035\n",
      "30  com.anddoes.launcher.permission.UPDATE_COUNT                  1,033\n",
      "\n",
      "2020 year ben apk's permission ranking\n",
      "1   android.permission.INTERNET                                  18,287\n",
      "2   android.permission.ACCESS_NETWORK_STATE                      17,753\n",
      "3   android.permission.WRITE_EXTERNAL_STORAGE                    14,948\n",
      "4   android.permission.ACCESS_WIFI_STATE                         11,797\n",
      "5   android.permission.READ_EXTERNAL_STORAGE                     10,637\n",
      "6   android.permission.WAKE_LOCK                                 10,465\n",
      "7   android.permission.ACCESS_FINE_LOCATION                       7,372\n",
      "8   android.permission.VIBRATE                                    7,348\n",
      "9   com.google.android.c2dm.permission.RECEIVE                    7,285\n",
      "10  android.permission.ACCESS_COARSE_LOCATION                     7,141\n",
      "11  android.permission.RECEIVE_BOOT_COMPLETED                     6,404\n",
      "12  com.google.android.finsky.permission.BIND_GET_INSTALL_REFERRER_SERVICE  4,568\n",
      "13  android.permission.READ_PHONE_STATE                           4,447\n",
      "14  android.permission.CAMERA                                     4,058\n",
      "15  android.permission.FOREGROUND_SERVICE                         3,355\n",
      "16  com.android.vending.BILLING                                   2,794\n",
      "17  android.permission.BLUETOOTH                                  2,600\n",
      "18  com.htc.launcher.permission.READ_SETTINGS                     2,457\n",
      "19  android.permission.CHANGE_WIFI_STATE                          2,415\n",
      "20  com.sonyericsson.home.permission.BROADCAST_BADGE              2,410\n",
      "21  com.sec.android.provider.badge.permission.WRITE               2,383\n",
      "22  com.sec.android.provider.badge.permission.READ                2,382\n",
      "23  com.htc.launcher.permission.UPDATE_SHORTCUT                   2,378\n"
     ]
    },
    {
     "name": "stdout",
     "output_type": "stream",
     "text": [
      "24  com.huawei.android.launcher.permission.CHANGE_BADGE           2,375\n",
      "25  com.huawei.android.launcher.permission.READ_SETTINGS          2,359\n",
      "26  com.huawei.android.launcher.permission.WRITE_SETTINGS         2,324\n",
      "27  com.anddoes.launcher.permission.UPDATE_COUNT                  2,305\n",
      "28  com.sonymobile.home.permission.PROVIDER_INSERT_BADGE          2,301\n",
      "29  com.majeur.launcher.permission.UPDATE_BADGE                   2,284\n",
      "30  com.oppo.launcher.permission.READ_SETTINGS                    2,172\n",
      "\n",
      "2021 year ben apk's permission ranking\n",
      "1   android.permission.INTERNET                                   5,601\n",
      "2   android.permission.ACCESS_NETWORK_STATE                       5,417\n",
      "3   android.permission.WRITE_EXTERNAL_STORAGE                     4,151\n",
      "4   android.permission.WAKE_LOCK                                  3,719\n",
      "5   android.permission.ACCESS_WIFI_STATE                          3,579\n",
      "6   android.permission.READ_EXTERNAL_STORAGE                      3,456\n",
      "7   com.google.android.c2dm.permission.RECEIVE                    2,589\n",
      "8   android.permission.VIBRATE                                    2,485\n",
      "9   android.permission.RECEIVE_BOOT_COMPLETED                     2,274\n",
      "10  com.google.android.finsky.permission.BIND_GET_INSTALL_REFERRER_SERVICE  1,937\n",
      "11  android.permission.ACCESS_FINE_LOCATION                       1,917\n",
      "12  android.permission.ACCESS_COARSE_LOCATION                     1,830\n",
      "13  android.permission.FOREGROUND_SERVICE                         1,731\n",
      "14  android.permission.CAMERA                                     1,591\n",
      "15  android.permission.READ_PHONE_STATE                           1,095\n",
      "16  com.android.vending.BILLING                                     922\n",
      "17  com.htc.launcher.permission.READ_SETTINGS                       768\n",
      "18  com.sonyericsson.home.permission.BROADCAST_BADGE                752\n",
      "19  com.htc.launcher.permission.UPDATE_SHORTCUT                     747\n",
      "20  android.permission.BLUETOOTH                                    741\n",
      "21  com.sec.android.provider.badge.permission.WRITE                 737\n",
      "22  com.sec.android.provider.badge.permission.READ                  736\n",
      "23  com.huawei.android.launcher.permission.CHANGE_BADGE             736\n",
      "24  android.permission.FLASHLIGHT                                   710\n",
      "25  com.huawei.android.launcher.permission.READ_SETTINGS            707\n",
      "26  com.huawei.android.launcher.permission.WRITE_SETTINGS           702\n",
      "27  com.sonymobile.home.permission.PROVIDER_INSERT_BADGE            694\n",
      "28  com.oppo.launcher.permission.READ_SETTINGS                      691\n",
      "29  com.oppo.launcher.permission.WRITE_SETTINGS                     687\n",
      "30  com.anddoes.launcher.permission.UPDATE_COUNT                    676\n",
      "\n"
     ]
    }
   ],
   "source": [
    "for i in range(len(ben_perm)):\n",
    "    print(i+2014, \"year ben apk's permission ranking\")\n",
    "    for j in range(30):\n",
    "        print(\"{:<3} {:<60} {:>6,}\".format(j+1, ben_perm[i][\"Qunatity\"].sort_values(ascending=False).index[j], ben_perm[i][\"Qunatity\"].sort_values(ascending=False)[j]))\n",
    "    print()"
   ]
  },
  {
   "cell_type": "code",
   "execution_count": 53,
   "metadata": {
    "ExecuteTime": {
     "end_time": "2022-03-10T05:17:53.524843Z",
     "start_time": "2022-03-10T05:17:53.360284Z"
    },
    "scrolled": true
   },
   "outputs": [
    {
     "name": "stdout",
     "output_type": "stream",
     "text": [
      "2014 year mal apk's permission ranking\n",
      "1   android.permission.INTERNET                                  17,540\n",
      "2   android.permission.ACCESS_NETWORK_STATE                      17,051\n",
      "3   android.permission.WRITE_EXTERNAL_STORAGE                    15,600\n",
      "4   android.permission.READ_PHONE_STATE                          15,430\n",
      "5   android.permission.ACCESS_WIFI_STATE                         14,056\n",
      "6   android.permission.GET_TASKS                                  8,103\n",
      "7   android.permission.SYSTEM_ALERT_WINDOW                        8,069\n",
      "8   android.permission.WAKE_LOCK                                  6,513\n",
      "9   android.permission.ACCESS_COARSE_LOCATION                     5,601\n",
      "10  android.permission.RECEIVE_BOOT_COMPLETED                     5,282\n",
      "11  android.permission.ACCESS_FINE_LOCATION                       4,932\n",
      "12  android.permission.VIBRATE                                    3,948\n",
      "13  android.permission.MOUNT_UNMOUNT_FILESYSTEMS                  3,774\n",
      "14  com.android.launcher.permission.INSTALL_SHORTCUT              3,596\n",
      "15  android.permission.CHANGE_WIFI_STATE                          2,471\n",
      "16  android.permission.GET_ACCOUNTS                               1,934\n",
      "17  android.permission.DOWNLOAD_WITHOUT_NOTIFICATION              1,684\n",
      "18  android.permission.READ_EXTERNAL_STORAGE                      1,651\n",
      "19  android.permission.RESTART_PACKAGES                           1,497\n",
      "20  android.permission.RECORD_AUDIO                               1,419\n",
      "21  android.permission.CAMERA                                     1,188\n",
      "22  com.google.android.c2dm.permission.RECEIVE                    1,123\n",
      "23  android.permission.WRITE_SETTINGS                             1,123\n",
      "24  android.permission.ACCESS_LOCATION_EXTRA_COMMANDS             1,118\n",
      "25  android.permission.SEND_SMS                                   1,109\n",
      "26  android.permission.READ_LOGS                                  1,093\n",
      "27  android.permission.CHANGE_NETWORK_STATE                         780\n",
      "28  com.android.vending.BILLING                                     776\n",
      "29  android.permission.READ_SMS                                     725\n",
      "30  android.permission.RECEIVE_SMS                                  694\n",
      "\n",
      "2015 year mal apk's permission ranking\n",
      "1   android.permission.INTERNET                                  21,565\n",
      "2   android.permission.ACCESS_NETWORK_STATE                      20,924\n",
      "3   android.permission.WRITE_EXTERNAL_STORAGE                    20,157\n",
      "4   android.permission.ACCESS_WIFI_STATE                         19,308\n",
      "5   android.permission.READ_PHONE_STATE                          19,154\n",
      "6   android.permission.GET_TASKS                                 12,104\n",
      "7   android.permission.SYSTEM_ALERT_WINDOW                       11,126\n",
      "8   android.permission.ACCESS_COARSE_LOCATION                     9,346\n",
      "9   android.permission.WAKE_LOCK                                  7,667\n",
      "10  com.android.launcher.permission.INSTALL_SHORTCUT              7,081\n",
      "11  android.permission.ACCESS_FINE_LOCATION                       6,664\n",
      "12  android.permission.MOUNT_UNMOUNT_FILESYSTEMS                  6,263\n",
      "13  android.permission.VIBRATE                                    6,053\n",
      "14  android.permission.RECEIVE_BOOT_COMPLETED                     5,675\n",
      "15  android.permission.CHANGE_WIFI_STATE                          5,069\n",
      "16  android.permission.READ_EXTERNAL_STORAGE                      3,202\n",
      "17  android.permission.RESTART_PACKAGES                           2,846\n",
      "18  android.permission.ACCESS_LOCATION_EXTRA_COMMANDS             2,798\n",
      "19  android.permission.WRITE_SETTINGS                             2,701\n",
      "20  android.permission.RECORD_AUDIO                               2,633\n",
      "21  android.permission.ACCESS_MOCK_LOCATION                       2,455\n",
      "22  com.android.launcher.permission.UNINSTALL_SHORTCUT            2,101\n",
      "23  android.permission.READ_LOGS                                  1,901\n",
      "24  android.permission.CAMERA                                     1,812\n",
      "25  android.permission.GET_ACCOUNTS                               1,504\n",
      "26  android.permission.SEND_SMS                                   1,448\n",
      "27  android.permission.CHANGE_NETWORK_STATE                       1,295\n",
      "28  com.android.launcher.permission.READ_SETTINGS                 1,275\n",
      "29  android.permission.DISABLE_KEYGUARD                           1,084\n",
      "30  android.permission.DOWNLOAD_WITHOUT_NOTIFICATION              1,045\n",
      "\n",
      "2016 year mal apk's permission ranking\n",
      "1   android.permission.INTERNET                                  16,151\n",
      "2   android.permission.ACCESS_NETWORK_STATE                      15,444\n",
      "3   android.permission.WRITE_EXTERNAL_STORAGE                    15,034\n",
      "4   android.permission.ACCESS_WIFI_STATE                         13,300\n",
      "5   android.permission.READ_PHONE_STATE                          13,263\n",
      "6   android.permission.SYSTEM_ALERT_WINDOW                        8,522\n",
      "7   android.permission.GET_TASKS                                  8,067\n",
      "8   android.permission.WAKE_LOCK                                  7,013\n",
      "9   android.permission.ACCESS_COARSE_LOCATION                     6,830\n",
      "10  android.permission.VIBRATE                                    5,831\n",
      "11  android.permission.ACCESS_FINE_LOCATION                       5,518\n",
      "12  com.android.launcher.permission.INSTALL_SHORTCUT              4,966\n",
      "13  android.permission.MOUNT_UNMOUNT_FILESYSTEMS                  4,887\n",
      "14  android.permission.CHANGE_WIFI_STATE                          4,829\n",
      "15  android.permission.RECEIVE_BOOT_COMPLETED                     4,608\n",
      "16  android.permission.READ_EXTERNAL_STORAGE                      4,537\n",
      "17  android.permission.WRITE_SETTINGS                             3,973\n",
      "18  android.permission.CAMERA                                     3,061\n",
      "19  android.permission.GET_ACCOUNTS                               2,872\n",
      "20  android.permission.READ_LOGS                                  2,650\n",
      "21  android.permission.RECORD_AUDIO                               2,599\n",
      "22  android.permission.CHANGE_NETWORK_STATE                       2,525\n",
      "23  android.permission.CALL_PHONE                                 1,882\n",
      "24  android.permission.RESTART_PACKAGES                           1,852\n",
      "25  com.android.launcher.permission.READ_SETTINGS                 1,712\n",
      "26  android.permission.MODIFY_AUDIO_SETTINGS                      1,520\n",
      "27  android.permission.SEND_SMS                                   1,440\n",
      "28  android.permission.BLUETOOTH                                  1,437\n",
      "29  android.permission.READ_CONTACTS                              1,416\n",
      "30  com.android.launcher.permission.UNINSTALL_SHORTCUT            1,410\n",
      "\n",
      "2017 year mal apk's permission ranking\n",
      "1   android.permission.INTERNET                                  12,021\n",
      "2   android.permission.ACCESS_NETWORK_STATE                      11,743\n",
      "3   android.permission.WRITE_EXTERNAL_STORAGE                     8,141\n",
      "4   android.permission.ACCESS_WIFI_STATE                          6,770\n",
      "5   android.permission.READ_PHONE_STATE                           6,050\n",
      "6   android.permission.WAKE_LOCK                                  5,347\n",
      "7   android.permission.ACCESS_COARSE_LOCATION                     4,947\n",
      "8   android.permission.ACCESS_FINE_LOCATION                       4,594\n",
      "9   android.permission.VIBRATE                                    4,443\n",
      "10  android.permission.READ_EXTERNAL_STORAGE                      4,418\n",
      "11  android.permission.GET_TASKS                                  3,795\n",
      "12  android.permission.CHANGE_WIFI_STATE                          3,686\n",
      "13  android.permission.SYSTEM_ALERT_WINDOW                        3,588\n",
      "14  android.permission.MOUNT_UNMOUNT_FILESYSTEMS                  3,523\n",
      "15  android.permission.WRITE_SETTINGS                             3,340\n",
      "16  android.permission.CAMERA                                     3,194\n",
      "17  android.permission.RECEIVE_BOOT_COMPLETED                     3,168\n",
      "18  android.permission.RECORD_AUDIO                               2,412\n",
      "19  android.permission.GET_ACCOUNTS                               2,404\n",
      "20  android.permission.READ_LOGS                                  2,392\n",
      "21  android.permission.CHANGE_NETWORK_STATE                       2,308\n",
      "22  android.permission.CALL_PHONE                                 1,831\n",
      "23  com.google.android.c2dm.permission.RECEIVE                    1,800\n",
      "24  android.permission.MODIFY_AUDIO_SETTINGS                      1,443\n",
      "25  android.permission.ACCESS_LOCATION_EXTRA_COMMANDS             1,429\n",
      "26  android.permission.BLUETOOTH                                  1,420\n",
      "27  android.permission.RECEIVE_USER_PRESENT                       1,347\n",
      "28  android.permission.MANAGE_ACCOUNTS                            1,332\n",
      "29  android.permission.READ_CONTACTS                              1,281\n",
      "30  com.android.launcher.permission.INSTALL_SHORTCUT              1,257\n",
      "\n",
      "2018 year mal apk's permission ranking\n",
      "1   android.permission.INTERNET                                  13,396\n",
      "2   android.permission.ACCESS_NETWORK_STATE                      13,241\n",
      "3   android.permission.WRITE_EXTERNAL_STORAGE                    11,333\n",
      "4   android.permission.ACCESS_WIFI_STATE                         10,782\n",
      "5   android.permission.READ_PHONE_STATE                           9,973\n",
      "6   android.permission.READ_EXTERNAL_STORAGE                      7,981\n",
      "7   android.permission.WAKE_LOCK                                  7,519\n",
      "8   android.permission.ACCESS_COARSE_LOCATION                     7,498\n",
      "9   android.permission.ACCESS_FINE_LOCATION                       7,297\n",
      "10  android.permission.VIBRATE                                    6,908\n",
      "11  android.permission.CHANGE_WIFI_STATE                          6,767\n",
      "12  android.permission.GET_TASKS                                  6,420\n",
      "13  android.permission.MOUNT_UNMOUNT_FILESYSTEMS                  6,195\n",
      "14  android.permission.CAMERA                                     5,988\n",
      "15  android.permission.WRITE_SETTINGS                             5,710\n",
      "16  android.permission.SYSTEM_ALERT_WINDOW                        5,296\n",
      "17  android.permission.CHANGE_NETWORK_STATE                       4,551\n",
      "18  android.permission.RECEIVE_BOOT_COMPLETED                     4,506\n",
      "19  android.permission.READ_LOGS                                  4,373\n",
      "20  android.permission.RECORD_AUDIO                               4,269\n",
      "21  android.permission.BLUETOOTH                                  3,217\n",
      "22  android.permission.ACCESS_LOCATION_EXTRA_COMMANDS             3,186\n",
      "23  android.permission.CALL_PHONE                                 3,175\n",
      "24  android.permission.GET_ACCOUNTS                               3,028\n",
      "25  android.permission.RECEIVE_USER_PRESENT                       3,020\n",
      "26  android.permission.MODIFY_AUDIO_SETTINGS                      2,772\n",
      "27  android.permission.FLASHLIGHT                                 2,249\n",
      "28  android.permission.READ_CONTACTS                              2,177\n",
      "29  android.permission.BLUETOOTH_ADMIN                            2,082\n",
      "30  android.permission.MANAGE_ACCOUNTS                            1,997\n",
      "\n",
      "2019 year mal apk's permission ranking\n",
      "1   android.permission.INTERNET                                  12,715\n",
      "2   android.permission.ACCESS_NETWORK_STATE                      12,652\n",
      "3   android.permission.WRITE_EXTERNAL_STORAGE                    11,969\n",
      "4   android.permission.ACCESS_WIFI_STATE                         11,811\n",
      "5   android.permission.READ_PHONE_STATE                          11,291\n",
      "6   android.permission.READ_EXTERNAL_STORAGE                      9,894\n",
      "7   android.permission.WAKE_LOCK                                  8,758\n",
      "8   android.permission.ACCESS_COARSE_LOCATION                     8,591\n",
      "9   android.permission.VIBRATE                                    8,538\n",
      "10  android.permission.ACCESS_FINE_LOCATION                       8,515\n",
      "11  android.permission.CHANGE_WIFI_STATE                          8,327\n",
      "12  android.permission.CAMERA                                     7,775\n",
      "13  android.permission.GET_TASKS                                  7,742\n",
      "14  android.permission.WRITE_SETTINGS                             6,926\n",
      "15  android.permission.MOUNT_UNMOUNT_FILESYSTEMS                  6,892\n",
      "16  android.permission.REQUEST_INSTALL_PACKAGES                   6,688\n",
      "17  android.permission.SYSTEM_ALERT_WINDOW                        6,620\n",
      "18  android.permission.CHANGE_NETWORK_STATE                       6,120\n",
      "19  android.permission.RECORD_AUDIO                               5,692\n",
      "20  android.permission.RECEIVE_BOOT_COMPLETED                     5,585\n",
      "21  android.permission.READ_LOGS                                  5,225\n",
      "22  android.permission.BLUETOOTH                                  4,849\n",
      "23  android.permission.ACCESS_LOCATION_EXTRA_COMMANDS             4,307\n",
      "24  android.permission.RECEIVE_USER_PRESENT                       4,225\n",
      "25  android.permission.CALL_PHONE                                 3,799\n",
      "26  android.permission.MODIFY_AUDIO_SETTINGS                      3,710\n",
      "27  android.permission.FLASHLIGHT                                 3,085\n",
      "28  android.permission.GET_ACCOUNTS                               2,859\n",
      "29  android.permission.BLUETOOTH_ADMIN                            2,827\n",
      "30  android.permission.READ_CONTACTS                              2,530\n",
      "\n",
      "2020 year mal apk's permission ranking\n",
      "1   android.permission.INTERNET                                  21,632\n",
      "2   android.permission.ACCESS_NETWORK_STATE                      21,604\n",
      "3   android.permission.WRITE_EXTERNAL_STORAGE                    20,346\n",
      "4   android.permission.ACCESS_WIFI_STATE                         19,672\n",
      "5   android.permission.READ_PHONE_STATE                          17,307\n",
      "6   android.permission.READ_EXTERNAL_STORAGE                     16,967\n",
      "7   android.permission.WAKE_LOCK                                 15,862\n",
      "8   android.permission.VIBRATE                                   14,234\n",
      "9   android.permission.ACCESS_COARSE_LOCATION                    13,921\n",
      "10  android.permission.ACCESS_FINE_LOCATION                      13,578\n",
      "11  android.permission.CHANGE_WIFI_STATE                         13,552\n",
      "12  android.permission.CAMERA                                    13,248\n",
      "13  android.permission.REQUEST_INSTALL_PACKAGES                  12,769\n",
      "14  android.permission.GET_TASKS                                 12,145\n",
      "15  android.permission.SYSTEM_ALERT_WINDOW                       10,700\n",
      "16  android.permission.RECEIVE_BOOT_COMPLETED                    10,380\n",
      "17  android.permission.MOUNT_UNMOUNT_FILESYSTEMS                 10,231\n",
      "18  android.permission.WRITE_SETTINGS                            10,118\n",
      "19  android.permission.CHANGE_NETWORK_STATE                       9,673\n",
      "20  android.permission.RECORD_AUDIO                               9,280\n",
      "21  android.permission.BLUETOOTH                                  8,753\n",
      "22  android.permission.READ_LOGS                                  6,734\n",
      "23  android.permission.MODIFY_AUDIO_SETTINGS                      6,676\n",
      "24  android.permission.ACCESS_LOCATION_EXTRA_COMMANDS             6,305\n",
      "25  android.permission.RECEIVE_USER_PRESENT                       6,154\n",
      "26  android.permission.FOREGROUND_SERVICE                         6,119\n",
      "27  android.permission.FLASHLIGHT                                 5,708\n",
      "28  android.permission.BLUETOOTH_ADMIN                            5,612\n",
      "29  android.permission.CALL_PHONE                                 5,512\n",
      "30  android.permission.GET_ACCOUNTS                               4,460\n",
      "\n",
      "2021 year mal apk's permission ranking\n",
      "1   android.permission.WRITE_EXTERNAL_STORAGE                     9,991\n",
      "2   android.permission.INTERNET                                   5,944\n",
      "3   android.permission.ACCESS_NETWORK_STATE                       5,868\n",
      "4   android.permission.WAKE_LOCK                                  5,001\n",
      "5   android.permission.ACCESS_WIFI_STATE                          4,912\n",
      "6   android.permission.READ_EXTERNAL_STORAGE                      4,816\n",
      "7   com.google.android.finsky.permission.BIND_GET_INSTALL_REFERRER_SERVICE  3,991\n",
      "8   android.permission.READ_PHONE_STATE                           3,932\n",
      "9   android.permission.RECEIVE_BOOT_COMPLETED                     3,834\n",
      "10  com.google.android.c2dm.permission.RECEIVE                    3,460\n",
      "11  android.permission.CHANGE_WIFI_STATE                          3,258\n",
      "12  android.permission.SYSTEM_ALERT_WINDOW                        3,215\n",
      "13  com.android.vending.BILLING                                   3,141\n",
      "14  android.permission.BLUETOOTH                                  3,056\n",
      "15  android.permission.BLUETOOTH_ADMIN                            2,754\n",
      "16  android.permission.GET_ACCOUNTS                               2,382\n",
      "17  com.android.alarm.permission.SET_ALARM                        2,064\n",
      "18  com.google.android.gms.permission.ACTIVITY_RECOGNITION        2,036\n",
      "19  com.android.browser.permission.READ_HISTORY_BOOKMARKS         2,030\n",
      "20  android.webkit.permission.PLUGIN                              2,023\n",
      "21  android.permission.ACCESS_COARSE_LOCATION                     1,983\n",
      "22  android.permission.VIBRATE                                    1,980\n",
      "23  android.permission.ACCESS_FINE_LOCATION                       1,954\n",
      "24  android.permission.CAMERA                                     1,954\n",
      "25  android.permission.FOREGROUND_SERVICE                         1,811\n",
      "26  android.permission.REQUEST_INSTALL_PACKAGES                   1,283\n",
      "27  android.permission.RECORD_AUDIO                               1,087\n",
      "28  android.permission.GET_TASKS                                  1,055\n",
      "29  android.permission.CHANGE_NETWORK_STATE                         994\n",
      "30  android.permission.MODIFY_AUDIO_SETTINGS                        860\n",
      "\n"
     ]
    }
   ],
   "source": [
    "for i in range(len(mal_perm)):\n",
    "    print(i+2014, \"year mal apk's permission ranking\")\n",
    "    for j in range(30):\n",
    "        print(\"{:<3} {:<60} {:>6,}\".format(j+1, mal_perm[i][\"Qunatity\"].sort_values(ascending=False).index[j], mal_perm[i][\"Qunatity\"].sort_values(ascending=False)[j]))\n",
    "    print()"
   ]
  },
  {
   "cell_type": "code",
   "execution_count": null,
   "metadata": {},
   "outputs": [],
   "source": []
  },
  {
   "cell_type": "code",
   "execution_count": null,
   "metadata": {},
   "outputs": [],
   "source": []
  },
  {
   "cell_type": "code",
   "execution_count": null,
   "metadata": {},
   "outputs": [],
   "source": []
  },
  {
   "cell_type": "code",
   "execution_count": null,
   "metadata": {},
   "outputs": [],
   "source": []
  },
  {
   "cell_type": "code",
   "execution_count": null,
   "metadata": {},
   "outputs": [],
   "source": []
  },
  {
   "cell_type": "code",
   "execution_count": null,
   "metadata": {},
   "outputs": [],
   "source": []
  }
 ],
 "metadata": {
  "kernelspec": {
   "display_name": "Python 3 (ipykernel)",
   "language": "python",
   "name": "python3"
  },
  "language_info": {
   "codemirror_mode": {
    "name": "ipython",
    "version": 3
   },
   "file_extension": ".py",
   "mimetype": "text/x-python",
   "name": "python",
   "nbconvert_exporter": "python",
   "pygments_lexer": "ipython3",
   "version": "3.8.5"
  }
 },
 "nbformat": 4,
 "nbformat_minor": 4
}
